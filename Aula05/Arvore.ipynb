{
 "cells": [
  {
   "cell_type": "markdown",
   "id": "cf7b6986",
   "metadata": {},
   "source": [
    "# Árvores em Teoria de Grafos\n",
    "Uma **árvore** é um tipo especial de grafo que possui as seguintes propriedades:\n",
    "- É um grafo conexo.\n",
    "- Não contém ciclos.\n",
    "- Para um grafo com  n  vértices, uma árvore possui exatamente  n-1  arestas.\n",
    "\n",
    "As árvores são amplamente utilizadas em ciência da computação, como em algoritmos de busca, estruturas de dados (árvores binárias, AVL, etc.), e redes de comunicação."
   ]
  },
  {
   "cell_type": "markdown",
   "id": "4c88b5b8",
   "metadata": {},
   "source": [
    "## Propriedades de Árvores\n",
    "1. Uma árvore com  n  vértices possui exatamente  n-1  arestas.\n",
    "2. Qualquer grafo conexo com  n-1  arestas é uma árvore.\n",
    "3. Uma árvore é um grafo minimamente conexo, ou seja, a remoção de qualquer aresta desconecta o grafo.\n",
    "4. Entre dois vértices de uma árvore, existe exatamente um caminho simples."
   ]
  },
  {
   "cell_type": "markdown",
   "id": "209942e2",
   "metadata": {},
   "source": [
    "## Exemplo de Implementação de Árvores em Python"
   ]
  },
  {
   "cell_type": "code",
   "execution_count": null,
   "id": "cda58459",
   "metadata": {},
   "outputs": [],
   "source": [
    "import networkx as nx\n",
    "import matplotlib.pyplot as plt\n",
    "\n",
    "# Criando uma árvore\n",
    "T = nx.Graph()\n",
    "T.add_edges_from([(1, 2), (1, 3), (2, 4), (2, 5), (3, 6), (3, 7)])\n",
    "\n",
    "# Desenhando a árvore\n",
    "nx.draw(T, with_labels=True, node_color='lightgreen', edge_color='gray', node_size=2000, font_size=15)\n",
    "plt.title(\"Árvore Exemplo\")\n",
    "plt.show()\n",
    "\n",
    "# Verificando se o grafo é uma árvore\n",
    "is_tree = nx.is_tree(T)\n",
    "print(f\"O grafo é uma árvore? {is_tree}\")"
   ]
  },
  {
   "cell_type": "markdown",
   "id": "84d46ac0",
   "metadata": {},
   "source": [
    "## Busca em Árvores\n",
    "Árvores são frequentemente usadas em algoritmos de busca, como:\n",
    "- **Busca em Profundidade (DFS)**\n",
    "- **Busca em Largura (BFS)**"
   ]
  },
  {
   "cell_type": "code",
   "execution_count": null,
   "id": "1252fd26",
   "metadata": {},
   "outputs": [],
   "source": [
    "# Busca em Profundidade (DFS)\n",
    "dfs = list(nx.dfs_edges(T, source=1))\n",
    "print(\"Busca em Profundidade (DFS):\", dfs)\n",
    "\n",
    "# Busca em Largura (BFS)\n",
    "bfs = list(nx.bfs_edges(T, source=1))\n",
    "print(\"Busca em Largura (BFS):\", bfs)"
   ]
  },
  {
   "cell_type": "markdown",
   "id": "c89fc561",
   "metadata": {},
   "source": [
    "## Árvores Geradoras Mínimas\n",
    "Uma **árvore geradora mínima** (MST - Minimum Spanning Tree) é uma subárvore de um grafo ponderado que conecta todos os vértices com o menor peso total possível.\n",
    "### Algoritmos para MST:\n",
    "- **Kruskal**\n",
    "- **Prim**"
   ]
  },
  {
   "cell_type": "code",
   "execution_count": null,
   "id": "6a6e0e8c",
   "metadata": {},
   "outputs": [],
   "source": [
    "# Criando um grafo ponderado\n",
    "G = nx.Graph()\n",
    "G.add_weighted_edges_from([\n",
    "    (1, 2, 4), (1, 3, 3), (2, 3, 2), (2, 4, 5), (3, 4, 1)\n",
    "])\n",
    "\n",
    "# Desenhando o grafo ponderado\n",
    "pos = nx.spring_layout(G)\n",
    "nx.draw(G, pos, with_labels=True, node_color='lightblue', edge_color='gray', node_size=2000, font_size=15)\n",
    "labels = nx.get_edge_attributes(G, 'weight')\n",
    "nx.draw_networkx_edge_labels(G, pos, edge_labels=labels)\n",
    "plt.title(\"Grafo Ponderado\")\n",
    "plt.show()\n",
    "\n",
    "# Calculando a Árvore Geradora Mínima (MST) usando Kruskal\n",
    "mst = nx.minimum_spanning_tree(G, algorithm='kruskal')\n",
    "nx.draw(mst, with_labels=True, node_color='lightgreen', edge_color='gray', node_size=2000, font_size=15)\n",
    "plt.title(\"Árvore Geradora Mínima (Kruskal)\")\n",
    "plt.show()"
   ]
  }
 ],
 "metadata": {
  "kernelspec": {
   "display_name": ".venv",
   "language": "python",
   "name": "python3"
  },
  "language_info": {
   "name": "python",
   "version": "3.13.2"
  }
 },
 "nbformat": 4,
 "nbformat_minor": 5
}
