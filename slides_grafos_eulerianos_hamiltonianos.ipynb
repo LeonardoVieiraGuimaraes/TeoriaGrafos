{
 "cells": [
  {
   "cell_type": "markdown",
   "id": "c5ad8078",
   "metadata": {},
   "source": [
    "# Grafos Eulerianos e Hamiltonianos"
   ]
  },
  {
   "cell_type": "markdown",
   "id": "407c41aa",
   "metadata": {},
   "source": [
    "## O que são Grafos?\n",
    "\n",
    "Um **grafo** é uma estrutura matemática composta por um conjunto de **vértices** (ou nós) e um conjunto de **arestas** que conectam pares de vértices. Grafos podem ser usados para modelar relações e conexões em diversas áreas, como redes de computadores, mapas de ruas, circuitos elétricos, entre outros.\n",
    "\n",
    "- **Vértices (nós):** Elementos ou pontos do grafo.\n",
    "- **Arestas:** Conexões entre os vértices.\n",
    "\n",
    "Existem vários tipos de grafos, como grafos direcionados, não direcionados, ponderados, completos, entre outros."
   ]
  },
  {
   "cell_type": "markdown",
   "id": "0abe8a47",
   "metadata": {},
   "source": [
    "## Definição Formal de Grafo\n",
    "\n",
    "Um grafo **G** é definido como um par ordenado:\n",
    "\n",
    "$$\n",
    "G = (V, E)\n",
    "$$\n",
    "\n",
    "onde:\n",
    "- $V$ é o conjunto de vértices.\n",
    "- $E$ é o conjunto de arestas, sendo cada aresta um par de vértices.\n",
    "\n",
    "Exemplo: $V = \\{A, B, C\\}$, $E = \\{(A, B), (B, C)\\}$"
   ]
  },
  {
   "cell_type": "markdown",
   "id": "44b15d80",
   "metadata": {},
   "source": [
    "## Grafo Euleriano\n",
    "\n",
    "### Definição\n",
    "\n",
    "Um **grafo euleriano** é um grafo em que existe um **ciclo euleriano**, ou seja, um ciclo fechado que percorre todas as arestas do grafo exatamente uma vez, retornando ao vértice inicial.\n",
    "\n",
    "- **Caminho euleriano:** Caminho que percorre todas as arestas uma única vez (não precisa ser fechado).\n",
    "- **Ciclo euleriano:** Caminho euleriano que começa e termina no mesmo vértice.\n",
    "\n",
    "### Características\n",
    "\n",
    "- Todos os vértices do grafo têm grau par (número de arestas incidentes).\n",
    "- O grafo deve ser conexo (exceto vértices isolados).\n",
    "\n",
    "### Teorema de Euler\n",
    "\n",
    "> Um grafo conexo é euleriano se, e somente se, todos os seus vértices têm grau par.\n",
    "\n",
    "#### Consequências:\n",
    "- Se exatamente dois vértices têm grau ímpar, existe um caminho euleriano (mas não um ciclo).\n",
    "- Se mais de dois vértices têm grau ímpar, não existe caminho euleriano.\n",
    "\n",
    "### Aplicações\n",
    "\n",
    "- Problema do carteiro chinês (roteirização de ruas).\n",
    "- Circuitos elétricos.\n",
    "- Desenho de figuras sem levantar o lápis (como a famosa ponte de Königsberg)."
   ]
  },
  {
   "cell_type": "markdown",
   "id": "9ef0b117",
   "metadata": {},
   "source": [
    "## Grafo Hamiltoniano\n",
    "\n",
    "### Definição\n",
    "\n",
    "Um **grafo hamiltoniano** é um grafo que possui um **ciclo hamiltoniano**, ou seja, um ciclo fechado que passa por todos os vértices do grafo exatamente uma vez, retornando ao vértice inicial.\n",
    "\n",
    "- **Caminho hamiltoniano:** Caminho que passa por todos os vértices uma única vez (não precisa ser fechado).\n",
    "- **Ciclo hamiltoniano:** Caminho hamiltoniano que começa e termina no mesmo vértice.\n",
    "\n",
    "### Características\n",
    "\n",
    "- Não existe um critério simples como no caso dos grafos eulerianos.\n",
    "- Existem teoremas que fornecem condições suficientes, mas não necessárias, para a existência de ciclos hamiltonianos.\n",
    "\n",
    "### Teorema de Dirac\n",
    "\n",
    "> Se um grafo simples com $n \\geq 3$ vértices tem grau de cada vértice maior ou igual a $n/2$, então ele é hamiltoniano.\n",
    "\n",
    "### Dificuldade\n",
    "\n",
    "- O problema de determinar se um grafo é hamiltoniano é **NP-completo**.\n",
    "- Não existe algoritmo eficiente conhecido para todos os casos.\n",
    "\n",
    "### Aplicações\n",
    "\n",
    "- Problema do caixeiro viajante (TSP).\n",
    "- Planejamento de rotas.\n",
    "- Bioinformática (montagem de genomas)."
   ]
  },
  {
   "cell_type": "markdown",
   "id": "ea9aae9a",
   "metadata": {},
   "source": [
    "## Exemplo Prático: Grafo Euleriano com NetworkX"
   ]
  },
  {
   "cell_type": "code",
   "execution_count": null,
   "id": "71a7a4dc",
   "metadata": {},
   "outputs": [],
   "source": [
    "import networkx as nx\n",
    "import matplotlib.pyplot as plt\n",
    "\n",
    "# Criando um grafo euleriano\n",
    "G = nx.Graph()\n",
    "edges = [(0,1), (1,2), (2,3), (3,0), (0,2), (1,3)]\n",
    "G.add_edges_from(edges)\n",
    "\n",
    "# Verificando se é euleriano\n",
    "print(\"É euleriano?\", nx.is_eulerian(G))\n",
    "\n",
    "# Encontrando ciclo euleriano\n",
    "ciclo = list(nx.eulerian_circuit(G))\n",
    "print(\"Ciclo Euleriano:\", ciclo)\n",
    "\n",
    "# Plotando o grafo\n",
    "nx.draw_circular(G, with_labels=True, node_color='lightblue', edge_color='gray')\n",
    "plt.title(\"Grafo Euleriano\")\n",
    "plt.show()"
   ]
  },
  {
   "cell_type": "markdown",
   "id": "c92c57d7",
   "metadata": {},
   "source": [
    "## Passos do Algoritmo de Euler\n",
    "\n",
    "1. Verifique se todos os vértices têm grau par.\n",
    "2. Escolha qualquer vértice para iniciar.\n",
    "3. Siga arestas não visitadas até retornar ao vértice inicial.\n",
    "4. Se restarem arestas não visitadas, repita o processo a partir de um vértice do ciclo já construído.\n",
    "\n",
    "### Detalhamento dos Passos\n",
    "\n",
    "- **Passo 1:** Calcule o grau de cada vértice. Se algum vértice tiver grau ímpar, não existe ciclo euleriano.\n",
    "- **Passo 2:** Inicie o percurso por qualquer vértice (em grafos eulerianos).\n",
    "- **Passo 3:** Sempre que possível, escolha uma aresta não visitada que não desconecte o grafo.\n",
    "- **Passo 4:** Se restarem arestas, repita o processo a partir de um vértice já visitado, integrando o novo ciclo ao ciclo principal."
   ]
  },
  {
   "cell_type": "markdown",
   "id": "fbb39f2d",
   "metadata": {},
   "source": [
    "## Exemplo Prático: Grafo Hamiltoniano com NetworkX"
   ]
  },
  {
   "cell_type": "code",
   "execution_count": null,
   "id": "1708971a",
   "metadata": {},
   "outputs": [],
   "source": [
    "import networkx as nx\n",
    "import matplotlib.pyplot as plt\n",
    "\n",
    "# Criando um grafo hamiltoniano (ciclo simples)\n",
    "H = nx.cycle_graph(5)\n",
    "\n",
    "# Função para encontrar ciclo hamiltoniano (força bruta)\n",
    "def hamiltonian_path(G, path=[]):\n",
    "    if not path:\n",
    "        path = [list(G.nodes)[0]]\n",
    "    if len(path) == len(G):\n",
    "        if G.has_edge(path[0], path[-1]):\n",
    "            return path + [path[0]]\n",
    "        else:\n",
    "            return None\n",
    "    for v in set(G.nodes) - set(path):\n",
    "        if G.has_edge(path[-1], v):\n",
    "            res = hamiltonian_path(G, path + [v])\n",
    "            if res:\n",
    "                return res\n",
    "    return None\n",
    "\n",
    "ciclo = hamiltonian_path(H)\n",
    "print(\"Ciclo Hamiltoniano:\", ciclo)\n",
    "\n",
    "# Plotando o grafo\n",
    "nx.draw_circular(H, with_labels=True, node_color='lightgreen', edge_color='gray')\n",
    "plt.title(\"Grafo Hamiltoniano\")\n",
    "plt.show()"
   ]
  },
  {
   "cell_type": "markdown",
   "id": "dba9452a",
   "metadata": {},
   "source": [
    "## Passos do Algoritmo Hamiltoniano (Backtracking)\n",
    "\n",
    "1. Escolha um vértice inicial.\n",
    "2. Adicione um vértice adjacente não visitado ao caminho.\n",
    "3. Repita até visitar todos os vértices.\n",
    "4. Verifique se o último vértice conecta ao inicial para formar um ciclo.\n",
    "\n",
    "### Detalhamento dos Passos\n",
    "\n",
    "- **Passo 1:** Escolha um vértice de partida.\n",
    "- **Passo 2:** Para cada vértice adjacente não visitado, adicione ao caminho e continue recursivamente.\n",
    "- **Passo 3:** Se todos os vértices forem visitados e o último vértice for adjacente ao inicial, um ciclo hamiltoniano foi encontrado.\n",
    "- **Passo 4:** Caso contrário, retroceda (backtracking) e tente outros caminhos possíveis."
   ]
  },
  {
   "cell_type": "markdown",
   "id": "d580252a",
   "metadata": {},
   "source": [
    "## Resumo\n",
    "\n",
    "- **Euleriano:** Percorre todas as arestas uma vez.\n",
    "- **Hamiltoniano:** Percorre todos os vértices uma vez.\n",
    "- **NetworkX** facilita a verificação e visualização desses conceitos."
   ]
  }
 ],
 "metadata": {
  "language_info": {
   "name": "python"
  }
 },
 "nbformat": 4,
 "nbformat_minor": 5
}
