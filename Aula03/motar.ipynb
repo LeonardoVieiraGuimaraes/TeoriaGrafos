{
 "cells": [
  {
   "cell_type": "code",
   "execution_count": null,
   "metadata": {},
   "outputs": [],
   "source": []
  },
  {
   "cell_type": "markdown",
   "metadata": {},
   "source": [
    "## Operador União em Grafos\n",
    "O operador união em grafos combina dois grafos em um único grafo que contém todos os vértices e arestas dos grafos originais. \n",
    "Formalmente, a união de dois grafos G1 = (V1, E1) e G2 = (V2, E2) é um grafo G = (V, E), onde V = V1 ∪ V2 e E = E1 ∪ E2."
   ]
  },
  {
   "cell_type": "markdown",
   "metadata": {},
   "source": [
    "## Operador Interseção em Grafos\n",
    "O operador interseção em grafos cria um novo grafo que contém apenas os vértices e arestas que estão presentes em ambos os grafos originais. \n",
    "Formalmente, a interseção de dois grafos G1 = (V1, E1) e G2 = (V2, E2) é um grafo G = (V, E), onde V = V1 ∩ V2 e E = E1 ∩ E2."
   ]
  },
  {
   "cell_type": "markdown",
   "metadata": {},
   "source": [
    "## Operador Junção em Grafos\n",
    "O operador junção em grafos cria um novo grafo que contém todos os vértices dos grafos originais e adiciona arestas entre todos os pares de vértices que pertencem a diferentes grafos originais. \n",
    "Formalmente, a junção de dois grafos G1 = (V1, E1) e G2 = (V2, E2) é um grafo G = (V, E), onde V = V1 ∪ V2 e E = E1 ∪ E2 ∪ {(u, v) | u ∈ V1, v ∈ V2}."
   ]
  },
  {
   "cell_type": "markdown",
   "metadata": {},
   "source": [
    "## Operador Soma Direta em Grafos\n",
    "O operador soma direta em grafos cria um novo grafo que contém todos os vértices e arestas dos grafos originais, sem adicionar arestas entre vértices de diferentes grafos. \n",
    "Formalmente, a soma direta de dois grafos G1 = (V1, E1) e G2 = (V2, E2) é um grafo G = (V, E), onde V = V1 ∪ V2 e E = E1 ∪ E2."
   ]
  },
  {
   "cell_type": "markdown",
   "metadata": {},
   "source": [
    "## Operador Junção Direta (ou Soma Direta) em Grafos\n",
    "O operador junção direta (ou soma direta) em grafos cria um novo grafo que contém todos os vértices e arestas dos grafos originais, sem adicionar arestas entre vértices de diferentes grafos. \n",
    "Formalmente, a junção direta de dois grafos G1 = (V1, E1) e G2 = (V2, E2) é um grafo G = (V, E), onde V = V1 ∪ V2 e E = E1 ∪ E2."
   ]
  },
  {
   "cell_type": "markdown",
   "metadata": {},
   "source": [
    "## Operador Produto em Grafos\n",
    "O operador produto em grafos cria um novo grafo a partir de dois grafos originais, onde os vértices do novo grafo são pares ordenados de vértices dos grafos originais e as arestas são definidas de acordo com um tipo específico de produto (cartesiano, tensorial, forte, etc.). \n",
    "Por exemplo, no produto cartesiano de dois grafos G1 = (V1, E1) e G2 = (V2, E2), o novo grafo G = (V, E) tem V = V1 × V2 e E = {((u1, v1), (u2, v2)) | (u1 = u2 e (v1, v2) ∈ E2) ou ((u1, u2) ∈ E1 e v1 = v2)}.## Operador Produto em Grafos\n",
    "O operador produto em grafos cria um novo grafo a partir de dois grafos originais, onde os vértices do novo grafo são pares ordenados de vértices dos grafos originais e as arestas são definidas de acordo com um tipo específico de produto (cartesiano, tensorial, forte, etc.). \n",
    "Por exemplo, no produto cartesiano de dois grafos G1 = (V1, E1) e G2 = (V2, E2), o novo grafo G = (V, E) tem V = V1 × V2 e E = {((u1, v1), (u2, v2)) | (u1 = u2 e (v1, v2) ∈ E2) ou ((u1, u2) ∈ E1 e v1 = v2)}."
   ]
  },
  {
   "cell_type": "code",
   "execution_count": null,
   "metadata": {},
   "outputs": [],
   "source": [
    "import networkx as nx\n",
    "import matplotlib.pyplot as plt\n",
    "\n",
    "# Criar o primeiro grafo\n",
    "G1 = nx.Graph()\n",
    "G1.add_edges_from([(0, 1), (0, 3), (1, 5), (2, 3), (2, 4), (3, 4), (4, 5)])\n",
    "\n",
    "# Criar o segundo grafo\n",
    "G2 = nx.Graph()\n",
    "G2.add_edges_from([(1, 4), (1, 6), (3, 6), (3, 4), (3, 5), (3, 7), (4, 5), (5, 7), (6, 7)])\n",
    "\n",
    "# Interseção dos grafos\n",
    "G_intersection = nx.intersection(G1, G2)\n",
    "\n",
    "# Desenhar o grafo resultante\n",
    "nx.draw(G_intersection, with_labels=True)\n",
    "plt.show()\n",
    "\n",
    "# Vértices e arestas da interseção\n",
    "vertices = G_intersection.nodes()\n",
    "arestas = G_intersection.edges()\n",
    "print(f\"Vértices da interseção: {list(vertices)}\")\n",
    "print(f\"Arestas da interseção: {list(arestas)}\")"
   ]
  }
 ],
 "metadata": {
  "kernelspec": {
   "display_name": ".venv",
   "language": "python",
   "name": "python3"
  },
  "language_info": {
   "codemirror_mode": {
    "name": "ipython",
    "version": 3
   },
   "file_extension": ".py",
   "mimetype": "text/x-python",
   "name": "python",
   "nbconvert_exporter": "python",
   "pygments_lexer": "ipython3",
   "version": "3.13.2"
  }
 },
 "nbformat": 4,
 "nbformat_minor": 2
}
