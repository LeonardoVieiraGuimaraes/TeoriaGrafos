{
 "cells": [
  {
   "cell_type": "markdown",
   "metadata": {},
   "source": [
    "## Exemplo de Decomposição de Grafo\n",
    "\n",
    "Grafo original $G$:\n",
    "\n",
    "- **Vértices**: $V = \\{1, 2, 3, 4\\}$\n",
    "- **Arestas**: $E = \\{\\{1, 2\\}, \\{2, 3\\}, \\{3, 4\\}, \\{4, 1\\}\\}$\n",
    "\n",
    "Decomposição do grafo $G$ em dois subgrafos $G_1$ e $G_2$:\n",
    "\n",
    "- **Subgrafo $G_1$**:\n",
    "  - **Vértices**: $V_1 = \\{1, 2, 3\\}$\n",
    "  - **Arestas**: $A_1 = \\{\\{1, 2\\}, \\{2, 3\\}\\}$\n",
    "\n",
    "- **Subgrafo $G_2$**:\n",
    "  - **Vértices**: $V_2 = \\{3, 4, 1\\}$\n",
    "  - **Arestas**: $A_2 = \\{\\{3, 4\\}, \\{4, 1\\}\\}$\n",
    "\n",
    "Os subgrafos $G_1$ e $G_2$ compartilham o vértice $3$, mas não compartilham arestas."
   ]
  }
 ],
 "metadata": {
  "kernelspec": {
   "display_name": ".venv",
   "language": "python",
   "name": "python3"
  },
  "language_info": {
   "codemirror_mode": {
    "name": "ipython",
    "version": 3
   },
   "file_extension": ".py",
   "mimetype": "text/x-python",
   "name": "python",
   "nbconvert_exporter": "python",
   "pygments_lexer": "ipython3",
   "version": "3.13.2"
  }
 },
 "nbformat": 4,
 "nbformat_minor": 2
}
