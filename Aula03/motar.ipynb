{
 "cells": [
  {
   "cell_type": "code",
   "execution_count": null,
   "metadata": {},
   "outputs": [],
   "source": []
  },
  {
   "cell_type": "markdown",
   "metadata": {},
   "source": [
    "## Operador Complemento em Grafos\n",
    "O operador complemento em grafos cria um novo grafo a partir de um grafo original, onde os vértices permanecem os mesmos, mas as arestas são invertidas. \n",
    "Ou seja, se dois vértices estão conectados no grafo original, eles não estarão conectados no complemento, e vice-versa. \n",
    "Formalmente, o complemento de um grafo G = (V, E) é um grafo G' = (V, E'), onde E' = {(u, v) | u, v ∈ V e (u, v) ∉ E}."
   ]
  },
  {
   "cell_type": "code",
   "execution_count": null,
   "metadata": {},
   "outputs": [],
   "source": [
    "import networkx as nx\n",
    "import matplotlib.pyplot as plt\n",
    "\n",
    "# Criar o primeiro grafo\n",
    "G1 = nx.Graph()\n",
    "G1.add_edges_from([(0, 1), (0, 3), (1, 5), (2, 3), (2, 4), (3, 4), (4, 5)])\n",
    "\n",
    "# Criar o segundo grafo\n",
    "G2 = nx.Graph()\n",
    "G2.add_edges_from([(1, 4), (1, 6), (3, 6), (3, 4), (3, 5), (3, 7), (4, 5), (5, 7), (6, 7)])\n",
    "\n",
    "# Interseção dos grafos\n",
    "G_intersection = nx.intersection(G1, G2)\n",
    "\n",
    "# Desenhar o grafo resultante\n",
    "nx.draw(G_intersection, with_labels=True)\n",
    "plt.show()\n",
    "\n",
    "# Vértices e arestas da interseção\n",
    "vertices = G_intersection.nodes()\n",
    "arestas = G_intersection.edges()\n",
    "print(f\"Vértices da interseção: {list(vertices)}\")\n",
    "print(f\"Arestas da interseção: {list(arestas)}\")"
   ]
  },
  {
   "cell_type": "markdown",
   "metadata": {},
   "source": [
    "## Observações sobre Subgrafos\n",
    "As seguintes observações podem ser feitas:\n",
    "- Todo grafo é um subgrafo de si próprio.\n",
    "- Um subgrafo de um subgrafo de um grafo $G$ também é um subgrafo de $G$.\n",
    "- Um vértice de um grafo $G$ é um subgrafo de $G$.\n",
    "- Uma aresta (e os vértices aos quais ela é incidente) de um grafo $G$ é um subgrafo de $G$.\n",
    "\n",
    "## Definição\n",
    "Dois subgrafos de um grafo $G$, $G_1 = (V_1, E_1)$ e $G_2 = (V_2, E_2)$, são **aresta-disjuntos** se eles não possuem arestas em comum, ou seja, $E_1 \\cap E_2 = \\emptyset$. \n",
    "Se $V_1 \\cap V_2 = \\emptyset$, os dois subgrafos são chamados de **vértice-disjuntos**."
   ]
  }
 ],
 "metadata": {
  "kernelspec": {
   "display_name": ".venv",
   "language": "python",
   "name": "python3"
  },
  "language_info": {
   "codemirror_mode": {
    "name": "ipython",
    "version": 3
   },
   "file_extension": ".py",
   "mimetype": "text/x-python",
   "name": "python",
   "nbconvert_exporter": "python",
   "pygments_lexer": "ipython3",
   "version": "3.13.2"
  }
 },
 "nbformat": 4,
 "nbformat_minor": 2
}
