{
 "cells": [
  {
   "cell_type": "markdown",
   "id": "4ba67228",
   "metadata": {},
   "source": [
    "# Grafos Eulerianos\n",
    "\n",
    "No início do curso estudamos o problema das Pontes de Königsberg, representado pelo seguinte grafo:\n",
    "\n",
    "```\n",
    "A---B\n",
    "|   |\n",
    "C---D\n",
    "```\n",
    "\n",
    "O objetivo era descobrir se é possível fazer um passeio pela cidade, começando e terminando no mesmo lugar e passando por cada uma das pontes apenas uma vez.\n",
    "\n",
    "Em termos de grafos, isso significa encontrar um trajeto fechado que inclua todas as arestas do grafo."
   ]
  },
  {
   "cell_type": "markdown",
   "id": "653cabe4",
   "metadata": {},
   "source": [
    "## Introdução\n",
    "\n",
    "No início do curso nós estudamos o problema das Pontes de Königsberg e representamos o problema através do seguinte grafo:\n",
    "\n",
    "```\n",
    "A\n",
    "C\n",
    "B\n",
    "D\n",
    "```\n",
    "\n",
    "Queríamos saber se é possível fazer um passeio pela cidade, começando e terminando no mesmo lugar e passando por cada uma das pontes apenas uma vez.\n",
    "\n",
    "Em outras palavras, queríamos encontrar no grafo acima um trajeto fechado que incluísse todas as arestas do grafo."
   ]
  },
  {
   "cell_type": "markdown",
   "id": "2c8eafaf",
   "metadata": {},
   "source": [
    "## Definição\n",
    "\n",
    "Um trajeto que inclua todas as arestas de um dado grafo $G(V, A)$ é chamado de **trajeto euleriano**.\n",
    "\n",
    "Seja $G$ um grafo conexo. Dizemos que $G$ é **euleriano** se possui um trajeto euleriano fechado (ou seja, um ciclo euleriano).\n",
    "\n",
    "Um grafo $G$ não-euleriano é dito ser **semi-euleriano** se possui um trajeto euleriano (não necessariamente fechado).\n",
    "\n",
    "**Observação:**  \n",
    "Em um grafo euleriano, cada aresta é percorrida uma, e uma única, vez."
   ]
  },
  {
   "cell_type": "markdown",
   "id": "9b3ce0dd",
   "metadata": {},
   "source": [
    "### Exemplos\n",
    "\n",
    "A seguir temos exemplos de grafos euleriano, semi-euleriano e não-euleriano:\n",
    "\n",
    "- **Euleriano:** Todos os vértices têm grau par e o grafo é conexo.\n",
    "- **Semi-euleriano:** Exatamente dois vértices têm grau ímpar e o grafo é conexo.\n",
    "- **Não-euleriano:** Mais de dois vértices têm grau ímpar ou o grafo não é conexo."
   ]
  },
  {
   "cell_type": "markdown",
   "id": "6f3faa9f",
   "metadata": {},
   "source": [
    "## Resultado Auxiliar\n",
    "\n",
    "### Lema\n",
    "\n",
    "Se $G(V, A)$ é um grafo tal que $d(v) \\geq 2$ para todo $v \\in V$, então $G$ contém um ciclo.\n",
    "\n",
    "**Demonstração:**  \n",
    "Se $G$ possui laços ou arestas paralelas, não há o que provar.  \n",
    "Vamos supor que $G$ é um grafo simples. Seja $v_0 \\in V$ um vértice arbitrário de $G$. Como $d(v) \\geq 2$ para todo $v \\in V$, podemos construir um passeio $v_0 \\to v_1 \\to v_2 \\to \\ldots$ indutivamente, escolhendo $v_{i+1}$ como sendo qualquer vértice adjacente a $v_i$ exceto $v_{i-1}$.\n",
    "\n",
    "Como $G$ possui uma quantidade finita de vértices, em algum momento escolheremos algum vértice, digamos $v_k$, pela segunda vez.  \n",
    "A parte do passeio entre a primeira e a segunda ocorrência de $v_k$ constitui um ciclo."
   ]
  },
  {
   "cell_type": "markdown",
   "id": "dcffbfc4",
   "metadata": {},
   "source": [
    "## Condição Necessária e Suficiente\n",
    "\n",
    "### Teorema (Euler, 1736)\n",
    "\n",
    "Um grafo conexo $G(V, A)$ é euleriano se, e somente se, o grau de cada vértice de $G$ é par.\n",
    "\n",
    "**Demonstração ($\\Rightarrow$):**  \n",
    "Seja $T$ um trajeto euleriano fechado de $G$. Cada vez que um vértice $v$ ocorre no trajeto $T$, há uma contribuição de duas unidades para o grau de $v$ (uma aresta para chegar a $v$ e outra para sair).  \n",
    "Isto vale não só para os vértices intermediários mas também para o vértice final, pois “saímos” e “entramos” no mesmo vértice no início e no final do trajeto.  \n",
    "Como cada aresta ocorre exatamente uma vez em $T$, cada vértice possui grau par."
   ]
  },
  {
   "cell_type": "markdown",
   "id": "e80540f9",
   "metadata": {},
   "source": [
    "**Demonstração ($\\Leftarrow$):**  \n",
    "A prova é por indução no número de arestas de $G$. Suponhamos que o grau de cada vértice de $G$ é par. Como $G$ é conexo, $d(v) \\geq 2$ para todo $v \\in V$. Segue então do lema anterior que $G$ contém um ciclo $C$.\n",
    "\n",
    "Se $C$ contém todas as arestas de $G$, o teorema está provado.  \n",
    "Se não, removemos de $G$ as arestas de $C$, resultando num grafo $H$, possivelmente desconexo, com menos arestas do que $G$."
   ]
  },
  {
   "cell_type": "markdown",
   "id": "fc1f7ac4",
   "metadata": {},
   "source": [
    "É fácil ver que todos os vértices de $H$ possuem grau par. Logo, pela hipótese de indução, cada componente de $H$ possui um trajeto euleriano fechado.\n",
    "\n",
    "Além disso, pela conexidade de $G$, cada componente de $H$ possui ao menos um vértice em comum com $C$.\n",
    "\n",
    "Portanto, concatenando os trajetos eulerianos fechados de cada componente de $H$ com o ciclo $C$, obtemos um trajeto euleriano fechado em $G$, ou seja, $G$ é um grafo euleriano."
   ]
  },
  {
   "cell_type": "markdown",
   "id": "55199be6",
   "metadata": {},
   "source": [
    "## Corolários\n",
    "\n",
    "- Um grafo conexo é euleriano se, e somente se, ele pode ser decomposto em circuitos disjuntos:\n",
    "  $$\n",
    "  G = \\bigcup_i C_i, \\quad C_i \\cap C_j = \\text{grafo nulo}\n",
    "  $$\n",
    "\n",
    "- Um grafo conexo é semi-euleriano se, e somente se, possui exatamente dois vértices de grau ímpar."
   ]
  },
  {
   "cell_type": "markdown",
   "id": "a0646ebd",
   "metadata": {},
   "source": [
    "## Algoritmo de Decomposição (Hierholzer, 1873)\n",
    "\n",
    "Considere um grafo conexo $G(V, A)$, onde $d(v)$ é par para todo $v \\in V$.\n",
    "\n",
    "**Passos:**\n",
    "1. Determine um circuito $C_1$ em $G$. Defina $T_1 = C_1$ e $G_1 = G$.\n",
    "   - Se $T_1$ possui todas as arestas de $G$, pare. $T_1$ é o trajeto procurado.\n",
    "   - Tome $k = 1$.\n",
    "2. Faça $k = k + 1$. Construa o subgrafo $G_k = (V_k, A_k)$ removendo de $G_{k-1}$ as arestas pertencentes a $T_{k-1}$. Remova de $G_k$ os vértices isolados.\n",
    "3. Determine um vértice $v \\in V_k \\cap V_{k-1}$. A partir de $v$, determine um circuito $C_k$ em $G_k$.\n",
    "4. Defina $T_k = T_{k-1} \\cup C_k$.\n",
    "   - Se $T_k$ possui todas as arestas de $G$, vá para o Passo 5.\n",
    "   - Caso contrário, retorne ao Passo 2.\n",
    "5. Pare. $T_k$ é o trajeto procurado e $G = \\bigcup_{i=1}^k C_i$."
   ]
  },
  {
   "cell_type": "markdown",
   "id": "fae894b4",
   "metadata": {},
   "source": [
    "## Algoritmo de Fleury (Fleury, 1883)\n",
    "\n",
    "Considere um grafo conexo $G(V, A)$, onde $d(v)$ é par para todo $v \\in V$.\n",
    "\n",
    "**Procedimento:**\n",
    "- Comece em qualquer vértice $v$ e percorra as arestas de forma aleatória, seguindo sempre as seguintes regras:\n",
    "  - Exclua as arestas depois de passar por elas;\n",
    "  - Exclua os vértices isolados, caso ocorram;\n",
    "  - Passe por uma ponte somente se não houver outra alternativa."
   ]
  },
  {
   "cell_type": "code",
   "execution_count": 10,
   "id": "41c4a408",
   "metadata": {},
   "outputs": [
    {
     "name": "stdout",
     "output_type": "stream",
     "text": [
      "É euleriano? False\n"
     ]
    },
    {
     "ename": "NetworkXError",
     "evalue": "G is not Eulerian.",
     "output_type": "error",
     "traceback": [
      "\u001b[1;31m---------------------------------------------------------------------------\u001b[0m",
      "\u001b[1;31mNetworkXError\u001b[0m                             Traceback (most recent call last)",
      "Cell \u001b[1;32mIn[10], line 10\u001b[0m\n\u001b[0;32m      7\u001b[0m G\u001b[38;5;241m.\u001b[39madd_edges_from(edges)\n\u001b[0;32m      9\u001b[0m \u001b[38;5;28mprint\u001b[39m(\u001b[38;5;124m\"\u001b[39m\u001b[38;5;124mÉ euleriano?\u001b[39m\u001b[38;5;124m\"\u001b[39m, nx\u001b[38;5;241m.\u001b[39mis_eulerian(G))\n\u001b[1;32m---> 10\u001b[0m \u001b[38;5;28mprint\u001b[39m(\u001b[38;5;124m\"\u001b[39m\u001b[38;5;124mCiclo euleriano:\u001b[39m\u001b[38;5;124m\"\u001b[39m, \u001b[38;5;28;43mlist\u001b[39;49m\u001b[43m(\u001b[49m\u001b[43mnx\u001b[49m\u001b[38;5;241;43m.\u001b[39;49m\u001b[43meulerian_circuit\u001b[49m\u001b[43m(\u001b[49m\u001b[43mG\u001b[49m\u001b[43m)\u001b[49m\u001b[43m)\u001b[49m)\n\u001b[0;32m     12\u001b[0m nx\u001b[38;5;241m.\u001b[39mdraw_circular(G, with_labels\u001b[38;5;241m=\u001b[39m\u001b[38;5;28;01mTrue\u001b[39;00m, node_color\u001b[38;5;241m=\u001b[39m\u001b[38;5;124m'\u001b[39m\u001b[38;5;124mlightblue\u001b[39m\u001b[38;5;124m'\u001b[39m)\n\u001b[0;32m     13\u001b[0m plt\u001b[38;5;241m.\u001b[39mshow()\n",
      "File \u001b[1;32md:\\GitHub\\NewtonPaiva\\TeoriaGrafos\\.venv\\Lib\\site-packages\\networkx\\algorithms\\euler.py:222\u001b[0m, in \u001b[0;36meulerian_circuit\u001b[1;34m(G, source, keys)\u001b[0m\n\u001b[0;32m    160\u001b[0m \u001b[38;5;250m\u001b[39m\u001b[38;5;124;03m\"\"\"Returns an iterator over the edges of an Eulerian circuit in `G`.\u001b[39;00m\n\u001b[0;32m    161\u001b[0m \n\u001b[0;32m    162\u001b[0m \u001b[38;5;124;03mAn *Eulerian circuit* is a closed walk that includes each edge of a\u001b[39;00m\n\u001b[1;32m   (...)\u001b[0m\n\u001b[0;32m    219\u001b[0m \n\u001b[0;32m    220\u001b[0m \u001b[38;5;124;03m\"\"\"\u001b[39;00m\n\u001b[0;32m    221\u001b[0m \u001b[38;5;28;01mif\u001b[39;00m \u001b[38;5;129;01mnot\u001b[39;00m is_eulerian(G):\n\u001b[1;32m--> 222\u001b[0m     \u001b[38;5;28;01mraise\u001b[39;00m nx\u001b[38;5;241m.\u001b[39mNetworkXError(\u001b[38;5;124m\"\u001b[39m\u001b[38;5;124mG is not Eulerian.\u001b[39m\u001b[38;5;124m\"\u001b[39m)\n\u001b[0;32m    223\u001b[0m \u001b[38;5;28;01mif\u001b[39;00m G\u001b[38;5;241m.\u001b[39mis_directed():\n\u001b[0;32m    224\u001b[0m     G \u001b[38;5;241m=\u001b[39m G\u001b[38;5;241m.\u001b[39mreverse()\n",
      "\u001b[1;31mNetworkXError\u001b[0m: G is not Eulerian."
     ]
    }
   ],
   "source": [
    "# Exemplo de grafo euleriano usando networkx\n",
    "import networkx as nx\n",
    "import matplotlib.pyplot as plt\n",
    "\n",
    "G = nx.Graph()\n",
    "edges = [(1,2), (2,3), (3,4), (4,1), (1,3), (2,4)]\n",
    "G.add_edges_from(edges)\n",
    "\n",
    "print(\"É euleriano?\", nx.is_eulerian(G))\n",
    "print(\"Ciclo euleriano:\", list(nx.eulerian_circuit(G)))\n",
    "\n",
    "nx.draw_circular(G, with_labels=True, node_color='lightblue')\n",
    "plt.show()"
   ]
  },
  {
   "cell_type": "code",
   "execution_count": null,
   "id": "7a6f1787",
   "metadata": {},
   "outputs": [],
   "source": [
    "# Exemplo de grafo semi-euleriano usando networkx\n",
    "G2 = nx.Graph()\n",
    "edges2 = [(1,2), (2,3), (3,4), (4,1), (1,3)]\n",
    "G2.add_edges_from(edges2)\n",
    "\n",
    "print(\"É euleriano?\", nx.is_eulerian(G2))\n",
    "print(\"É semi-euleriano?\", nx.has_eulerian_path(G2))\n",
    "print(\"Caminho euleriano:\", list(nx.eulerian_path(G2)))\n",
    "\n",
    "nx.draw_circular(G2, with_labels=True, node_color='lightgreen')\n",
    "plt.show()"
   ]
  },
  {
   "cell_type": "code",
   "execution_count": null,
   "id": "f8e582dd",
   "metadata": {},
   "outputs": [],
   "source": [
    "# Exemplo de grafo não-euleriano usando networkx\n",
    "G3 = nx.Graph()\n",
    "edges3 = [(1,2), (2,3), (3,4)]\n",
    "G3.add_edges_from(edges3)\n",
    "\n",
    "print(\"É euleriano?\", nx.is_eulerian(G3))\n",
    "print(\"É semi-euleriano?\", nx.has_eulerian_path(G3))\n",
    "\n",
    "nx.draw_circular(G3, with_labels=True, node_color='salmon')\n",
    "plt.show()"
   ]
  },
  {
   "cell_type": "markdown",
   "id": "f0be0cb4",
   "metadata": {},
   "source": [
    "## Exemplo\n",
    "\n",
    "Aplique o Algoritmo de Fleury para encontrar um trajeto euleriano no grafo abaixo a partir do vértice 5.\n",
    "\n",
    "*(Desenhe ou descreva o grafo conforme necessário para o exercício.)*"
   ]
  },
  {
   "cell_type": "code",
   "execution_count": null,
   "id": "1d664ac5",
   "metadata": {},
   "outputs": [],
   "source": [
    "# Exemplo prático do Algoritmo de Fleury usando networkx\n",
    "G4 = nx.Graph()\n",
    "edges4 = [(1,2), (2,3), (3,4), (4,1), (1,3), (2,4)]\n",
    "G4.add_edges_from(edges4)\n",
    "\n",
    "# Algoritmo de Fleury (usando eulerian_circuit do networkx)\n",
    "circuit = list(nx.eulerian_circuit(G4, source=1))\n",
    "print(\"Trajeto euleriano pelo Algoritmo de Fleury:\", circuit)\n",
    "\n",
    "nx.draw_circular(G4, with_labels=True, node_color='lightblue')\n",
    "plt.show()"
   ]
  },
  {
   "cell_type": "markdown",
   "id": "e3a519b5",
   "metadata": {},
   "source": [
    "## 2. Digrafos Eulerianos\n",
    "\n",
    "### Definição\n",
    "\n",
    "Um trajeto orientado que inclua todas as arestas de um dado digrafo $G(V, A)$ é chamado de **trajeto euleriano**.\n",
    "\n",
    "Seja $G$ um digrafo conexo (fortemente ou fracamente). Dizemos que $G$ é **euleriano** se possui um trajeto euleriano fechado.\n",
    "\n",
    "Um digrafo $G$ não-euleriano é dito ser **semi-euleriano** se possui um trajeto euleriano.\n",
    "\n",
    "### Teorema de Euler para digrafos\n",
    "\n",
    "Um digrafo $D(V, A)$ é euleriano se, e somente se, $D$ é balanceado, ou seja, $d^-(v) = d^+(v)$ para todo $v \\in V$.\n",
    "\n",
    "**Corolário:**  \n",
    "Um digrafo $D(V, A)$ é semi-euleriano se, e somente se, existem dois vértices $x, y \\in V$ tais que  \n",
    "$d^+(x) - d^-(x) = 1$, $d^-(y) - d^+(y) = 1$  \n",
    "e  \n",
    "$d^-(v) = d^+(v)$ para todo $v \\in V \\setminus \\{x, y\\}$.\n",
    "\n",
    "**Demonstrações:** Exercício.\n",
    "\n",
    "### Exercícios\n",
    "\n",
    "Determine se os digrafos abaixo são eulerianos ou semi-eulerianos (em caso positivo, exiba os trajetos euleriano e semi-euleriano)."
   ]
  },
  {
   "cell_type": "code",
   "execution_count": null,
   "id": "de23da59",
   "metadata": {},
   "outputs": [],
   "source": [
    "# Exemplo de digrafo euleriano usando networkx\n",
    "import networkx as nx\n",
    "import matplotlib.pyplot as plt\n",
    "\n",
    "DG = nx.DiGraph()\n",
    "edges = [(1,2), (2,3), (3,4), (4,1)]\n",
    "DG.add_edges_from(edges)\n",
    "\n",
    "print(\"É euleriano?\", nx.is_eulerian(DG))\n",
    "print(\"Ciclo euleriano:\", list(nx.eulerian_circuit(DG)))\n",
    "\n",
    "nx.draw_circular(DG, with_labels=True, node_color='lightblue', arrows=True)\n",
    "plt.show()"
   ]
  },
  {
   "cell_type": "code",
   "execution_count": null,
   "id": "9ffbc285",
   "metadata": {},
   "outputs": [],
   "source": [
    "# Exemplo de digrafo semi-euleriano usando networkx\n",
    "DG2 = nx.DiGraph()\n",
    "edges2 = [(1,2), (2,3), (3,1), (1,4)]\n",
    "DG2.add_edges_from(edges2)\n",
    "\n",
    "print(\"É euleriano?\", nx.is_eulerian(DG2))\n",
    "print(\"É semi-euleriano?\", nx.has_eulerian_path(DG2))\n",
    "print(\"Caminho euleriano:\", list(nx.eulerian_path(DG2)))\n",
    "\n",
    "nx.draw_circular(DG2, with_labels=True, node_color='lightgreen', arrows=True)\n",
    "plt.show()"
   ]
  },
  {
   "cell_type": "code",
   "execution_count": null,
   "id": "1a94ecb3",
   "metadata": {},
   "outputs": [],
   "source": [
    "# Exemplo de digrafo não-euleriano usando networkx\n",
    "DG3 = nx.DiGraph()\n",
    "edges3 = [(1,2), (2,3), (3,4)]\n",
    "DG3.add_edges_from(edges3)\n",
    "\n",
    "print(\"É euleriano?\", nx.is_eulerian(DG3))\n",
    "print(\"É semi-euleriano?\", nx.has_eulerian_path(DG3))\n",
    "\n",
    "nx.draw_circular(DG3, with_labels=True, node_color='salmon', arrows=True)\n",
    "plt.show()"
   ]
  },
  {
   "cell_type": "markdown",
   "id": "a030238a",
   "metadata": {},
   "source": [
    "## Exercícios sobre Digrafos Eulerianos\n",
    "\n",
    "1. **Mostre que um digrafo euleriano é necessariamente fortemente conexo.**\n",
    "\n",
    "2. **Exiba um contra-exemplo para mostrar que nem todo digrafo fortemente conexo é euleriano.**"
   ]
  },
  {
   "cell_type": "code",
   "execution_count": null,
   "id": "c640e443",
   "metadata": {},
   "outputs": [],
   "source": [
    "# Contra-exemplo: digrafo fortemente conexo mas não euleriano\n",
    "import networkx as nx\n",
    "import matplotlib.pyplot as plt\n",
    "\n",
    "DG_ex = nx.DiGraph()\n",
    "DG_ex.add_edges_from([(1,2), (2,3), (3,1), (1,3)])\n",
    "\n",
    "print(\"É fortemente conexo?\", nx.is_strongly_connected(DG_ex))\n",
    "print(\"É euleriano?\", nx.is_eulerian(DG_ex))\n",
    "\n",
    "nx.draw_circular(DG_ex, with_labels=True, node_color='orange', arrows=True)\n",
    "plt.show()"
   ]
  },
  {
   "cell_type": "markdown",
   "id": "4915f4bc",
   "metadata": {},
   "source": [
    "## O Problema Chinês do Carteiro\n",
    "\n",
    "O Problema Chinês do Carteiro foi postulado em 1962 pelo matemático chinês Mei-Ku Kwan:\n",
    "\n",
    "> Considere um grafo valorado (ou rede) $G$ tal que os pesos das arestas são não-negativos. Encontre um passeio fechado que percorra todas as arestas de $G$ com peso total mínimo.\n",
    "\n",
    "### Aplicações:\n",
    "1. Coleta de lixo\n",
    "2. Entregas\n",
    "3. Limpeza de ruas\n",
    "4. Checagem de páginas da internet\n",
    "\n",
    "#### Exemplo de [Maarten van Steen, Graph Theory and Complex Networks]\n",
    "\n",
    "*Checking a Web site:*  \n",
    "Um site pode ser modelado como um grafo não-direcionado onde cada página é um vértice e cada link é uma aresta de peso 1. O objetivo é navegar por todas as páginas cruzando cada link no máximo uma vez, ou seja, encontrar um passeio euleriano de comprimento mínimo."
   ]
  },
  {
   "cell_type": "markdown",
   "id": "d739878f",
   "metadata": {},
   "source": [
    "## Algoritmo para o Problema Chinês do Carteiro ([Gibbons, 1985])\n",
    "\n",
    "Considere um grafo valorado conexo $G$ em que o conjunto de vértices de grau ímpar é $V_{\\text{ímpar}} = \\{v_1, \\ldots, v_{2k}\\}$, onde $k \\geq 1$.\n",
    "\n",
    "**Passos:**\n",
    "1. Para cada par $(v_i, v_j) \\in V_{\\text{ímpar}} \\times V_{\\text{ímpar}}$ com $v_i \\neq v_j$, encontre o caminho mínimo $P_{i,j}$ entre $v_i$ e $v_j$.\n",
    "2. Construa um grafo completo com os $2k$ vértices de $V_{\\text{ímpar}}$ em que o peso da aresta $(v_i, v_j)$ é o peso do caminho mínimo $P_{i,j}$.\n",
    "3. Determine o conjunto $E = \\{e_1, e_2, \\ldots, e_k\\}$ de $k$ arestas do grafo completo, duas a duas não-adjacentes, tal que a soma de seus pesos seja mínima (Emparelhamento perfeito mínimo).\n",
    "4. Para cada aresta $e = (v_i, v_j) \\in E$, duplique as arestas de $P_{i,j}$ em $G$."
   ]
  },
  {
   "cell_type": "code",
   "execution_count": null,
   "id": "577a5995",
   "metadata": {},
   "outputs": [],
   "source": [
    "# Exemplo ilustrativo do passo 1 do algoritmo do Carteiro Chinês\n",
    "import networkx as nx\n",
    "\n",
    "G = nx.Graph()\n",
    "edges = [\n",
    "    ('v1','u1',1), ('u1','u2',1), ('u2','v2',2), ('v2','u3',3), ('u3','u4',3),\n",
    "    ('u4','v3',2), ('v3','u5',1), ('u5','u6',4), ('u6','v4',2), ('v4','u1',1),\n",
    "    ('u2','u5',3), ('u3','u6',2), ('u4','u1',1), ('u5','v1',5), ('u6','v2',2)\n",
    "]\n",
    "G.add_weighted_edges_from(edges)\n",
    "\n",
    "# Encontrar vértices de grau ímpar\n",
    "odd_vertices = [v for v in G.nodes if G.degree(v) % 2 == 1]\n",
    "print(\"Vértices de grau ímpar:\", odd_vertices)\n",
    "\n",
    "# Encontrar caminhos mínimos entre pares de vértices ímpares\n",
    "from itertools import combinations\n",
    "for vi, vj in combinations(odd_vertices, 2):\n",
    "    length, path = nx.single_source_dijkstra(G, vi, vj)\n",
    "    print(f\"Caminho mínimo entre {vi} e {vj}: {path} (peso {length})\")"
   ]
  },
  {
   "cell_type": "markdown",
   "id": "5b358fe9",
   "metadata": {},
   "source": [
    "# Grafos Eulerianos\n",
    "\n",
    "No início do curso estudamos o problema das Pontes de Königsberg, representado pelo seguinte grafo:\n",
    "\n",
    "```\n",
    "A---B\n",
    "|   |\n",
    "C---D\n",
    "```\n",
    "\n",
    "O objetivo era descobrir se é possível fazer um passeio pela cidade, começando e terminando no mesmo lugar e passando por cada uma das pontes apenas uma vez.\n",
    "\n",
    "Em termos de grafos, isso significa encontrar um trajeto fechado que inclua todas as arestas do grafo."
   ]
  },
  {
   "cell_type": "markdown",
   "id": "19951af7",
   "metadata": {},
   "source": [
    "## Introdução\n",
    "\n",
    "No início do curso nós estudamos o problema das Pontes de Königsberg e representamos o problema através do seguinte grafo:\n",
    "\n",
    "```\n",
    "A\n",
    "C\n",
    "B\n",
    "D\n",
    "```\n",
    "\n",
    "Queríamos saber se é possível fazer um passeio pela cidade, começando e terminando no mesmo lugar e passando por cada uma das pontes apenas uma vez.\n",
    "\n",
    "Em outras palavras, queríamos encontrar no grafo acima um trajeto fechado que incluísse todas as arestas do grafo."
   ]
  },
  {
   "cell_type": "markdown",
   "id": "c4311c2f",
   "metadata": {},
   "source": [
    "## Definição\n",
    "\n",
    "Um trajeto que inclua todas as arestas de um dado grafo $G(V, A)$ é chamado de **trajeto euleriano**.\n",
    "\n",
    "Seja $G$ um grafo conexo. Dizemos que $G$ é **euleriano** se possui um trajeto euleriano fechado (ou seja, um ciclo euleriano).\n",
    "\n",
    "Um grafo $G$ não-euleriano é dito ser **semi-euleriano** se possui um trajeto euleriano (não necessariamente fechado).\n",
    "\n",
    "**Observação:**  \n",
    "Em um grafo euleriano, cada aresta é percorrida uma, e uma única, vez."
   ]
  },
  {
   "cell_type": "markdown",
   "id": "69f5275b",
   "metadata": {},
   "source": [
    "### Exemplos\n",
    "\n",
    "A seguir temos exemplos de grafos euleriano, semi-euleriano e não-euleriano:\n",
    "\n",
    "- **Euleriano:** Todos os vértices têm grau par e o grafo é conexo.\n",
    "- **Semi-euleriano:** Exatamente dois vértices têm grau ímpar e o grafo é conexo.\n",
    "- **Não-euleriano:** Mais de dois vértices têm grau ímpar ou o grafo não é conexo."
   ]
  },
  {
   "cell_type": "markdown",
   "id": "cba92e00",
   "metadata": {},
   "source": [
    "## Resultado Auxiliar\n",
    "\n",
    "### Lema\n",
    "\n",
    "Se $G(V, A)$ é um grafo tal que $d(v) \\geq 2$ para todo $v \\in V$, então $G$ contém um ciclo.\n",
    "\n",
    "**Demonstração:**  \n",
    "Se $G$ possui laços ou arestas paralelas, não há o que provar.  \n",
    "Vamos supor que $G$ é um grafo simples. Seja $v_0 \\in V$ um vértice arbitrário de $G$. Como $d(v) \\geq 2$ para todo $v \\in V$, podemos construir um passeio $v_0 \\to v_1 \\to v_2 \\to \\ldots$ indutivamente, escolhendo $v_{i+1}$ como sendo qualquer vértice adjacente a $v_i$ exceto $v_{i-1}$.\n",
    "\n",
    "Como $G$ possui uma quantidade finita de vértices, em algum momento escolheremos algum vértice, digamos $v_k$, pela segunda vez.  \n",
    "A parte do passeio entre a primeira e a segunda ocorrência de $v_k$ constitui um ciclo."
   ]
  },
  {
   "cell_type": "markdown",
   "id": "3a09166e",
   "metadata": {},
   "source": [
    "## Condição Necessária e Suficiente\n",
    "\n",
    "### Teorema (Euler, 1736)\n",
    "\n",
    "Um grafo conexo $G(V, A)$ é euleriano se, e somente se, o grau de cada vértice de $G$ é par.\n",
    "\n",
    "**Demonstração ($\\Rightarrow$):**  \n",
    "Seja $T$ um trajeto euleriano fechado de $G$. Cada vez que um vértice $v$ ocorre no trajeto $T$, há uma contribuição de duas unidades para o grau de $v$ (uma aresta para chegar a $v$ e outra para sair).  \n",
    "Isto vale não só para os vértices intermediários mas também para o vértice final, pois “saímos” e “entramos” no mesmo vértice no início e no final do trajeto.  \n",
    "Como cada aresta ocorre exatamente uma vez em $T$, cada vértice possui grau par."
   ]
  },
  {
   "cell_type": "markdown",
   "id": "7b01edf5",
   "metadata": {},
   "source": [
    "**Demonstração ($\\Leftarrow$):**  \n",
    "A prova é por indução no número de arestas de $G$. Suponhamos que o grau de cada vértice de $G$ é par. Como $G$ é conexo, $d(v) \\geq 2$ para todo $v \\in V$. Segue então do lema anterior que $G$ contém um ciclo $C$.\n",
    "\n",
    "Se $C$ contém todas as arestas de $G$, o teorema está provado.  \n",
    "Se não, removemos de $G$ as arestas de $C$, resultando num grafo $H$, possivelmente desconexo, com menos arestas do que $G$."
   ]
  },
  {
   "cell_type": "markdown",
   "id": "7913f3d7",
   "metadata": {},
   "source": [
    "É fácil ver que todos os vértices de $H$ possuem grau par. Logo, pela hipótese de indução, cada componente de $H$ possui um trajeto euleriano fechado.\n",
    "\n",
    "Além disso, pela conexidade de $G$, cada componente de $H$ possui ao menos um vértice em comum com $C$.\n",
    "\n",
    "Portanto, concatenando os trajetos eulerianos fechados de cada componente de $H$ com o ciclo $C$, obtemos um trajeto euleriano fechado em $G$, ou seja, $G$ é um grafo euleriano."
   ]
  },
  {
   "cell_type": "markdown",
   "id": "b045f81a",
   "metadata": {},
   "source": [
    "## Corolários\n",
    "\n",
    "- Um grafo conexo é euleriano se, e somente se, ele pode ser decomposto em circuitos disjuntos:\n",
    "  $$\n",
    "  G = \\bigcup_i C_i, \\quad C_i \\cap C_j = \\text{grafo nulo}\n",
    "  $$\n",
    "\n",
    "- Um grafo conexo é semi-euleriano se, e somente se, possui exatamente dois vértices de grau ímpar."
   ]
  },
  {
   "cell_type": "markdown",
   "id": "961a1ac7",
   "metadata": {},
   "source": [
    "## Algoritmo de Decomposição (Hierholzer, 1873)\n",
    "\n",
    "Considere um grafo conexo $G(V, A)$, onde $d(v)$ é par para todo $v \\in V$.\n",
    "\n",
    "**Passos:**\n",
    "1. Determine um circuito $C_1$ em $G$. Defina $T_1 = C_1$ e $G_1 = G$.\n",
    "   - Se $T_1$ possui todas as arestas de $G$, pare. $T_1$ é o trajeto procurado.\n",
    "   - Tome $k = 1$.\n",
    "2. Faça $k = k + 1$. Construa o subgrafo $G_k = (V_k, A_k)$ removendo de $G_{k-1}$ as arestas pertencentes a $T_{k-1}$. Remova de $G_k$ os vértices isolados.\n",
    "3. Determine um vértice $v \\in V_k \\cap V_{k-1}$. A partir de $v$, determine um circuito $C_k$ em $G_k$.\n",
    "4. Defina $T_k = T_{k-1} \\cup C_k$.\n",
    "   - Se $T_k$ possui todas as arestas de $G$, vá para o Passo 5.\n",
    "   - Caso contrário, retorne ao Passo 2.\n",
    "5. Pare. $T_k$ é o trajeto procurado e $G = \\bigcup_{i=1}^k C_i$."
   ]
  },
  {
   "cell_type": "markdown",
   "id": "1cd49fb6",
   "metadata": {},
   "source": [
    "## Algoritmo de Fleury (Fleury, 1883)\n",
    "\n",
    "Considere um grafo conexo $G(V, A)$, onde $d(v)$ é par para todo $v \\in V$.\n",
    "\n",
    "**Procedimento:**\n",
    "- Comece em qualquer vértice $v$ e percorra as arestas de forma aleatória, seguindo sempre as seguintes regras:\n",
    "  - Exclua as arestas depois de passar por elas;\n",
    "  - Exclua os vértices isolados, caso ocorram;\n",
    "  - Passe por uma ponte somente se não houver outra alternativa."
   ]
  },
  {
   "cell_type": "code",
   "execution_count": null,
   "id": "464f131b",
   "metadata": {},
   "outputs": [],
   "source": [
    "# Exemplo de grafo euleriano usando networkx\n",
    "import networkx as nx\n",
    "import matplotlib.pyplot as plt\n",
    "\n",
    "G = nx.Graph()\n",
    "edges = [(1,2), (2,3), (3,4), (4,1), (1,3), (2,4)]\n",
    "G.add_edges_from(edges)\n",
    "\n",
    "print(\"É euleriano?\", nx.is_eulerian(G))\n",
    "print(\"Ciclo euleriano:\", list(nx.eulerian_circuit(G)))\n",
    "\n",
    "nx.draw_circular(G, with_labels=True, node_color='lightblue')\n",
    "plt.show()"
   ]
  },
  {
   "cell_type": "code",
   "execution_count": null,
   "id": "5c81592e",
   "metadata": {},
   "outputs": [],
   "source": [
    "# Exemplo de grafo semi-euleriano usando networkx\n",
    "G2 = nx.Graph()\n",
    "edges2 = [(1,2), (2,3), (3,4), (4,1), (1,3)]\n",
    "G2.add_edges_from(edges2)\n",
    "\n",
    "print(\"É euleriano?\", nx.is_eulerian(G2))\n",
    "print(\"É semi-euleriano?\", nx.has_eulerian_path(G2))\n",
    "print(\"Caminho euleriano:\", list(nx.eulerian_path(G2)))\n",
    "\n",
    "nx.draw_circular(G2, with_labels=True, node_color='lightgreen')\n",
    "plt.show()"
   ]
  },
  {
   "cell_type": "code",
   "execution_count": null,
   "id": "160345f8",
   "metadata": {},
   "outputs": [],
   "source": [
    "# Exemplo de grafo não-euleriano usando networkx\n",
    "G3 = nx.Graph()\n",
    "edges3 = [(1,2), (2,3), (3,4)]\n",
    "G3.add_edges_from(edges3)\n",
    "\n",
    "print(\"É euleriano?\", nx.is_eulerian(G3))\n",
    "print(\"É semi-euleriano?\", nx.has_eulerian_path(G3))\n",
    "\n",
    "nx.draw_circular(G3, with_labels=True, node_color='salmon')\n",
    "plt.show()"
   ]
  },
  {
   "cell_type": "markdown",
   "id": "4616047e",
   "metadata": {},
   "source": [
    "## Exemplo\n",
    "\n",
    "Aplique o Algoritmo de Fleury para encontrar um trajeto euleriano no grafo abaixo a partir do vértice 5.\n",
    "\n",
    "*(Desenhe ou descreva o grafo conforme necessário para o exercício.)*"
   ]
  },
  {
   "cell_type": "code",
   "execution_count": null,
   "id": "9502d09d",
   "metadata": {},
   "outputs": [],
   "source": [
    "# Exemplo prático do Algoritmo de Fleury usando networkx\n",
    "G4 = nx.Graph()\n",
    "edges4 = [(1,2), (2,3), (3,4), (4,1), (1,3), (2,4)]\n",
    "G4.add_edges_from(edges4)\n",
    "\n",
    "# Algoritmo de Fleury (usando eulerian_circuit do networkx)\n",
    "circuit = list(nx.eulerian_circuit(G4, source=1))\n",
    "print(\"Trajeto euleriano pelo Algoritmo de Fleury:\", circuit)\n",
    "\n",
    "nx.draw_circular(G4, with_labels=True, node_color='lightblue')\n",
    "plt.show()"
   ]
  },
  {
   "cell_type": "markdown",
   "id": "a8e0d16a",
   "metadata": {},
   "source": [
    "## 2. Digrafos Eulerianos\n",
    "\n",
    "### Definição\n",
    "\n",
    "Um trajeto orientado que inclua todas as arestas de um dado digrafo $G(V, A)$ é chamado de **trajeto euleriano**.\n",
    "\n",
    "Seja $G$ um digrafo conexo (fortemente ou fracamente). Dizemos que $G$ é **euleriano** se possui um trajeto euleriano fechado.\n",
    "\n",
    "Um digrafo $G$ não-euleriano é dito ser **semi-euleriano** se possui um trajeto euleriano.\n",
    "\n",
    "### Teorema de Euler para digrafos\n",
    "\n",
    "Um digrafo $D(V, A)$ é euleriano se, e somente se, $D$ é balanceado, ou seja, $d^-(v) = d^+(v)$ para todo $v \\in V$.\n",
    "\n",
    "**Corolário:**  \n",
    "Um digrafo $D(V, A)$ é semi-euleriano se, e somente se, existem dois vértices $x, y \\in V$ tais que  \n",
    "$d^+(x) - d^-(x) = 1$, $d^-(y) - d^+(y) = 1$  \n",
    "e  \n",
    "$d^-(v) = d^+(v)$ para todo $v \\in V \\setminus \\{x, y\\}$.\n",
    "\n",
    "**Demonstrações:** Exercício.\n",
    "\n",
    "### Exercícios\n",
    "\n",
    "Determine se os digrafos abaixo são eulerianos ou semi-eulerianos (em caso positivo, exiba os trajetos euleriano e semi-euleriano)."
   ]
  },
  {
   "cell_type": "code",
   "execution_count": null,
   "id": "5e6d902d",
   "metadata": {},
   "outputs": [],
   "source": [
    "# Exemplo de digrafo euleriano usando networkx\n",
    "import networkx as nx\n",
    "import matplotlib.pyplot as plt\n",
    "\n",
    "DG = nx.DiGraph()\n",
    "edges = [(1,2), (2,3), (3,4), (4,1)]\n",
    "DG.add_edges_from(edges)\n",
    "\n",
    "print(\"É euleriano?\", nx.is_eulerian(DG))\n",
    "print(\"Ciclo euleriano:\", list(nx.eulerian_circuit(DG)))\n",
    "\n",
    "nx.draw_circular(DG, with_labels=True, node_color='lightblue', arrows=True)\n",
    "plt.show()"
   ]
  },
  {
   "cell_type": "code",
   "execution_count": null,
   "id": "42845bd8",
   "metadata": {},
   "outputs": [],
   "source": [
    "# Exemplo de digrafo semi-euleriano usando networkx\n",
    "DG2 = nx.DiGraph()\n",
    "edges2 = [(1,2), (2,3), (3,1), (1,4)]\n",
    "DG2.add_edges_from(edges2)\n",
    "\n",
    "print(\"É euleriano?\", nx.is_eulerian(DG2))\n",
    "print(\"É semi-euleriano?\", nx.has_eulerian_path(DG2))\n",
    "print(\"Caminho euleriano:\", list(nx.eulerian_path(DG2)))\n",
    "\n",
    "nx.draw_circular(DG2, with_labels=True, node_color='lightgreen', arrows=True)\n",
    "plt.show()"
   ]
  },
  {
   "cell_type": "code",
   "execution_count": null,
   "id": "ea44657b",
   "metadata": {},
   "outputs": [],
   "source": [
    "# Exemplo de digrafo não-euleriano usando networkx\n",
    "DG3 = nx.DiGraph()\n",
    "edges3 = [(1,2), (2,3), (3,4)]\n",
    "DG3.add_edges_from(edges3)\n",
    "\n",
    "print(\"É euleriano?\", nx.is_eulerian(DG3))\n",
    "print(\"É semi-euleriano?\", nx.has_eulerian_path(DG3))\n",
    "\n",
    "nx.draw_circular(DG3, with_labels=True, node_color='salmon', arrows=True)\n",
    "plt.show()"
   ]
  },
  {
   "cell_type": "markdown",
   "id": "94ed9711",
   "metadata": {},
   "source": [
    "## Exercícios sobre Digrafos Eulerianos\n",
    "\n",
    "1. **Mostre que um digrafo euleriano é necessariamente fortemente conexo.**\n",
    "\n",
    "2. **Exiba um contra-exemplo para mostrar que nem todo digrafo fortemente conexo é euleriano.**"
   ]
  },
  {
   "cell_type": "code",
   "execution_count": null,
   "id": "5d11384a",
   "metadata": {},
   "outputs": [],
   "source": [
    "# Contra-exemplo: digrafo fortemente conexo mas não euleriano\n",
    "import networkx as nx\n",
    "import matplotlib.pyplot as plt\n",
    "\n",
    "DG_ex = nx.DiGraph()\n",
    "DG_ex.add_edges_from([(1,2), (2,3), (3,1), (1,3)])\n",
    "\n",
    "print(\"É fortemente conexo?\", nx.is_strongly_connected(DG_ex))\n",
    "print(\"É euleriano?\", nx.is_eulerian(DG_ex))\n",
    "\n",
    "nx.draw_circular(DG_ex, with_labels=True, node_color='orange', arrows=True)\n",
    "plt.show()"
   ]
  },
  {
   "cell_type": "markdown",
   "id": "c239585c",
   "metadata": {},
   "source": [
    "## O Problema Chinês do Carteiro\n",
    "\n",
    "O Problema Chinês do Carteiro foi postulado em 1962 pelo matemático chinês Mei-Ku Kwan:\n",
    "\n",
    "> Considere um grafo valorado (ou rede) $G$ tal que os pesos das arestas são não-negativos. Encontre um passeio fechado que percorra todas as arestas de $G$ com peso total mínimo.\n",
    "\n",
    "### Aplicações:\n",
    "1. Coleta de lixo\n",
    "2. Entregas\n",
    "3. Limpeza de ruas\n",
    "4. Checagem de páginas da internet\n",
    "\n",
    "#### Exemplo de [Maarten van Steen, Graph Theory and Complex Networks]\n",
    "\n",
    "*Checking a Web site:*  \n",
    "Um site pode ser modelado como um grafo não-direcionado onde cada página é um vértice e cada link é uma aresta de peso 1. O objetivo é navegar por todas as páginas cruzando cada link no máximo uma vez, ou seja, encontrar um passeio euleriano de comprimento mínimo."
   ]
  },
  {
   "cell_type": "markdown",
   "id": "3ef1c054",
   "metadata": {},
   "source": [
    "## Algoritmo para o Problema Chinês do Carteiro ([Gibbons, 1985])\n",
    "\n",
    "Considere um grafo valorado conexo $G$ em que o conjunto de vértices de grau ímpar é $V_{\\text{ímpar}} = \\{v_1, \\ldots, v_{2k}\\}$, onde $k \\geq 1$.\n",
    "\n",
    "**Passos:**\n",
    "1. Para cada par $(v_i, v_j) \\in V_{\\text{ímpar}} \\times V_{\\text{ímpar}}$ com $v_i \\neq v_j$, encontre o caminho mínimo $P_{i,j}$ entre $v_i$ e $v_j$.\n",
    "2. Construa um grafo completo com os $2k$ vértices de $V_{\\text{ímpar}}$ em que o peso da aresta $(v_i, v_j)$ é o peso do caminho mínimo $P_{i,j}$.\n",
    "3. Determine o conjunto $E = \\{e_1, e_2, \\ldots, e_k\\}$ de $k$ arestas do grafo completo, duas a duas não-adjacentes, tal que a soma de seus pesos seja mínima (Emparelhamento perfeito mínimo).\n",
    "4. Para cada aresta $e = (v_i, v_j) \\in E$, duplique as arestas de $P_{i,j}$ em $G$."
   ]
  },
  {
   "cell_type": "code",
   "execution_count": null,
   "id": "4b0527e4",
   "metadata": {},
   "outputs": [],
   "source": [
    "# Exemplo ilustrativo do passo 1 do algoritmo do Carteiro Chinês\n",
    "import networkx as nx\n",
    "\n",
    "G = nx.Graph()\n",
    "edges = [\n",
    "    ('v1','u1',1), ('u1','u2',1), ('u2','v2',2), ('v2','u3',3), ('u3','u4',3),\n",
    "    ('u4','v3',2), ('v3','u5',1), ('u5','u6',4), ('u6','v4',2), ('v4','u1',1),\n",
    "    ('u2','u5',3), ('u3','u6',2), ('u4','u1',1), ('u5','v1',5), ('u6','v2',2)\n",
    "]\n",
    "G.add_weighted_edges_from(edges)\n",
    "\n",
    "# Encontrar vértices de grau ímpar\n",
    "odd_vertices = [v for v in G.nodes if G.degree(v) % 2 == 1]\n",
    "print(\"Vértices de grau ímpar:\", odd_vertices)\n",
    "\n",
    "# Encontrar caminhos mínimos entre pares de vértices ímpares\n",
    "from itertools import combinations\n",
    "for vi, vj in combinations(odd_vertices, 2):\n",
    "    length, path = nx.single_source_dijkstra(G, vi, vj)\n",
    "    print(f\"Caminho mínimo entre {vi} e {vj}: {path} (peso {length})\")"
   ]
  },
  {
   "cell_type": "markdown",
   "id": "f14932bc",
   "metadata": {},
   "source": [
    "# Grafos Eulerianos\n",
    "\n",
    "No início do curso estudamos o problema das Pontes de Königsberg, representado pelo seguinte grafo:\n",
    "\n",
    "```\n",
    "A---B\n",
    "|   |\n",
    "C---D\n",
    "```\n",
    "\n",
    "O objetivo era descobrir se é possível fazer um passeio pela cidade, começando e terminando no mesmo lugar e passando por cada uma das pontes apenas uma vez.\n",
    "\n",
    "Em termos de grafos, isso significa encontrar um trajeto fechado que inclua todas as arestas do grafo."
   ]
  },
  {
   "cell_type": "markdown",
   "id": "e8b89a53",
   "metadata": {},
   "source": [
    "## Introdução\n",
    "\n",
    "No início do curso nós estudamos o problema das Pontes de Königsberg e representamos o problema através do seguinte grafo:\n",
    "\n",
    "```\n",
    "A\n",
    "C\n",
    "B\n",
    "D\n",
    "```\n",
    "\n",
    "Queríamos saber se é possível fazer um passeio pela cidade, começando e terminando no mesmo lugar e passando por cada uma das pontes apenas uma vez.\n",
    "\n",
    "Em outras palavras, queríamos encontrar no grafo acima um trajeto fechado que incluísse todas as arestas do grafo."
   ]
  },
  {
   "cell_type": "markdown",
   "id": "132de570",
   "metadata": {},
   "source": [
    "## Definição\n",
    "\n",
    "Um trajeto que inclua todas as arestas de um dado grafo $G(V, A)$ é chamado de **trajeto euleriano**.\n",
    "\n",
    "Seja $G$ um grafo conexo. Dizemos que $G$ é **euleriano** se possui um trajeto euleriano fechado (ou seja, um ciclo euleriano).\n",
    "\n",
    "Um grafo $G$ não-euleriano é dito ser **semi-euleriano** se possui um trajeto euleriano (não necessariamente fechado).\n",
    "\n",
    "**Observação:**  \n",
    "Em um grafo euleriano, cada aresta é percorrida uma, e uma única, vez."
   ]
  },
  {
   "cell_type": "markdown",
   "id": "7ed26869",
   "metadata": {},
   "source": [
    "### Exemplos\n",
    "\n",
    "A seguir temos exemplos de grafos euleriano, semi-euleriano e não-euleriano:\n",
    "\n",
    "- **Euleriano:** Todos os vértices têm grau par e o grafo é conexo.\n",
    "- **Semi-euleriano:** Exatamente dois vértices têm grau ímpar e o grafo é conexo.\n",
    "- **Não-euleriano:** Mais de dois vértices têm grau ímpar ou o grafo não é conexo."
   ]
  },
  {
   "cell_type": "markdown",
   "id": "f22dfdbf",
   "metadata": {},
   "source": [
    "## Resultado Auxiliar\n",
    "\n",
    "### Lema\n",
    "\n",
    "Se $G(V, A)$ é um grafo tal que $d(v) \\geq 2$ para todo $v \\in V$, então $G$ contém um ciclo.\n",
    "\n",
    "**Demonstração:**  \n",
    "Se $G$ possui laços ou arestas paralelas, não há o que provar.  \n",
    "Vamos supor que $G$ é um grafo simples. Seja $v_0 \\in V$ um vértice arbitrário de $G$. Como $d(v) \\geq 2$ para todo $v \\in V$, podemos construir um passeio $v_0 \\to v_1 \\to v_2 \\to \\ldots$ indutivamente, escolhendo $v_{i+1}$ como sendo qualquer vértice adjacente a $v_i$ exceto $v_{i-1}$.\n",
    "\n",
    "Como $G$ possui uma quantidade finita de vértices, em algum momento escolheremos algum vértice, digamos $v_k$, pela segunda vez.  \n",
    "A parte do passeio entre a primeira e a segunda ocorrência de $v_k$ constitui um ciclo."
   ]
  },
  {
   "cell_type": "markdown",
   "id": "7e27a0a6",
   "metadata": {},
   "source": [
    "## Condição Necessária e Suficiente\n",
    "\n",
    "### Teorema (Euler, 1736)\n",
    "\n",
    "Um grafo conexo $G(V, A)$ é euleriano se, e somente se, o grau de cada vértice de $G$ é par.\n",
    "\n",
    "**Demonstração ($\\Rightarrow$):**  \n",
    "Seja $T$ um trajeto euleriano fechado de $G$. Cada vez que um vértice $v$ ocorre no trajeto $T$, há uma contribuição de duas unidades para o grau de $v$ (uma aresta para chegar a $v$ e outra para sair).  \n",
    "Isto vale não só para os vértices intermediários mas também para o vértice final, pois “saímos” e “entramos” no mesmo vértice no início e no final do trajeto.  \n",
    "Como cada aresta ocorre exatamente uma vez em $T$, cada vértice possui grau par."
   ]
  },
  {
   "cell_type": "markdown",
   "id": "ce73f4c3",
   "metadata": {},
   "source": [
    "**Demonstração ($\\Leftarrow$):**  \n",
    "A prova é por indução no número de arestas de $G$. Suponhamos que o grau de cada vértice de $G$ é par. Como $G$ é conexo, $d(v) \\geq 2$ para todo $v \\in V$. Segue então do lema anterior que $G$ contém um ciclo $C$.\n",
    "\n",
    "Se $C$ contém todas as arestas de $G$, o teorema está provado.  \n",
    "Se não, removemos de $G$ as arestas de $C$, resultando num grafo $H$, possivelmente desconexo, com menos arestas do que $G$."
   ]
  },
  {
   "cell_type": "markdown",
   "id": "30c2cc47",
   "metadata": {},
   "source": [
    "É fácil ver que todos os vértices de $H$ possuem grau par. Logo, pela hipótese de indução, cada componente de $H$ possui um trajeto euleriano fechado.\n",
    "\n",
    "Além disso, pela conexidade de $G$, cada componente de $H$ possui ao menos um vértice em comum com $C$.\n",
    "\n",
    "Portanto, concatenando os trajetos eulerianos fechados de cada componente de $H$ com o ciclo $C$, obtemos um trajeto euleriano fechado em $G$, ou seja, $G$ é um grafo euleriano."
   ]
  },
  {
   "cell_type": "markdown",
   "id": "752b6c04",
   "metadata": {},
   "source": [
    "## Corolários\n",
    "\n",
    "- Um grafo conexo é euleriano se, e somente se, ele pode ser decomposto em circuitos disjuntos:\n",
    "  $$\n",
    "  G = \\bigcup_i C_i, \\quad C_i \\cap C_j = \\text{grafo nulo}\n",
    "  $$\n",
    "\n",
    "- Um grafo conexo é semi-euleriano se, e somente se, possui exatamente dois vértices de grau ímpar."
   ]
  },
  {
   "cell_type": "markdown",
   "id": "19db277e",
   "metadata": {},
   "source": [
    "## Algoritmo de Decomposição (Hierholzer, 1873)\n",
    "\n",
    "Considere um grafo conexo $G(V, A)$, onde $d(v)$ é par para todo $v \\in V$.\n",
    "\n",
    "**Passos:**\n",
    "1. Determine um circuito $C_1$ em $G$. Defina $T_1 = C_1$ e $G_1 = G$.\n",
    "   - Se $T_1$ possui todas as arestas de $G$, pare. $T_1$ é o trajeto procurado.\n",
    "   - Tome $k = 1$.\n",
    "2. Faça $k = k + 1$. Construa o subgrafo $G_k = (V_k, A_k)$ removendo de $G_{k-1}$ as arestas pertencentes a $T_{k-1}$. Remova de $G_k$ os vértices isolados.\n",
    "3. Determine um vértice $v \\in V_k \\cap V_{k-1}$. A partir de $v$, determine um circuito $C_k$ em $G_k$.\n",
    "4. Defina $T_k = T_{k-1} \\cup C_k$.\n",
    "   - Se $T_k$ possui todas as arestas de $G$, vá para o Passo 5.\n",
    "   - Caso contrário, retorne ao Passo 2.\n",
    "5. Pare. $T_k$ é o trajeto procurado e $G = \\bigcup_{i=1}^k C_i$."
   ]
  },
  {
   "cell_type": "markdown",
   "id": "e1fc62cc",
   "metadata": {},
   "source": [
    "## Algoritmo de Fleury (Fleury, 1883)\n",
    "\n",
    "Considere um grafo conexo $G(V, A)$, onde $d(v)$ é par para todo $v \\in V$.\n",
    "\n",
    "**Procedimento:**\n",
    "- Comece em qualquer vértice $v$ e percorra as arestas de forma aleatória, seguindo sempre as seguintes regras:\n",
    "  - Exclua as arestas depois de passar por elas;\n",
    "  - Exclua os vértices isolados, caso ocorram;\n",
    "  - Passe por uma ponte somente se não houver outra alternativa."
   ]
  },
  {
   "cell_type": "code",
   "execution_count": null,
   "id": "37370614",
   "metadata": {},
   "outputs": [],
   "source": [
    "# Exemplo de grafo euleriano usando networkx\n",
    "import networkx as nx\n",
    "import matplotlib.pyplot as plt\n",
    "\n",
    "G = nx.Graph()\n",
    "edges = [(1,2), (2,3), (3,4), (4,1), (1,3), (2,4)]\n",
    "G.add_edges_from(edges)\n",
    "\n",
    "print(\"É euleriano?\", nx.is_eulerian(G))\n",
    "print(\"Ciclo euleriano:\", list(nx.eulerian_circuit(G)))\n",
    "\n",
    "nx.draw_circular(G, with_labels=True, node_color='lightblue')\n",
    "plt.show()"
   ]
  },
  {
   "cell_type": "code",
   "execution_count": null,
   "id": "f3bf3f12",
   "metadata": {},
   "outputs": [],
   "source": [
    "# Exemplo de grafo semi-euleriano usando networkx\n",
    "G2 = nx.Graph()\n",
    "edges2 = [(1,2), (2,3), (3,4), (4,1), (1,3)]\n",
    "G2.add_edges_from(edges2)\n",
    "\n",
    "print(\"É euleriano?\", nx.is_eulerian(G2))\n",
    "print(\"É semi-euleriano?\", nx.has_eulerian_path(G2))\n",
    "print(\"Caminho euleriano:\", list(nx.eulerian_path(G2)))\n",
    "\n",
    "nx.draw_circular(G2, with_labels=True, node_color='lightgreen')\n",
    "plt.show()"
   ]
  },
  {
   "cell_type": "code",
   "execution_count": null,
   "id": "118c91ea",
   "metadata": {},
   "outputs": [],
   "source": [
    "# Exemplo de grafo não-euleriano usando networkx\n",
    "G3 = nx.Graph()\n",
    "edges3 = [(1,2), (2,3), (3,4)]\n",
    "G3.add_edges_from(edges3)\n",
    "\n",
    "print(\"É euleriano?\", nx.is_eulerian(G3))\n",
    "print(\"É semi-euleriano?\", nx.has_eulerian_path(G3))\n",
    "\n",
    "nx.draw_circular(G3, with_labels=True, node_color='salmon')\n",
    "plt.show()"
   ]
  },
  {
   "cell_type": "markdown",
   "id": "7907d6cf",
   "metadata": {},
   "source": [
    "## Exemplo\n",
    "\n",
    "Aplique o Algoritmo de Fleury para encontrar um trajeto euleriano no grafo abaixo a partir do vértice 5.\n",
    "\n",
    "*(Desenhe ou descreva o grafo conforme necessário para o exercício.)*"
   ]
  },
  {
   "cell_type": "code",
   "execution_count": null,
   "id": "9a505ba7",
   "metadata": {},
   "outputs": [],
   "source": [
    "# Exemplo prático do Algoritmo de Fleury usando networkx\n",
    "G4 = nx.Graph()\n",
    "edges4 = [(1,2), (2,3), (3,4), (4,1), (1,3), (2,4)]\n",
    "G4.add_edges_from(edges4)\n",
    "\n",
    "# Algoritmo de Fleury (usando eulerian_circuit do networkx)\n",
    "circuit = list(nx.eulerian_circuit(G4, source=1))\n",
    "print(\"Trajeto euleriano pelo Algoritmo de Fleury:\", circuit)\n",
    "\n",
    "nx.draw_circular(G4, with_labels=True, node_color='lightblue')\n",
    "plt.show()"
   ]
  },
  {
   "cell_type": "markdown",
   "id": "dac2e107",
   "metadata": {},
   "source": [
    "## 2. Digrafos Eulerianos\n",
    "\n",
    "### Definição\n",
    "\n",
    "Um trajeto orientado que inclua todas as arestas de um dado digrafo $G(V, A)$ é chamado de **trajeto euleriano**.\n",
    "\n",
    "Seja $G$ um digrafo conexo (fortemente ou fracamente). Dizemos que $G$ é **euleriano** se possui um trajeto euleriano fechado.\n",
    "\n",
    "Um digrafo $G$ não-euleriano é dito ser **semi-euleriano** se possui um trajeto euleriano.\n",
    "\n",
    "### Teorema de Euler para digrafos\n",
    "\n",
    "Um digrafo $D(V, A)$ é euleriano se, e somente se, $D$ é balanceado, ou seja, $d^-(v) = d^+(v)$ para todo $v \\in V$.\n",
    "\n",
    "**Corolário:**  \n",
    "Um digrafo $D(V, A)$ é semi-euleriano se, e somente se, existem dois vértices $x, y \\in V$ tais que  \n",
    "$d^+(x) - d^-(x) = 1$, $d^-(y) - d^+(y) = 1$  \n",
    "e  \n",
    "$d^-(v) = d^+(v)$ para todo $v \\in V \\setminus \\{x, y\\}$.\n",
    "\n",
    "**Demonstrações:** Exercício.\n",
    "\n",
    "### Exercícios\n",
    "\n",
    "Determine se os digrafos abaixo são eulerianos ou semi-eulerianos (em caso positivo, exiba os trajetos euleriano e semi-euleriano)."
   ]
  },
  {
   "cell_type": "code",
   "execution_count": null,
   "id": "f24c6bf9",
   "metadata": {},
   "outputs": [],
   "source": [
    "# Exemplo de digrafo euleriano usando networkx\n",
    "import networkx as nx\n",
    "import matplotlib.pyplot as plt\n",
    "\n",
    "DG = nx.DiGraph()\n",
    "edges = [(1,2), (2,3), (3,4), (4,1)]\n",
    "DG.add_edges_from(edges)\n",
    "\n",
    "print(\"É euleriano?\", nx.is_eulerian(DG))\n",
    "print(\"Ciclo euleriano:\", list(nx.eulerian_circuit(DG)))\n",
    "\n",
    "nx.draw_circular(DG, with_labels=True, node_color='lightblue', arrows=True)\n",
    "plt.show()"
   ]
  },
  {
   "cell_type": "code",
   "execution_count": null,
   "id": "4c997cf0",
   "metadata": {},
   "outputs": [],
   "source": [
    "# Exemplo de digrafo semi-euleriano usando networkx\n",
    "DG2 = nx.DiGraph()\n",
    "edges2 = [(1,2), (2,3), (3,1), (1,4)]\n",
    "DG2.add_edges_from(edges2)\n",
    "\n",
    "print(\"É euleriano?\", nx.is_eulerian(DG2))\n",
    "print(\"É semi-euleriano?\", nx.has_eulerian_path(DG2))\n",
    "print(\"Caminho euleriano:\", list(nx.eulerian_path(DG2)))\n",
    "\n",
    "nx.draw_circular(DG2, with_labels=True, node_color='lightgreen', arrows=True)\n",
    "plt.show()"
   ]
  },
  {
   "cell_type": "code",
   "execution_count": null,
   "id": "710e2df7",
   "metadata": {},
   "outputs": [],
   "source": [
    "# Exemplo de digrafo não-euleriano usando networkx\n",
    "DG3 = nx.DiGraph()\n",
    "edges3 = [(1,2), (2,3), (3,4)]\n",
    "DG3.add_edges_from(edges3)\n",
    "\n",
    "print(\"É euleriano?\", nx.is_eulerian(DG3))\n",
    "print(\"É semi-euleriano?\", nx.has_eulerian_path(DG3))\n",
    "\n",
    "nx.draw_circular(DG3, with_labels=True, node_color='salmon', arrows=True)\n",
    "plt.show()"
   ]
  },
  {
   "cell_type": "markdown",
   "id": "c5c26567",
   "metadata": {},
   "source": [
    "## Exercícios sobre Digrafos Eulerianos\n",
    "\n",
    "1. **Mostre que um digrafo euleriano é necessariamente fortemente conexo.**\n",
    "\n",
    "2. **Exiba um contra-exemplo para mostrar que nem todo digrafo fortemente conexo é euleriano.**"
   ]
  },
  {
   "cell_type": "code",
   "execution_count": null,
   "id": "e41114cc",
   "metadata": {},
   "outputs": [],
   "source": [
    "# Contra-exemplo: digrafo fortemente conexo mas não euleriano\n",
    "import networkx as nx\n",
    "import matplotlib.pyplot as plt\n",
    "\n",
    "DG_ex = nx.DiGraph()\n",
    "DG_ex.add_edges_from([(1,2), (2,3), (3,1), (1,3)])\n",
    "\n",
    "print(\"É fortemente conexo?\", nx.is_strongly_connected(DG_ex))\n",
    "print(\"É euleriano?\", nx.is_eulerian(DG_ex))\n",
    "\n",
    "nx.draw_circular(DG_ex, with_labels=True, node_color='orange', arrows=True)\n",
    "plt.show()"
   ]
  },
  {
   "cell_type": "markdown",
   "id": "89167289",
   "metadata": {},
   "source": [
    "## O Problema Chinês do Carteiro\n",
    "\n",
    "O Problema Chinês do Carteiro foi postulado em 1962 pelo matemático chinês Mei-Ku Kwan:\n",
    "\n",
    "> Considere um grafo valorado (ou rede) $G$ tal que os pesos das arestas são não-negativos. Encontre um passeio fechado que percorra todas as arestas de $G$ com peso total mínimo.\n",
    "\n",
    "### Aplicações:\n",
    "1. Coleta de lixo\n",
    "2. Entregas\n",
    "3. Limpeza de ruas\n",
    "4. Checagem de páginas da internet\n",
    "\n",
    "#### Exemplo de [Maarten van Steen, Graph Theory and Complex Networks]\n",
    "\n",
    "*Checking a Web site:*  \n",
    "Um site pode ser modelado como um grafo não-direcionado onde cada página é um vértice e cada link é uma aresta de peso 1. O objetivo é navegar por todas as páginas cruzando cada link no máximo uma vez, ou seja, encontrar um passeio euleriano de comprimento mínimo."
   ]
  },
  {
   "cell_type": "markdown",
   "id": "0b44e50c",
   "metadata": {},
   "source": [
    "## Algoritmo para o Problema Chinês do Carteiro ([Gibbons, 1985])\n",
    "\n",
    "Considere um grafo valorado conexo $G$ em que o conjunto de vértices de grau ímpar é $V_{\\text{ímpar}} = \\{v_1, \\ldots, v_{2k}\\}$, onde $k \\geq 1$.\n",
    "\n",
    "**Passos:**\n",
    "1. Para cada par $(v_i, v_j) \\in V_{\\text{ímpar}} \\times V_{\\text{ímpar}}$ com $v_i \\neq v_j$, encontre o caminho mínimo $P_{i,j}$ entre $v_i$ e $v_j$.\n",
    "2. Construa um grafo completo com os $2k$ vértices de $V_{\\text{ímpar}}$ em que o peso da aresta $(v_i, v_j)$ é o peso do caminho mínimo $P_{i,j}$.\n",
    "3. Determine o conjunto $E = \\{e_1, e_2, \\ldots, e_k\\}$ de $k$ arestas do grafo completo, duas a duas não-adjacentes, tal que a soma de seus pesos seja mínima (Emparelhamento perfeito mínimo).\n",
    "4. Para cada aresta $e = (v_i, v_j) \\in E$, duplique as arestas de $P_{i,j}$ em $G$."
   ]
  },
  {
   "cell_type": "code",
   "execution_count": null,
   "id": "0082b56b",
   "metadata": {},
   "outputs": [],
   "source": [
    "# Exemplo ilustrativo do passo 1 do algoritmo do Carteiro Chinês\n",
    "import networkx as nx\n",
    "\n",
    "G = nx.Graph()\n",
    "edges = [\n",
    "    ('v1','u1',1), ('u1','u2',1), ('u2','v2',2), ('v2','u3',3), ('u3','u4',3),\n",
    "    ('u4','v3',2), ('v3','u5',1), ('u5','u6',4), ('u6','v4',2), ('v4','u1',1),\n",
    "    ('u2','u5',3), ('u3','u6',2), ('u4','u1',1), ('u5','v1',5), ('u6','v2',2)\n",
    "]\n",
    "G.add_weighted_edges_from(edges)\n",
    "\n",
    "# Encontrar vértices de grau ímpar\n",
    "odd_vertices = [v for v in G.nodes if G.degree(v) % 2 == 1]\n",
    "print(\"Vértices de grau ímpar:\", odd_vertices)\n",
    "\n",
    "# Encontrar caminhos mínimos entre pares de vértices ímpares\n",
    "from itertools import combinations\n",
    "for vi, vj in combinations(odd_vertices, 2):\n",
    "    length, path = nx.single_source_dijkstra(G, vi, vj)\n",
    "    print(f\"Caminho mínimo entre {vi} e {vj}: {path} (peso {length})\")"
   ]
  },
  {
   "cell_type": "markdown",
   "id": "6eb83c44",
   "metadata": {},
   "source": [
    "# Grafos Eulerianos\n",
    "\n",
    "No início do curso estudamos o problema das Pontes de Königsberg, representado pelo seguinte grafo:\n",
    "\n",
    "```\n",
    "A---B\n",
    "|   |\n",
    "C---D\n",
    "```\n",
    "\n",
    "O objetivo era descobrir se é possível fazer um passeio pela cidade, começando e terminando no mesmo lugar e passando por cada uma das pontes apenas uma vez.\n",
    "\n",
    "Em termos de grafos, isso significa encontrar um trajeto fechado que inclua todas as arestas do grafo."
   ]
  },
  {
   "cell_type": "markdown",
   "id": "39691764",
   "metadata": {},
   "source": [
    "## Introdução\n",
    "\n",
    "No início do curso nós estudamos o problema das Pontes de Königsberg e representamos o problema através do seguinte grafo:\n",
    "\n",
    "```\n",
    "A\n",
    "C\n",
    "B\n",
    "D\n",
    "```\n",
    "\n",
    "Queríamos saber se é possível fazer um passeio pela cidade, começando e terminando no mesmo lugar e passando por cada uma das pontes apenas uma vez.\n",
    "\n",
    "Em outras palavras, queríamos encontrar no grafo acima um trajeto fechado que incluísse todas as arestas do grafo."
   ]
  },
  {
   "cell_type": "markdown",
   "id": "e51bd403",
   "metadata": {},
   "source": [
    "## Definição\n",
    "\n",
    "Um trajeto que inclua todas as arestas de um dado grafo $G(V, A)$ é chamado de **trajeto euleriano**.\n",
    "\n",
    "Seja $G$ um grafo conexo. Dizemos que $G$ é **euleriano** se possui um trajeto euleriano fechado (ou seja, um ciclo euleriano).\n",
    "\n",
    "Um grafo $G$ não-euleriano é dito ser **semi-euleriano** se possui um trajeto euleriano (não necessariamente fechado).\n",
    "\n",
    "**Observação:**  \n",
    "Em um grafo euleriano, cada aresta é percorrida uma, e uma única, vez."
   ]
  },
  {
   "cell_type": "markdown",
   "id": "cf595b11",
   "metadata": {},
   "source": [
    "### Exemplos\n",
    "\n",
    "A seguir temos exemplos de grafos euleriano, semi-euleriano e não-euleriano:\n",
    "\n",
    "- **Euleriano:** Todos os vértices têm grau par e o grafo é conexo.\n",
    "- **Semi-euleriano:** Exatamente dois vértices têm grau ímpar e o grafo é conexo.\n",
    "- **Não-euleriano:** Mais de dois vértices têm grau ímpar ou o grafo não é conexo."
   ]
  },
  {
   "cell_type": "markdown",
   "id": "6c777674",
   "metadata": {},
   "source": [
    "## Resultado Auxiliar\n",
    "\n",
    "### Lema\n",
    "\n",
    "Se $G(V, A)$ é um grafo tal que $d(v) \\geq 2$ para todo $v \\in V$, então $G$ contém um ciclo.\n",
    "\n",
    "**Demonstração:**  \n",
    "Se $G$ possui laços ou arestas paralelas, não há o que provar.  \n",
    "Vamos supor que $G$ é um grafo simples. Seja $v_0 \\in V$ um vértice arbitrário de $G$. Como $d(v) \\geq 2$ para todo $v \\in V$, podemos construir um passeio $v_0 \\to v_1 \\to v_2 \\to \\ldots$ indutivamente, escolhendo $v_{i+1}$ como sendo qualquer vértice adjacente a $v_i$ exceto $v_{i-1}$.\n",
    "\n",
    "Como $G$ possui uma quantidade finita de vértices, em algum momento escolheremos algum vértice, digamos $v_k$, pela segunda vez.  \n",
    "A parte do passeio entre a primeira e a segunda ocorrência de $v_k$ constitui um ciclo."
   ]
  },
  {
   "cell_type": "markdown",
   "id": "5828fdef",
   "metadata": {},
   "source": [
    "## Condição Necessária e Suficiente\n",
    "\n",
    "### Teorema (Euler, 1736)\n",
    "\n",
    "Um grafo conexo $G(V, A)$ é euleriano se, e somente se, o grau de cada vértice de $G$ é par.\n",
    "\n",
    "**Demonstração ($\\Rightarrow$):**  \n",
    "Seja $T$ um trajeto euleriano fechado de $G$. Cada vez que um vértice $v$ ocorre no trajeto $T$, há uma contribuição de duas unidades para o grau de $v$ (uma aresta para chegar a $v$ e outra para sair).  \n",
    "Isto vale não só para os vértices intermediários mas também para o vértice final, pois “saímos” e “entramos” no mesmo vértice no início e no final do trajeto.  \n",
    "Como cada aresta ocorre exatamente uma vez em $T$, cada vértice possui grau par."
   ]
  },
  {
   "cell_type": "markdown",
   "id": "67379063",
   "metadata": {},
   "source": [
    "**Demonstração ($\\Leftarrow$):**  \n",
    "A prova é por indução no número de arestas de $G$. Suponhamos que o grau de cada vértice de $G$ é par. Como $G$ é conexo, $d(v) \\geq 2$ para todo $v \\in V$. Segue então do lema anterior que $G$ contém um ciclo $C$.\n",
    "\n",
    "Se $C$ contém todas as arestas de $G$, o teorema está provado.  \n",
    "Se não, removemos de $G$ as arestas de $C$, resultando num grafo $H$, possivelmente desconexo, com menos arestas do que $G$."
   ]
  },
  {
   "cell_type": "markdown",
   "id": "f13f1864",
   "metadata": {},
   "source": [
    "É fácil ver que todos os vértices de $H$ possuem grau par. Logo, pela hipótese de indução, cada componente de $H$ possui um trajeto euleriano fechado.\n",
    "\n",
    "Além disso, pela conexidade de $G$, cada componente de $H$ possui ao menos um vértice em comum com $C$.\n",
    "\n",
    "Portanto, concatenando os trajetos eulerianos fechados de cada componente de $H$ com o ciclo $C$, obtemos um trajeto euleriano fechado em $G$, ou seja, $G$ é um grafo euleriano."
   ]
  },
  {
   "cell_type": "markdown",
   "id": "9b1251f7",
   "metadata": {},
   "source": [
    "## Corolários\n",
    "\n",
    "- Um grafo conexo é euleriano se, e somente se, ele pode ser decomposto em circuitos disjuntos:\n",
    "  $$\n",
    "  G = \\bigcup_i C_i, \\quad C_i \\cap C_j = \\text{grafo nulo}\n",
    "  $$\n",
    "\n",
    "- Um grafo conexo é semi-euleriano se, e somente se, possui exatamente dois vértices de grau ímpar."
   ]
  },
  {
   "cell_type": "markdown",
   "id": "20252497",
   "metadata": {},
   "source": [
    "## Algoritmo de Decomposição (Hierholzer, 1873)\n",
    "\n",
    "Considere um grafo conexo $G(V, A)$, onde $d(v)$ é par para todo $v \\in V$.\n",
    "\n",
    "**Passos:**\n",
    "1. Determine um circuito $C_1$ em $G$. Defina $T_1 = C_1$ e $G_1 = G$.\n",
    "   - Se $T_1$ possui todas as arestas de $G$, pare. $T_1$ é o trajeto procurado.\n",
    "   - Tome $k = 1$.\n",
    "2. Faça $k = k + 1$. Construa o subgrafo $G_k = (V_k, A_k)$ removendo de $G_{k-1}$ as arestas pertencentes a $T_{k-1}$. Remova de $G_k$ os vértices isolados.\n",
    "3. Determine um vértice $v \\in V_k \\cap V_{k-1}$. A partir de $v$, determine um circuito $C_k$ em $G_k$.\n",
    "4. Defina $T_k = T_{k-1} \\cup C_k$.\n",
    "   - Se $T_k$ possui todas as arestas de $G$, vá para o Passo 5.\n",
    "   - Caso contrário, retorne ao Passo 2.\n",
    "5. Pare. $T_k$ é o trajeto procurado e $G = \\bigcup_{i=1}^k C_i$."
   ]
  },
  {
   "cell_type": "markdown",
   "id": "ef93aa2f",
   "metadata": {},
   "source": [
    "## Algoritmo de Fleury (Fleury, 1883)\n",
    "\n",
    "Considere um grafo conexo $G(V, A)$, onde $d(v)$ é par para todo $v \\in V$.\n",
    "\n",
    "**Procedimento:**\n",
    "- Comece em qualquer vértice $v$ e percorra as arestas de forma aleatória, seguindo sempre as seguintes regras:\n",
    "  - Exclua as arestas depois de passar por elas;\n",
    "  - Exclua os vértices isolados, caso ocorram;\n",
    "  - Passe por uma ponte somente se não houver outra alternativa."
   ]
  },
  {
   "cell_type": "code",
   "execution_count": null,
   "id": "878bf31a",
   "metadata": {},
   "outputs": [],
   "source": [
    "# Exemplo de grafo euleriano usando networkx\n",
    "import networkx as nx\n",
    "import matplotlib.pyplot as plt\n",
    "\n",
    "G = nx.Graph()\n",
    "edges = [(1,2), (2,3), (3,4), (4,1), (1,3), (2,4)]\n",
    "G.add_edges_from(edges)\n",
    "\n",
    "print(\"É euleriano?\", nx.is_eulerian(G))\n",
    "print(\"Ciclo euleriano:\", list(nx.eulerian_circuit(G)))\n",
    "\n",
    "nx.draw_circular(G, with_labels=True, node_color='lightblue')\n",
    "plt.show()"
   ]
  },
  {
   "cell_type": "code",
   "execution_count": null,
   "id": "b905f2bb",
   "metadata": {},
   "outputs": [],
   "source": [
    "# Exemplo de grafo semi-euleriano usando networkx\n",
    "G2 = nx.Graph()\n",
    "edges2 = [(1,2), (2,3), (3,4), (4,1), (1,3)]\n",
    "G2.add_edges_from(edges2)\n",
    "\n",
    "print(\"É euleriano?\", nx.is_eulerian(G2))\n",
    "print(\"É semi-euleriano?\", nx.has_eulerian_path(G2))\n",
    "print(\"Caminho euleriano:\", list(nx.eulerian_path(G2)))\n",
    "\n",
    "nx.draw_circular(G2, with_labels=True, node_color='lightgreen')\n",
    "plt.show()"
   ]
  },
  {
   "cell_type": "code",
   "execution_count": null,
   "id": "b15c1cd3",
   "metadata": {},
   "outputs": [],
   "source": [
    "# Exemplo de grafo não-euleriano usando networkx\n",
    "G3 = nx.Graph()\n",
    "edges3 = [(1,2), (2,3), (3,4)]\n",
    "G3.add_edges_from(edges3)\n",
    "\n",
    "print(\"É euleriano?\", nx.is_eulerian(G3))\n",
    "print(\"É semi-euleriano?\", nx.has_eulerian_path(G3))\n",
    "\n",
    "nx.draw_circular(G3, with_labels=True, node_color='salmon')\n",
    "plt.show()"
   ]
  },
  {
   "cell_type": "markdown",
   "id": "b73feb4a",
   "metadata": {},
   "source": [
    "## Exemplo\n",
    "\n",
    "Aplique o Algoritmo de Fleury para encontrar um trajeto euleriano no grafo abaixo a partir do vértice 5.\n",
    "\n",
    "*(Desenhe ou descreva o grafo conforme necessário para o exercício.)*"
   ]
  },
  {
   "cell_type": "code",
   "execution_count": null,
   "id": "5034034f",
   "metadata": {},
   "outputs": [],
   "source": [
    "# Exemplo prático do Algoritmo de Fleury usando networkx\n",
    "G4 = nx.Graph()\n",
    "edges4 = [(1,2), (2,3), (3,4), (4,1), (1,3), (2,4)]\n",
    "G4.add_edges_from(edges4)\n",
    "\n",
    "# Algoritmo de Fleury (usando eulerian_circuit do networkx)\n",
    "circuit = list(nx.eulerian_circuit(G4, source=1))\n",
    "print(\"Trajeto euleriano pelo Algoritmo de Fleury:\", circuit)\n",
    "\n",
    "nx.draw_circular(G4, with_labels=True, node_color='lightblue')\n",
    "plt.show()"
   ]
  },
  {
   "cell_type": "markdown",
   "id": "8f49f73b",
   "metadata": {},
   "source": [
    "## 2. Digrafos Eulerianos\n",
    "\n",
    "### Definição\n",
    "\n",
    "Um trajeto orientado que inclua todas as arestas de um dado digrafo $G(V, A)$ é chamado de **trajeto euleriano**.\n",
    "\n",
    "Seja $G$ um digrafo conexo (fortemente ou fracamente). Dizemos que $G$ é **euleriano** se possui um trajeto euleriano fechado.\n",
    "\n",
    "Um digrafo $G$ não-euleriano é dito ser **semi-euleriano** se possui um trajeto euleriano.\n",
    "\n",
    "### Teorema de Euler para digrafos\n",
    "\n",
    "Um digrafo $D(V, A)$ é euleriano se, e somente se, $D$ é balanceado, ou seja, $d^-(v) = d^+(v)$ para todo $v \\in V$.\n",
    "\n",
    "**Corolário:**  \n",
    "Um digrafo $D(V, A)$ é semi-euleriano se, e somente se, existem dois vértices $x, y \\in V$ tais que  \n",
    "$d^+(x) - d^-(x) = 1$, $d^-(y) - d^+(y) = 1$  \n",
    "e  \n",
    "$d^-(v) = d^+(v)$ para todo $v \\in V \\setminus \\{x, y\\}$.\n",
    "\n",
    "**Demonstrações:** Exercício.\n",
    "\n",
    "### Exercícios\n",
    "\n",
    "Determine se os digrafos abaixo são eulerianos ou semi-eulerianos (em caso positivo, exiba os trajetos euleriano e semi-euleriano)."
   ]
  },
  {
   "cell_type": "code",
   "execution_count": null,
   "id": "a9c60390",
   "metadata": {},
   "outputs": [],
   "source": [
    "# Exemplo de digrafo euleriano usando networkx\n",
    "import networkx as nx\n",
    "import matplotlib.pyplot as plt\n",
    "\n",
    "DG = nx.DiGraph()\n",
    "edges = [(1,2), (2,3), (3,4), (4,1)]\n",
    "DG.add_edges_from(edges)\n",
    "\n",
    "print(\"É euleriano?\", nx.is_eulerian(DG))\n",
    "print(\"Ciclo euleriano:\", list(nx.eulerian_circuit(DG)))\n",
    "\n",
    "nx.draw_circular(DG, with_labels=True, node_color='lightblue', arrows=True)\n",
    "plt.show()"
   ]
  },
  {
   "cell_type": "code",
   "execution_count": null,
   "id": "b265922c",
   "metadata": {},
   "outputs": [],
   "source": [
    "# Exemplo de digrafo semi-euleriano usando networkx\n",
    "DG2 = nx.DiGraph()\n",
    "edges2 = [(1,2), (2,3), (3,1), (1,4)]\n",
    "DG2.add_edges_from(edges2)\n",
    "\n",
    "print(\"É euleriano?\", nx.is_eulerian(DG2))\n",
    "print(\"É semi-euleriano?\", nx.has_eulerian_path(DG2))\n",
    "print(\"Caminho euleriano:\", list(nx.eulerian_path(DG2)))\n",
    "\n",
    "nx.draw_circular(DG2, with_labels=True, node_color='lightgreen', arrows=True)\n",
    "plt.show()"
   ]
  },
  {
   "cell_type": "code",
   "execution_count": null,
   "id": "e171d9c4",
   "metadata": {},
   "outputs": [],
   "source": [
    "# Exemplo de digrafo não-euleriano usando networkx\n",
    "DG3 = nx.DiGraph()\n",
    "edges3 = [(1,2), (2,3), (3,4)]\n",
    "DG3.add_edges_from(edges3)\n",
    "\n",
    "print(\"É euleriano?\", nx.is_eulerian(DG3))\n",
    "print(\"É semi-euleriano?\", nx.has_eulerian_path(DG3))\n",
    "\n",
    "nx.draw_circular(DG3, with_labels=True, node_color='salmon', arrows=True)\n",
    "plt.show()"
   ]
  },
  {
   "cell_type": "markdown",
   "id": "1594dfca",
   "metadata": {},
   "source": [
    "## Exercícios sobre Digrafos Eulerianos\n",
    "\n",
    "1. **Mostre que um digrafo euleriano é necessariamente fortemente conexo.**\n",
    "\n",
    "2. **Exiba um contra-exemplo para mostrar que nem todo digrafo fortemente conexo é euleriano.**"
   ]
  },
  {
   "cell_type": "code",
   "execution_count": null,
   "id": "d6db44c1",
   "metadata": {},
   "outputs": [],
   "source": [
    "# Contra-exemplo: digrafo fortemente conexo mas não euleriano\n",
    "import networkx as nx\n",
    "import matplotlib.pyplot as plt\n",
    "\n",
    "DG_ex = nx.DiGraph()\n",
    "DG_ex.add_edges_from([(1,2), (2,3), (3,1), (1,3)])\n",
    "\n",
    "print(\"É fortemente conexo?\", nx.is_strongly_connected(DG_ex))\n",
    "print(\"É euleriano?\", nx.is_eulerian(DG_ex))\n",
    "\n",
    "nx.draw_circular(DG_ex, with_labels=True, node_color='orange', arrows=True)\n",
    "plt.show()"
   ]
  },
  {
   "cell_type": "markdown",
   "id": "183c9081",
   "metadata": {},
   "source": [
    "## O Problema Chinês do Carteiro\n",
    "\n",
    "O Problema Chinês do Carteiro foi postulado em 1962 pelo matemático chinês Mei-Ku Kwan:\n",
    "\n",
    "> Considere um grafo valorado (ou rede) $G$ tal que os pesos das arestas são não-negativos. Encontre um passeio fechado que percorra todas as arestas de $G$ com peso total mínimo.\n",
    "\n",
    "### Aplicações:\n",
    "1. Coleta de lixo\n",
    "2. Entregas\n",
    "3. Limpeza de ruas\n",
    "4. Checagem de páginas da internet\n",
    "\n",
    "#### Exemplo de [Maarten van Steen, Graph Theory and Complex Networks]\n",
    "\n",
    "*Checking a Web site:*  \n",
    "Um site pode ser modelado como um grafo não-direcionado onde cada página é um vértice e cada link é uma aresta de peso 1. O objetivo é navegar por todas as páginas cruzando cada link no máximo uma vez, ou seja, encontrar um passeio euleriano de comprimento mínimo."
   ]
  },
  {
   "cell_type": "markdown",
   "id": "cdd906ae",
   "metadata": {},
   "source": [
    "## Algoritmo para o Problema Chinês do Carteiro ([Gibbons, 1985])\n",
    "\n",
    "Considere um grafo valorado conexo $G$ em que o conjunto de vértices de grau ímpar é $V_{\\text{ímpar}} = \\{v_1, \\ldots, v_{2k}\\}$, onde $k \\geq 1$.\n",
    "\n",
    "**Passos:**\n",
    "1. Para cada par $(v_i, v_j) \\in V_{\\text{ímpar}} \\times V_{\\text{ímpar}}$ com $v_i \\neq v_j$, encontre o caminho mínimo $P_{i,j}$ entre $v_i$ e $v_j$.\n",
    "2. Construa um grafo completo com os $2k$ vértices de $V_{\\text{ímpar}}$ em que o peso da aresta $(v_i, v_j)$ é o peso do caminho mínimo $P_{i,j}$.\n",
    "3. Determine o conjunto $E = \\{e_1, e_2, \\ldots, e_k\\}$ de $k$ arestas do grafo completo, duas a duas não-adjacentes, tal que a soma de seus pesos seja mínima (Emparelhamento perfeito mínimo).\n",
    "4. Para cada aresta $e = (v_i, v_j) \\in E$, duplique as arestas de $P_{i,j}$ em $G$."
   ]
  },
  {
   "cell_type": "code",
   "execution_count": null,
   "id": "41d03ce0",
   "metadata": {},
   "outputs": [],
   "source": [
    "# Exemplo ilustrativo do passo 1 do algoritmo do Carteiro Chinês\n",
    "import networkx as nx\n",
    "\n",
    "G = nx.Graph()\n",
    "edges = [\n",
    "    ('v1','u1',1), ('u1','u2',1), ('u2','v2',2), ('v2','u3',3), ('u3','u4',3),\n",
    "    ('u4','v3',2), ('v3','u5',1), ('u5','u6',4), ('u6','v4',2), ('v4','u1',1),\n",
    "    ('u2','u5',3), ('u3','u6',2), ('u4','u1',1), ('u5','v1',5), ('u6','v2',2)\n",
    "]\n",
    "G.add_weighted_edges_from(edges)\n",
    "\n",
    "# Encontrar vértices de grau ímpar\n",
    "odd_vertices = [v for v in G.nodes if G.degree(v) % 2 == 1]\n",
    "print(\"Vértices de grau ímpar:\", odd_vertices)\n",
    "\n",
    "# Encontrar caminhos mínimos entre pares de vértices ímpares\n",
    "from itertools import combinations\n",
    "for vi, vj in combinations(odd_vertices, 2):\n",
    "    length, path = nx.single_source_dijkstra(G, vi, vj)\n",
    "    print(f\"Caminho mínimo entre {vi} e {vj}: {path} (peso {length})\")"
   ]
  },
  {
   "cell_type": "markdown",
   "id": "0a75d714",
   "metadata": {},
   "source": [
    "# Grafos Eulerianos\n",
    "\n",
    "No início do curso estudamos o problema das Pontes de Königsberg, representado pelo seguinte grafo:\n",
    "\n",
    "```\n",
    "A---B\n",
    "|   |\n",
    "C---D\n",
    "```\n",
    "\n",
    "O objetivo era descobrir se é possível fazer um passeio pela cidade, começando e terminando no mesmo lugar e passando por cada uma das pontes apenas uma vez.\n",
    "\n",
    "Em termos de grafos, isso significa encontrar um trajeto fechado que inclua todas as arestas do grafo."
   ]
  },
  {
   "cell_type": "markdown",
   "id": "eefc68c5",
   "metadata": {},
   "source": [
    "## Introdução\n",
    "\n",
    "No início do curso nós estudamos o problema das Pontes de Königsberg e representamos o problema através do seguinte grafo:\n",
    "\n",
    "```\n",
    "A\n",
    "C\n",
    "B\n",
    "D\n",
    "```\n",
    "\n",
    "Queríamos saber se é possível fazer um passeio pela cidade, começando e terminando no mesmo lugar e passando por cada uma das pontes apenas uma vez.\n",
    "\n",
    "Em outras palavras, queríamos encontrar no grafo acima um trajeto fechado que incluísse todas as arestas do grafo."
   ]
  },
  {
   "cell_type": "markdown",
   "id": "f0061331",
   "metadata": {},
   "source": [
    "## Definição\n",
    "\n",
    "Um trajeto que inclua todas as arestas de um dado grafo $G(V, A)$ é chamado de **trajeto euleriano**.\n",
    "\n",
    "Seja $G$ um grafo conexo. Dizemos que $G$ é **euleriano** se possui um trajeto euleriano fechado (ou seja, um ciclo euleriano).\n",
    "\n",
    "Um grafo $G$ não-euleriano é dito ser **semi-euleriano** se possui um trajeto euleriano (não necessariamente fechado).\n",
    "\n",
    "**Observação:**  \n",
    "Em um grafo euleriano, cada aresta é percorrida uma, e uma única, vez."
   ]
  },
  {
   "cell_type": "markdown",
   "id": "01137862",
   "metadata": {},
   "source": [
    "### Exemplos\n",
    "\n",
    "A seguir temos exemplos de grafos euleriano, semi-euleriano e não-euleriano:\n",
    "\n",
    "- **Euleriano:** Todos os vértices têm grau par e o grafo é conexo.\n",
    "- **Semi-euleriano:** Exatamente dois vértices têm grau ímpar e o grafo é conexo.\n",
    "- **Não-euleriano:** Mais de dois vértices têm grau ímpar ou o grafo não é conexo."
   ]
  },
  {
   "cell_type": "markdown",
   "id": "7f32d82a",
   "metadata": {},
   "source": [
    "## Resultado Auxiliar\n",
    "\n",
    "### Lema\n",
    "\n",
    "Se $G(V, A)$ é um grafo tal que $d(v) \\geq 2$ para todo $v \\in V$, então $G$ contém um ciclo.\n",
    "\n",
    "**Demonstração:**  \n",
    "Se $G$ possui laços ou arestas paralelas, não há o que provar.  \n",
    "Vamos supor que $G$ é um grafo simples. Seja $v_0 \\in V$ um vértice arbitrário de $G$. Como $d(v) \\geq 2$ para todo $v \\in V$, podemos construir um passeio $v_0 \\to v_1 \\to v_2 \\to \\ldots$ indutivamente, escolhendo $v_{i+1}$ como sendo qualquer vértice adjacente a $v_i$ exceto $v_{i-1}$.\n",
    "\n",
    "Como $G$ possui uma quantidade finita de vértices, em algum momento escolheremos algum vértice, digamos $v_k$, pela segunda vez.  \n",
    "A parte do passeio entre a primeira e a segunda ocorrência de $v_k$ constitui um ciclo."
   ]
  },
  {
   "cell_type": "markdown",
   "id": "4c57ef0d",
   "metadata": {},
   "source": [
    "## Condição Necessária e Suficiente\n",
    "\n",
    "### Teorema (Euler, 1736)\n",
    "\n",
    "Um grafo conexo $G(V, A)$ é euleriano se, e somente se, o grau de cada vértice de $G$ é par.\n",
    "\n",
    "**Demonstração ($\\Rightarrow$):**  \n",
    "Seja $T$ um trajeto euleriano fechado de $G$. Cada vez que um vértice $v$ ocorre no trajeto $T$, há uma contribuição de duas unidades para o grau de $v$ (uma aresta para chegar a $v$ e outra para sair).  \n",
    "Isto vale não só para os vértices intermediários mas também para o vértice final, pois “saímos” e “entramos” no mesmo vértice no início e no final do trajeto.  \n",
    "Como cada aresta ocorre exatamente uma vez em $T$, cada vértice possui grau par."
   ]
  },
  {
   "cell_type": "markdown",
   "id": "47130bff",
   "metadata": {},
   "source": [
    "**Demonstração ($\\Leftarrow$):**  \n",
    "A prova é por indução no número de arestas de $G$. Suponhamos que o grau de cada vértice de $G$ é par. Como $G$ é conexo, $d(v) \\geq 2$ para todo $v \\in V$. Segue então do lema anterior que $G$ contém um ciclo $C$.\n",
    "\n",
    "Se $C$ contém todas as arestas de $G$, o teorema está provado.  \n",
    "Se não, removemos de $G$ as arestas de $C$, resultando num grafo $H$, possivelmente desconexo, com menos arestas do que $G$."
   ]
  },
  {
   "cell_type": "markdown",
   "id": "fd1626da",
   "metadata": {},
   "source": [
    "É fácil ver que todos os vértices de $H$ possuem grau par. Logo, pela hipótese de indução, cada componente de $H$ possui um trajeto euleriano fechado.\n",
    "\n",
    "Além disso, pela conexidade de $G$, cada componente de $H$ possui ao menos um vértice em comum com $C$.\n",
    "\n",
    "Portanto, concatenando os trajetos eulerianos fechados de cada componente de $H$ com o ciclo $C$, obtemos um trajeto euleriano fechado em $G$, ou seja, $G$ é um grafo euleriano."
   ]
  },
  {
   "cell_type": "markdown",
   "id": "aee81709",
   "metadata": {},
   "source": [
    "## Corolários\n",
    "\n",
    "- Um grafo conexo é euleriano se, e somente se, ele pode ser decomposto em circuitos disjuntos:\n",
    "  $$\n",
    "  G = \\bigcup_i C_i, \\quad C_i \\cap C_j = \\text{grafo nulo}\n",
    "  $$\n",
    "\n",
    "- Um grafo conexo é semi-euleriano se, e somente se, possui exatamente dois vértices de grau ímpar."
   ]
  },
  {
   "cell_type": "markdown",
   "id": "15263dde",
   "metadata": {},
   "source": [
    "## Algoritmo de Decomposição (Hierholzer, 1873)\n",
    "\n",
    "Considere um grafo conexo $G(V, A)$, onde $d(v)$ é par para todo $v \\in V$.\n",
    "\n",
    "**Passos:**\n",
    "1. Determine um circuito $C_1$ em $G$. Defina $T_1 = C_1$ e $G_1 = G$.\n",
    "   - Se $T_1$ possui todas as arestas de $G$, pare. $T_1$ é o trajeto procurado.\n",
    "   - Tome $k = 1$.\n",
    "2. Faça $k = k + 1$. Construa o subgrafo $G_k = (V_k, A_k)$ removendo de $G_{k-1}$ as arestas pertencentes a $T_{k-1}$. Remova de $G_k$ os vértices isolados.\n",
    "3. Determine um vértice $v \\in V_k \\cap V_{k-1}$. A partir de $v$, determine um circuito $C_k$ em $G_k$.\n",
    "4. Defina $T_k = T_{k-1} \\cup C_k$.\n",
    "   - Se $T_k$ possui todas as arestas de $G$, vá para o Passo 5.\n",
    "   - Caso contrário, retorne ao Passo 2.\n",
    "5. Pare. $T_k$ é o trajeto procurado e $G = \\bigcup_{i=1}^k C_i$."
   ]
  },
  {
   "cell_type": "markdown",
   "id": "509edbb3",
   "metadata": {},
   "source": [
    "## Algoritmo de Fleury (Fleury, 1883)\n",
    "\n",
    "Considere um grafo conexo $G(V, A)$, onde $d(v)$ é par para todo $v \\in V$.\n",
    "\n",
    "**Procedimento:**\n",
    "- Comece em qualquer vértice $v$ e percorra as arestas de forma aleatória, seguindo sempre as seguintes regras:\n",
    "  - Exclua as arestas depois de passar por elas;\n",
    "  - Exclua os vértices isolados, caso ocorram;\n",
    "  - Passe por uma ponte somente se não houver outra alternativa."
   ]
  },
  {
   "cell_type": "code",
   "execution_count": null,
   "id": "bff8bd38",
   "metadata": {},
   "outputs": [],
   "source": [
    "# Exemplo de grafo euleriano usando networkx\n",
    "import networkx as nx\n",
    "import matplotlib.pyplot as plt\n",
    "\n",
    "G = nx.Graph()\n",
    "edges = [(1,2), (2,3), (3,4), (4,1), (1,3), (2,4)]\n",
    "G.add_edges_from(edges)\n",
    "\n",
    "print(\"É euleriano?\", nx.is_eulerian(G))\n",
    "print(\"Ciclo euleriano:\", list(nx.eulerian_circuit(G)))\n",
    "\n",
    "nx.draw_circular(G, with_labels=True, node_color='lightblue')\n",
    "plt.show()"
   ]
  },
  {
   "cell_type": "code",
   "execution_count": null,
   "id": "3a36b2bb",
   "metadata": {},
   "outputs": [],
   "source": [
    "# Exemplo de grafo semi-euleriano usando networkx\n",
    "G2 = nx.Graph()\n",
    "edges2 = [(1,2), (2,3), (3,4), (4,1), (1,3)]\n",
    "G2.add_edges_from(edges2)\n",
    "\n",
    "print(\"É euleriano?\", nx.is_eulerian(G2))\n",
    "print(\"É semi-euleriano?\", nx.has_eulerian_path(G2))\n",
    "print(\"Caminho euleriano:\", list(nx.eulerian_path(G2)))\n",
    "\n",
    "nx.draw_circular(G2, with_labels=True, node_color='lightgreen')\n",
    "plt.show()"
   ]
  },
  {
   "cell_type": "code",
   "execution_count": null,
   "id": "2cf5bec8",
   "metadata": {},
   "outputs": [],
   "source": [
    "# Exemplo de grafo não-euleriano usando networkx\n",
    "G3 = nx.Graph()\n",
    "edges3 = [(1,2), (2,3), (3,4)]\n",
    "G3.add_edges_from(edges3)\n",
    "\n",
    "print(\"É euleriano?\", nx.is_eulerian(G3))\n",
    "print(\"É semi-euleriano?\", nx.has_eulerian_path(G3))\n",
    "\n",
    "nx.draw_circular(G3, with_labels=True, node_color='salmon')\n",
    "plt.show()"
   ]
  },
  {
   "cell_type": "markdown",
   "id": "09469466",
   "metadata": {},
   "source": [
    "## Exemplo\n",
    "\n",
    "Aplique o Algoritmo de Fleury para encontrar um trajeto euleriano no grafo abaixo a partir do vértice 5.\n",
    "\n",
    "*(Desenhe ou descreva o grafo conforme necessário para o exercício.)*"
   ]
  },
  {
   "cell_type": "code",
   "execution_count": null,
   "id": "6c099bfe",
   "metadata": {},
   "outputs": [],
   "source": [
    "# Exemplo prático do Algoritmo de Fleury usando networkx\n",
    "G4 = nx.Graph()\n",
    "edges4 = [(1,2), (2,3), (3,4), (4,1), (1,3), (2,4)]\n",
    "G4.add_edges_from(edges4)\n",
    "\n",
    "# Algoritmo de Fleury (usando eulerian_circuit do networkx)\n",
    "circuit = list(nx.eulerian_circuit(G4, source=1))\n",
    "print(\"Trajeto euleriano pelo Algoritmo de Fleury:\", circuit)\n",
    "\n",
    "nx.draw_circular(G4, with_labels=True, node_color='lightblue')\n",
    "plt.show()"
   ]
  },
  {
   "cell_type": "markdown",
   "id": "ff483393",
   "metadata": {},
   "source": [
    "## 2. Digrafos Eulerianos\n",
    "\n",
    "### Definição\n",
    "\n",
    "Um trajeto orientado que inclua todas as arestas de um dado digrafo $G(V, A)$ é chamado de **trajeto euleriano**.\n",
    "\n",
    "Seja $G$ um digrafo conexo (fortemente ou fracamente). Dizemos que $G$ é **euleriano** se possui um trajeto euleriano fechado.\n",
    "\n",
    "Um digrafo $G$ não-euleriano é dito ser **semi-euleriano** se possui um trajeto euleriano.\n",
    "\n",
    "### Teorema de Euler para digrafos\n",
    "\n",
    "Um digrafo $D(V, A)$ é euleriano se, e somente se, $D$ é balanceado, ou seja, $d^-(v) = d^+(v)$ para todo $v \\in V$.\n",
    "\n",
    "**Corolário:**  \n",
    "Um digrafo $D(V, A)$ é semi-euleriano se, e somente se, existem dois vértices $x, y \\in V$ tais que  \n",
    "$d^+(x) - d^-(x) = 1$, $d^-(y) - d^+(y) = 1$  \n",
    "e  \n",
    "$d^-(v) = d^+(v)$ para todo $v \\in V \\setminus \\{x, y\\}$.\n",
    "\n",
    "**Demonstrações:** Exercício.\n",
    "\n",
    "### Exercícios\n",
    "\n",
    "Determine se os digrafos abaixo são eulerianos ou semi-eulerianos (em caso positivo, exiba os trajetos euleriano e semi-euleriano)."
   ]
  },
  {
   "cell_type": "code",
   "execution_count": null,
   "id": "f85a1a0c",
   "metadata": {},
   "outputs": [],
   "source": [
    "# Exemplo de digrafo euleriano usando networkx\n",
    "import networkx as nx\n",
    "import matplotlib.pyplot as plt\n",
    "\n",
    "DG = nx.DiGraph()\n",
    "edges = [(1,2), (2,3), (3,4), (4,1)]\n",
    "DG.add_edges_from(edges)\n",
    "\n",
    "print(\"É euleriano?\", nx.is_eulerian(DG))\n",
    "print(\"Ciclo euleriano:\", list(nx.eulerian_circuit(DG)))\n",
    "\n",
    "nx.draw_circular(DG, with_labels=True, node_color='lightblue', arrows=True)\n",
    "plt.show()"
   ]
  },
  {
   "cell_type": "code",
   "execution_count": null,
   "id": "8c53b384",
   "metadata": {},
   "outputs": [],
   "source": [
    "# Exemplo de digrafo semi-euleriano usando networkx\n",
    "DG2 = nx.DiGraph()\n",
    "edges2 = [(1,2), (2,3), (3,1), (1,4)]\n",
    "DG2.add_edges_from(edges2)\n",
    "\n",
    "print(\"É euleriano?\", nx.is_eulerian(DG2))\n",
    "print(\"É semi-euleriano?\", nx.has_eulerian_path(DG2))\n",
    "print(\"Caminho euleriano:\", list(nx.eulerian_path(DG2)))\n",
    "\n",
    "nx.draw_circular(DG2, with_labels=True, node_color='lightgreen', arrows=True)\n",
    "plt.show()"
   ]
  },
  {
   "cell_type": "code",
   "execution_count": null,
   "id": "0e039b99",
   "metadata": {},
   "outputs": [],
   "source": [
    "# Exemplo de digrafo não-euleriano usando networkx\n",
    "DG3 = nx.DiGraph()\n",
    "edges3 = [(1,2), (2,3), (3,4)]\n",
    "DG3.add_edges_from(edges3)\n",
    "\n",
    "print(\"É euleriano?\", nx.is_eulerian(DG3))\n",
    "print(\"É semi-euleriano?\", nx.has_eulerian_path(DG3))\n",
    "\n",
    "nx.draw_circular(DG3, with_labels=True, node_color='salmon', arrows=True)\n",
    "plt.show()"
   ]
  },
  {
   "cell_type": "markdown",
   "id": "a7cb9b7b",
   "metadata": {},
   "source": [
    "## Exercícios sobre Digrafos Eulerianos\n",
    "\n",
    "1. **Mostre que um digrafo euleriano é necessariamente fortemente conexo.**\n",
    "\n",
    "2. **Exiba um contra-exemplo para mostrar que nem todo digrafo fortemente conexo é euleriano.**"
   ]
  },
  {
   "cell_type": "code",
   "execution_count": null,
   "id": "dfda7f18",
   "metadata": {},
   "outputs": [],
   "source": [
    "# Contra-exemplo: digrafo fortemente conexo mas não euleriano\n",
    "import networkx as nx\n",
    "import matplotlib.pyplot as plt\n",
    "\n",
    "DG_ex = nx.DiGraph()\n",
    "DG_ex.add_edges_from([(1,2), (2,3), (3,1), (1,3)])\n",
    "\n",
    "print(\"É fortemente conexo?\", nx.is_strongly_connected(DG_ex))\n",
    "print(\"É euleriano?\", nx.is_eulerian(DG_ex))\n",
    "\n",
    "nx.draw_circular(DG_ex, with_labels=True, node_color='orange', arrows=True)\n",
    "plt.show()"
   ]
  },
  {
   "cell_type": "markdown",
   "id": "bd44af91",
   "metadata": {},
   "source": [
    "## O Problema Chinês do Carteiro\n",
    "\n",
    "O Problema Chinês do Carteiro foi postulado em 1962 pelo matemático chinês Mei-Ku Kwan:\n",
    "\n",
    "> Considere um grafo valorado (ou rede) $G$ tal que os pesos das arestas são não-negativos. Encontre um passeio fechado que percorra todas as arestas de $G$ com peso total mínimo.\n",
    "\n",
    "### Aplicações:\n",
    "1. Coleta de lixo\n",
    "2. Entregas\n",
    "3. Limpeza de ruas\n",
    "4. Checagem de páginas da internet\n",
    "\n",
    "#### Exemplo de [Maarten van Steen, Graph Theory and Complex Networks]\n",
    "\n",
    "*Checking a Web site:*  \n",
    "Um site pode ser modelado como um grafo não-direcionado onde cada página é um vértice e cada link é uma aresta de peso 1. O objetivo é navegar por todas as páginas cruzando cada link no máximo uma vez, ou seja, encontrar um passeio euleriano de comprimento mínimo."
   ]
  },
  {
   "cell_type": "markdown",
   "id": "0ed51bf7",
   "metadata": {},
   "source": [
    "## Algoritmo para o Problema Chinês do Carteiro ([Gibbons, 1985])\n",
    "\n",
    "Considere um grafo valorado conexo $G$ em que o conjunto de vértices de grau ímpar é $V_{\\text{ímpar}} = \\{v_1, \\ldots, v_{2k}\\}$, onde $k \\geq 1$.\n",
    "\n",
    "**Passos:**\n",
    "1. Para cada par $(v_i, v_j) \\in V_{\\text{ímpar}} \\times V_{\\text{ímpar}}$ com $v_i \\neq v_j$, encontre o caminho mínimo $P_{i,j}$ entre $v_i$ e $v_j$.\n",
    "2. Construa um grafo completo com os $2k$ vértices de $V_{\\text{ímpar}}$ em que o peso da aresta $(v_i, v_j)$ é o peso do caminho mínimo $P_{i,j}$.\n",
    "3. Determine o conjunto $E = \\{e_1, e_2, \\ldots, e_k\\}$ de $k$ arestas do grafo completo, duas a duas não-adjacentes, tal que a soma de seus pesos seja mínima (Emparelhamento perfeito mínimo).\n",
    "4. Para cada aresta $e = (v_i, v_j) \\in E$, duplique as arestas de $P_{i,j}$ em $G$."
   ]
  },
  {
   "cell_type": "code",
   "execution_count": null,
   "id": "796c3334",
   "metadata": {},
   "outputs": [],
   "source": [
    "# Exemplo ilustrativo do passo 1 do algoritmo do Carteiro Chinês\n",
    "import networkx as nx\n",
    "\n",
    "G = nx.Graph()\n",
    "edges = [\n",
    "    ('v1','u1',1), ('u1','u2',1), ('u2','v2',2), ('v2','u3',3), ('u3','u4',3),\n",
    "    ('u4','v3',2), ('v3','u5',1), ('u5','u6',4), ('u6','v4',2), ('v4','u1',1),\n",
    "    ('u2','u5',3), ('u3','u6',2), ('u4','u1',1), ('u5','v1',5), ('u6','v2',2)\n",
    "]\n",
    "G.add_weighted_edges_from(edges)\n",
    "\n",
    "# Encontrar vértices de grau ímpar\n",
    "odd_vertices = [v for v in G.nodes if G.degree(v) % 2 == 1]\n",
    "print(\"Vértices de grau ímpar:\", odd_vertices)\n",
    "\n",
    "# Encontrar caminhos mínimos entre pares de vértices ímpares\n",
    "from itertools import combinations\n",
    "for vi, vj in combinations(odd_vertices, 2):\n",
    "    length, path = nx.single_source_dijkstra(G, vi, vj)\n",
    "    print(f\"Caminho mínimo entre {vi} e {vj}: {path} (peso {length})\")"
   ]
  },
  {
   "cell_type": "markdown",
   "id": "e7a67a5f",
   "metadata": {},
   "source": [
    "# Grafos Eulerianos\n",
    "\n",
    "No início do curso estudamos o problema das Pontes de Königsberg, representado pelo seguinte grafo:\n",
    "\n",
    "```\n",
    "A---B\n",
    "|   |\n",
    "C---D\n",
    "```\n",
    "\n",
    "O objetivo era descobrir se é possível fazer um passeio pela cidade, começando e terminando no mesmo lugar e passando por cada uma das pontes apenas uma vez.\n",
    "\n",
    "Em termos de grafos, isso significa encontrar um trajeto fechado que inclua todas as arestas do grafo."
   ]
  },
  {
   "cell_type": "markdown",
   "id": "e155e04d",
   "metadata": {},
   "source": [
    "## Introdução\n",
    "\n",
    "No início do curso nós estudamos o problema das Pontes de Königsberg e representamos o problema através do seguinte grafo:\n",
    "\n",
    "```\n",
    "A\n",
    "C\n",
    "B\n",
    "D\n",
    "```\n",
    "\n",
    "Queríamos saber se é possível fazer um passeio pela cidade, começando e terminando no mesmo lugar e passando por cada uma das pontes apenas uma vez.\n",
    "\n",
    "Em outras palavras, queríamos encontrar no grafo acima um trajeto fechado que incluísse todas as arestas do grafo."
   ]
  },
  {
   "cell_type": "markdown",
   "id": "0236f450",
   "metadata": {},
   "source": [
    "## Definição\n",
    "\n",
    "Um trajeto que inclua todas as arestas de um dado grafo $G(V, A)$ é chamado de **trajeto euleriano**.\n",
    "\n",
    "Seja $G$ um grafo conexo. Dizemos que $G$ é **euleriano** se possui um trajeto euleriano fechado (ou seja, um ciclo euleriano).\n",
    "\n",
    "Um grafo $G$ não-euleriano é dito ser **semi-euleriano** se possui um trajeto euleriano (não necessariamente fechado).\n",
    "\n",
    "**Observação:**  \n",
    "Em um grafo euleriano, cada aresta é percorrida uma, e uma única, vez."
   ]
  },
  {
   "cell_type": "markdown",
   "id": "57045fb6",
   "metadata": {},
   "source": [
    "### Exemplos\n",
    "\n",
    "A seguir temos exemplos de grafos euleriano, semi-euleriano e não-euleriano:\n",
    "\n",
    "- **Euleriano:** Todos os vértices têm grau par e o grafo é conexo.\n",
    "- **Semi-euleriano:** Exatamente dois vértices têm grau ímpar e o grafo é conexo.\n",
    "- **Não-euleriano:** Mais de dois vértices têm grau ímpar ou o grafo não é conexo."
   ]
  },
  {
   "cell_type": "markdown",
   "id": "0b9acdeb",
   "metadata": {},
   "source": [
    "## Resultado Auxiliar\n",
    "\n",
    "### Lema\n",
    "\n",
    "Se $G(V, A)$ é um grafo tal que $d(v) \\geq 2$ para todo $v \\in V$, então $G$ contém um ciclo.\n",
    "\n",
    "**Demonstração:**  \n",
    "Se $G$ possui laços ou arestas paralelas, não há o que provar.  \n",
    "Vamos supor que $G$ é um grafo simples. Seja $v_0 \\in V$ um vértice arbitrário de $G$. Como $d(v) \\geq 2$ para todo $v \\in V$, podemos construir um passeio $v_0 \\to v_1 \\to v_2 \\to \\ldots$ indutivamente, escolhendo $v_{i+1}$ como sendo qualquer vértice adjacente a $v_i$ exceto $v_{i-1}$.\n",
    "\n",
    "Como $G$ possui uma quantidade finita de vértices, em algum momento escolheremos algum vértice, digamos $v_k$, pela segunda vez.  \n",
    "A parte do passeio entre a primeira e a segunda ocorrência de $v_k$ constitui um ciclo."
   ]
  },
  {
   "cell_type": "markdown",
   "id": "2141c96a",
   "metadata": {},
   "source": [
    "## Condição Necessária e Suficiente\n",
    "\n",
    "### Teorema (Euler, 1736)\n",
    "\n",
    "Um grafo conexo $G(V, A)$ é euleriano se, e somente se, o grau de cada vértice de $G$ é par.\n",
    "\n",
    "**Demonstração ($\\Rightarrow$):**  \n",
    "Seja $T$ um trajeto euleriano fechado de $G$. Cada vez que um vértice $v$ ocorre no trajeto $T$, há uma contribuição de duas unidades para o grau de $v$ (uma aresta para chegar a $v$ e outra para sair).  \n",
    "Isto vale não só para os vértices intermediários mas também para o vértice final, pois “saímos” e “entramos” no mesmo vértice no início e no final do trajeto.  \n",
    "Como cada aresta ocorre exatamente uma vez em $T$, cada vértice possui grau par."
   ]
  },
  {
   "cell_type": "markdown",
   "id": "857d8230",
   "metadata": {},
   "source": [
    "**Demonstração ($\\Leftarrow$):**  \n",
    "A prova é por indução no número de arestas de $G$. Suponhamos que o grau de cada vértice de $G$ é par. Como $G$ é conexo, $d(v) \\geq 2$ para todo $v \\in V$. Segue então do lema anterior que $G$ contém um ciclo $C$.\n",
    "\n",
    "Se $C$ contém todas as arestas de $G$, o teorema está provado.  \n",
    "Se não, removemos de $G$ as arestas de $C$, resultando num grafo $H$, possivelmente desconexo, com menos arestas do que $G$."
   ]
  },
  {
   "cell_type": "markdown",
   "id": "8507e8a3",
   "metadata": {},
   "source": [
    "É fácil ver que todos os vértices de $H$ possuem grau par. Logo, pela hipótese de indução, cada componente de $H$ possui um trajeto euleriano fechado.\n",
    "\n",
    "Além disso, pela conexidade de $G$, cada componente de $H$ possui ao menos um vértice em comum com $C$.\n",
    "\n",
    "Portanto, concatenando os trajetos eulerianos fechados de cada componente de $H$ com o ciclo $C$, obtemos um trajeto euleriano fechado em $G$, ou seja, $G$ é um grafo euleriano."
   ]
  },
  {
   "cell_type": "markdown",
   "id": "dbb22f77",
   "metadata": {},
   "source": [
    "## Corolários\n",
    "\n",
    "- Um grafo conexo é euleriano se, e somente se, ele pode ser decomposto em circuitos disjuntos:\n",
    "  $$\n",
    "  G = \\bigcup_i C_i, \\quad C_i \\cap C_j = \\text{grafo nulo}\n",
    "  $$\n",
    "\n",
    "- Um grafo conexo é semi-euleriano se, e somente se, possui exatamente dois vértices de grau ímpar."
   ]
  },
  {
   "cell_type": "markdown",
   "id": "dc42303a",
   "metadata": {},
   "source": [
    "## Algoritmo de Decomposição (Hierholzer, 1873)\n",
    "\n",
    "Considere um grafo conexo $G(V, A)$, onde $d(v)$ é par para todo $v \\in V$.\n",
    "\n",
    "**Passos:**\n",
    "1. Determine um circuito $C_1$ em $G$. Defina $T_1 = C_1$ e $G_1 = G$.\n",
    "   - Se $T_1$ possui todas as arestas de $G$, pare. $T_1$ é o trajeto procurado.\n",
    "   - Tome $k = 1$.\n",
    "2. Faça $k = k + 1$. Construa o subgrafo $G_k = (V_k, A_k)$ removendo de $G_{k-1}$ as arestas pertencentes a $T_{k-1}$. Remova de $G_k$ os vértices isolados.\n",
    "3. Determine um vértice $v \\in V_k \\cap V_{k-1}$. A partir de $v$, determine um circuito $C_k$ em $G_k$.\n",
    "4. Defina $T_k = T_{k-1} \\cup C_k$.\n",
    "   - Se $T_k$ possui todas as arestas de $G$, vá para o Passo 5.\n",
    "   - Caso contrário, retorne ao Passo 2.\n",
    "5. Pare. $T_k$ é o trajeto procurado e $G = \\bigcup_{i=1}^k C_i$."
   ]
  },
  {
   "cell_type": "markdown",
   "id": "6a59178d",
   "metadata": {},
   "source": [
    "## Algoritmo de Fleury (Fleury, 1883)\n",
    "\n",
    "Considere um grafo conexo $G(V, A)$, onde $d(v)$ é par para todo $v \\in V$.\n",
    "\n",
    "**Procedimento:**\n",
    "- Comece em qualquer vértice $v$ e percorra as arestas de forma aleatória, seguindo sempre as seguintes regras:\n",
    "  - Exclua as arestas depois de passar por elas;\n",
    "  - Exclua os vértices isolados, caso ocorram;\n",
    "  - Passe por uma ponte somente se não houver outra alternativa."
   ]
  },
  {
   "cell_type": "code",
   "execution_count": null,
   "id": "2be54721",
   "metadata": {},
   "outputs": [],
   "source": [
    "# Exemplo de grafo euleriano usando networkx\n",
    "import networkx as nx\n",
    "import matplotlib.pyplot as plt\n",
    "\n",
    "G = nx.Graph()\n",
    "edges = [(1,2), (2,3), (3,4), (4,1), (1,3), (2,4)]\n",
    "G.add_edges_from(edges)\n",
    "\n",
    "print(\"É euleriano?\", nx.is_eulerian(G))\n",
    "print(\"Ciclo euleriano:\", list(nx.eulerian_circuit(G)))\n",
    "\n",
    "nx.draw_circular(G, with_labels=True, node_color='lightblue')\n",
    "plt.show()"
   ]
  },
  {
   "cell_type": "code",
   "execution_count": null,
   "id": "d767f299",
   "metadata": {},
   "outputs": [],
   "source": [
    "# Exemplo de grafo semi-euleriano usando networkx\n",
    "G2 = nx.Graph()\n",
    "edges2 = [(1,2), (2,3), (3,4), (4,1), (1,3)]\n",
    "G2.add_edges_from(edges2)\n",
    "\n",
    "print(\"É euleriano?\", nx.is_eulerian(G2))\n",
    "print(\"É semi-euleriano?\", nx.has_eulerian_path(G2))\n",
    "print(\"Caminho euleriano:\", list(nx.eulerian_path(G2)))\n",
    "\n",
    "nx.draw_circular(G2, with_labels=True, node_color='lightgreen')\n",
    "plt.show()"
   ]
  },
  {
   "cell_type": "code",
   "execution_count": null,
   "id": "54e36ad3",
   "metadata": {},
   "outputs": [],
   "source": [
    "# Exemplo de grafo não-euleriano usando networkx\n",
    "G3 = nx.Graph()\n",
    "edges3 = [(1,2), (2,3), (3,4)]\n",
    "G3.add_edges_from(edges3)\n",
    "\n",
    "print(\"É euleriano?\", nx.is_eulerian(G3))\n",
    "print(\"É semi-euleriano?\", nx.has_eulerian_path(G3))\n",
    "\n",
    "nx.draw_circular(G3, with_labels=True, node_color='salmon')\n",
    "plt.show()"
   ]
  },
  {
   "cell_type": "markdown",
   "id": "bbf271f8",
   "metadata": {},
   "source": [
    "## Exemplo\n",
    "\n",
    "Aplique o Algoritmo de Fleury para encontrar um trajeto euleriano no grafo abaixo a partir do vértice 5.\n",
    "\n",
    "*(Desenhe ou descreva o grafo conforme necessário para o exercício.)*"
   ]
  },
  {
   "cell_type": "code",
   "execution_count": null,
   "id": "8b704617",
   "metadata": {},
   "outputs": [],
   "source": [
    "# Exemplo prático do Algoritmo de Fleury usando networkx\n",
    "G4 = nx.Graph()\n",
    "edges4 = [(1,2), (2,3), (3,4), (4,1), (1,3), (2,4)]\n",
    "G4.add_edges_from(edges4)\n",
    "\n",
    "# Algoritmo de Fleury (usando eulerian_circuit do networkx)\n",
    "circuit = list(nx.eulerian_circuit(G4, source=1))\n",
    "print(\"Trajeto euleriano pelo Algoritmo de Fleury:\", circuit)\n",
    "\n",
    "nx.draw_circular(G4, with_labels=True, node_color='lightblue')\n",
    "plt.show()"
   ]
  },
  {
   "cell_type": "markdown",
   "id": "b9a1161f",
   "metadata": {},
   "source": [
    "## 2. Digrafos Eulerianos\n",
    "\n",
    "### Definição\n",
    "\n",
    "Um trajeto orientado que inclua todas as arestas de um dado digrafo $G(V, A)$ é chamado de **trajeto euleriano**.\n",
    "\n",
    "Seja $G$ um digrafo conexo (fortemente ou fracamente). Dizemos que $G$ é **euleriano** se possui um trajeto euleriano fechado.\n",
    "\n",
    "Um digrafo $G$ não-euleriano é dito ser **semi-euleriano** se possui um trajeto euleriano.\n",
    "\n",
    "### Teorema de Euler para digrafos\n",
    "\n",
    "Um digrafo $D(V, A)$ é euleriano se, e somente se, $D$ é balanceado, ou seja, $d^-(v) = d^+(v)$ para todo $v \\in V$.\n",
    "\n",
    "**Corolário:**  \n",
    "Um digrafo $D(V, A)$ é semi-euleriano se, e somente se, existem dois vértices $x, y \\in V$ tais que  \n",
    "$d^+(x) - d^-(x) = 1$, $d^-(y) - d^+(y) = 1$  \n",
    "e  \n",
    "$d^-(v) = d^+(v)$ para todo $v \\in V \\setminus \\{x, y\\}$.\n",
    "\n",
    "**Demonstrações:** Exercício.\n",
    "\n",
    "### Exercícios\n",
    "\n",
    "Determine se os digrafos abaixo são eulerianos ou semi-eulerianos (em caso positivo, exiba os trajetos euleriano e semi-euleriano)."
   ]
  },
  {
   "cell_type": "code",
   "execution_count": null,
   "id": "143b55e6",
   "metadata": {},
   "outputs": [],
   "source": [
    "# Exemplo de digrafo euleriano usando networkx\n",
    "import networkx as nx\n",
    "import matplotlib.pyplot as plt\n",
    "\n",
    "DG = nx.DiGraph()\n",
    "edges = [(1,2), (2,3), (3,4), (4,1)]\n",
    "DG.add_edges_from(edges)\n",
    "\n",
    "print(\"É euleriano?\", nx.is_eulerian(DG))\n",
    "print(\"Ciclo euleriano:\", list(nx.eulerian_circuit(DG)))\n",
    "\n",
    "nx.draw_circular(DG, with_labels=True, node_color='lightblue', arrows=True)\n",
    "plt.show()"
   ]
  },
  {
   "cell_type": "code",
   "execution_count": null,
   "id": "fb6e96ce",
   "metadata": {},
   "outputs": [],
   "source": [
    "# Exemplo de digrafo semi-euleriano usando networkx\n",
    "DG2 = nx.DiGraph()\n",
    "edges2 = [(1,2), (2,3), (3,1), (1,4)]\n",
    "DG2.add_edges_from(edges2)\n",
    "\n",
    "print(\"É euleriano?\", nx.is_eulerian(DG2))\n",
    "print(\"É semi-euleriano?\", nx.has_eulerian_path(DG2))\n",
    "print(\"Caminho euleriano:\", list(nx.eulerian_path(DG2)))\n",
    "\n",
    "nx.draw_circular(DG2, with_labels=True, node_color='lightgreen', arrows=True)\n",
    "plt.show()"
   ]
  },
  {
   "cell_type": "code",
   "execution_count": null,
   "id": "6170be9d",
   "metadata": {},
   "outputs": [],
   "source": [
    "# Exemplo de digrafo não-euleriano usando networkx\n",
    "DG3 = nx.DiGraph()\n",
    "edges3 = [(1,2), (2,3), (3,4)]\n",
    "DG3.add_edges_from(edges3)\n",
    "\n",
    "print(\"É euleriano?\", nx.is_eulerian(DG3))\n",
    "print(\"É semi-euleriano?\", nx.has_eulerian_path(DG3))\n",
    "\n",
    "nx.draw_circular(DG3, with_labels=True, node_color='salmon', arrows=True)\n",
    "plt.show()"
   ]
  },
  {
   "cell_type": "markdown",
   "id": "620b0e3b",
   "metadata": {},
   "source": [
    "## Exercícios sobre Digrafos Eulerianos\n",
    "\n",
    "1. **Mostre que um digrafo euleriano é necessariamente fortemente conexo.**\n",
    "\n",
    "2. **Exiba um contra-exemplo para mostrar que nem todo digrafo fortemente conexo é euleriano.**"
   ]
  },
  {
   "cell_type": "code",
   "execution_count": null,
   "id": "07d7a187",
   "metadata": {},
   "outputs": [],
   "source": [
    "# Contra-exemplo: digrafo fortemente conexo mas não euleriano\n",
    "import networkx as nx\n",
    "import matplotlib.pyplot as plt\n",
    "\n",
    "DG_ex = nx.DiGraph()\n",
    "DG_ex.add_edges_from([(1,2), (2,3), (3,1), (1,3)])\n",
    "\n",
    "print(\"É fortemente conexo?\", nx.is_strongly_connected(DG_ex))\n",
    "print(\"É euleriano?\", nx.is_eulerian(DG_ex))\n",
    "\n",
    "nx.draw_circular(DG_ex, with_labels=True, node_color='orange', arrows=True)\n",
    "plt.show()"
   ]
  },
  {
   "cell_type": "markdown",
   "id": "b6bad6df",
   "metadata": {},
   "source": [
    "## O Problema Chinês do Carteiro\n",
    "\n",
    "O Problema Chinês do Carteiro foi postulado em 1962 pelo matemático chinês Mei-Ku Kwan:\n",
    "\n",
    "> Considere um grafo valorado (ou rede) $G$ tal que os pesos das arestas são não-negativos. Encontre um passeio fechado que percorra todas as arestas de $G$ com peso total mínimo.\n",
    "\n",
    "### Aplicações:\n",
    "1. Coleta de lixo\n",
    "2. Entregas\n",
    "3. Limpeza de ruas\n",
    "4. Checagem de páginas da internet\n",
    "\n",
    "#### Exemplo de [Maarten van Steen, Graph Theory and Complex Networks]\n",
    "\n",
    "*Checking a Web site:*  \n",
    "Um site pode ser modelado como um grafo não-direcionado onde cada página é um vértice e cada link é uma aresta de peso 1. O objetivo é navegar por todas as páginas cruzando cada link no máximo uma vez, ou seja, encontrar um passeio euleriano de comprimento mínimo."
   ]
  },
  {
   "cell_type": "markdown",
   "id": "37f20413",
   "metadata": {},
   "source": [
    "## Algoritmo para o Problema Chinês do Carteiro ([Gibbons, 1985])\n",
    "\n",
    "Considere um grafo valorado conexo $G$ em que o conjunto de vértices de grau ímpar é $V_{\\text{ímpar}} = \\{v_1, \\ldots, v_{2k}\\}$, onde $k \\geq 1$.\n",
    "\n",
    "**Passos:**\n",
    "1. Para cada par $(v_i, v_j) \\in V_{\\text{ímpar}} \\times V_{\\text{ímpar}}$ com $v_i \\neq v_j$, encontre o caminho mínimo $P_{i,j}$ entre $v_i$ e $v_j$.\n",
    "2. Construa um grafo completo com os $2k$ vértices de $V_{\\text{ímpar}}$ em que o peso da aresta $(v_i, v_j)$ é o peso do caminho mínimo $P_{i,j}$.\n",
    "3. Determine o conjunto $E = \\{e_1, e_2, \\ldots, e_k\\}$ de $k$ arestas do grafo completo, duas a duas não-adjacentes, tal que a soma de seus pesos seja mínima (Emparelhamento perfeito mínimo).\n",
    "4. Para cada aresta $e = (v_i, v_j) \\in E$, duplique as arestas de $P_{i,j}$ em $G$."
   ]
  },
  {
   "cell_type": "code",
   "execution_count": null,
   "id": "628a3050",
   "metadata": {},
   "outputs": [],
   "source": [
    "# Exemplo ilustrativo do passo 1 do algoritmo do Carteiro Chinês\n",
    "import networkx as nx\n",
    "\n",
    "G = nx.Graph()\n",
    "edges = [\n",
    "    ('v1','u1',1), ('u1','u2',1), ('u2','v2',2), ('v2','u3',3), ('u3','u4',3),\n",
    "    ('u4','v3',2), ('v3','u5',1), ('u5','u6',4), ('u6','v4',2), ('v4','u1',1),\n",
    "    ('u2','u5',3), ('u3','u6',2), ('u4','u1',1), ('u5','v1',5), ('u6','v2',2)\n",
    "]\n",
    "G.add_weighted_edges_from(edges)\n",
    "\n",
    "# Encontrar vértices de grau ímpar\n",
    "odd_vertices = [v for v in G.nodes if G.degree(v) % 2 == 1]\n",
    "print(\"Vértices de grau ímpar:\", odd_vertices)\n",
    "\n",
    "# Encontrar caminhos mínimos entre pares de vértices ímpares\n",
    "from itertools import combinations\n",
    "for vi, vj in combinations(odd_vertices, 2):\n",
    "    length, path = nx.single_source_dijkstra(G, vi, vj)\n",
    "    print(f\"Caminho mínimo entre {vi} e {vj}: {path} (peso {length})\")"
   ]
  },
  {
   "cell_type": "markdown",
   "id": "fdcdc74c",
   "metadata": {},
   "source": [
    "# Grafos Eulerianos\n",
    "\n",
    "No início do curso estudamos o problema das Pontes de Königsberg, representado pelo seguinte grafo:\n",
    "\n",
    "```\n",
    "A---B\n",
    "|   |\n",
    "C---D\n",
    "```\n",
    "\n",
    "O objetivo era descobrir se é possível fazer um passeio pela cidade, começando e terminando no mesmo lugar e passando por cada uma das pontes apenas uma vez.\n",
    "\n",
    "Em termos de grafos, isso significa encontrar um trajeto fechado que inclua todas as arestas do grafo."
   ]
  },
  {
   "cell_type": "markdown",
   "id": "0fcab8ae",
   "metadata": {},
   "source": [
    "## Introdução\n",
    "\n",
    "No início do curso nós estudamos o problema das Pontes de Königsberg e representamos o problema através do seguinte grafo:\n",
    "\n",
    "```\n",
    "A\n",
    "C\n",
    "B\n",
    "D\n",
    "```\n",
    "\n",
    "Queríamos saber se é possível fazer um passeio pela cidade, começando e terminando no mesmo lugar e passando por cada uma das pontes apenas uma vez.\n",
    "\n",
    "Em outras palavras, queríamos encontrar no grafo acima um trajeto fechado que incluísse todas as arestas do grafo."
   ]
  },
  {
   "cell_type": "markdown",
   "id": "5501880a",
   "metadata": {},
   "source": [
    "## Definição\n",
    "\n",
    "Um trajeto que inclua todas as arestas de um dado grafo $G(V, A)$ é chamado de **trajeto euleriano**.\n",
    "\n",
    "Seja $G$ um grafo conexo. Dizemos que $G$ é **euleriano** se possui um trajeto euleriano fechado (ou seja, um ciclo euleriano).\n",
    "\n",
    "Um grafo $G$ não-euleriano é dito ser **semi-euleriano** se possui um trajeto euleriano (não necessariamente fechado).\n",
    "\n",
    "**Observação:**  \n",
    "Em um grafo euleriano, cada aresta é percorrida uma, e uma única, vez."
   ]
  },
  {
   "cell_type": "markdown",
   "id": "60f926ec",
   "metadata": {},
   "source": [
    "### Exemplos\n",
    "\n",
    "A seguir temos exemplos de grafos euleriano, semi-euleriano e não-euleriano:\n",
    "\n",
    "- **Euleriano:** Todos os vértices têm grau par e o grafo é conexo.\n",
    "- **Semi-euleriano:** Exatamente dois vértices têm grau ímpar e o grafo é conexo.\n",
    "- **Não-euleriano:** Mais de dois vértices têm grau ímpar ou o grafo não é conexo."
   ]
  },
  {
   "cell_type": "markdown",
   "id": "15dd56ae",
   "metadata": {},
   "source": [
    "## Resultado Auxiliar\n",
    "\n",
    "### Lema\n",
    "\n",
    "Se $G(V, A)$ é um grafo tal que $d(v) \\geq 2$ para todo $v \\in V$, então $G$ contém um ciclo.\n",
    "\n",
    "**Demonstração:**  \n",
    "Se $G$ possui laços ou arestas paralelas, não há o que provar.  \n",
    "Vamos supor que $G$ é um grafo simples. Seja $v_0 \\in V$ um vértice arbitrário de $G$. Como $d(v) \\geq 2$ para todo $v \\in V$, podemos construir um passeio $v_0 \\to v_1 \\to v_2 \\to \\ldots$ indutivamente, escolhendo $v_{i+1}$ como sendo qualquer vértice adjacente a $v_i$ exceto $v_{i-1}$.\n",
    "\n",
    "Como $G$ possui uma quantidade finita de vértices, em algum momento escolheremos algum vértice, digamos $v_k$, pela segunda vez.  \n",
    "A parte do passeio entre a primeira e a segunda ocorrência de $v_k$ constitui um ciclo."
   ]
  },
  {
   "cell_type": "markdown",
   "id": "c7a76edb",
   "metadata": {},
   "source": [
    "## Condição Necessária e Suficiente\n",
    "\n",
    "### Teorema (Euler, 1736)\n",
    "\n",
    "Um grafo conexo $G(V, A)$ é euleriano se, e somente se, o grau de cada vértice de $G$ é par.\n",
    "\n",
    "**Demonstração ($\\Rightarrow$):**  \n",
    "Seja $T$ um trajeto euleriano fechado de $G$. Cada vez que um vértice $v$ ocorre no trajeto $T$, há uma contribuição de duas unidades para o grau de $v$ (uma aresta para chegar a $v$ e outra para sair).  \n",
    "Isto vale não só para os vértices intermediários mas também para o vértice final, pois “saímos” e “entramos” no mesmo vértice no início e no final do trajeto.  \n",
    "Como cada aresta ocorre exatamente uma vez em $T$, cada vértice possui grau par."
   ]
  },
  {
   "cell_type": "markdown",
   "id": "c0534136",
   "metadata": {},
   "source": [
    "**Demonstração ($\\Leftarrow$):**  \n",
    "A prova é por indução no número de arestas de $G$. Suponhamos que o grau de cada vértice de $G$ é par. Como $G$ é conexo, $d(v) \\geq 2$ para todo $v \\in V$. Segue então do lema anterior que $G$ contém um ciclo $C$.\n",
    "\n",
    "Se $C$ contém todas as arestas de $G$, o teorema está provado.  \n",
    "Se não, removemos de $G$ as arestas de $C$, resultando num grafo $H$, possivelmente desconexo, com menos arestas do que $G$."
   ]
  },
  {
   "cell_type": "markdown",
   "id": "a26f4a4a",
   "metadata": {},
   "source": [
    "É fácil ver que todos os vértices de $H$ possuem grau par. Logo, pela hipótese de indução, cada componente de $H$ possui um trajeto euleriano fechado.\n",
    "\n",
    "Além disso, pela conexidade de $G$, cada componente de $H$ possui ao menos um vértice em comum com $C$.\n",
    "\n",
    "Portanto, concatenando os trajetos eulerianos fechados de cada componente de $H$ com o ciclo $C$, obtemos um trajeto euleriano fechado em $G$, ou seja, $G$ é um grafo euleriano."
   ]
  },
  {
   "cell_type": "markdown",
   "id": "a7ebb970",
   "metadata": {},
   "source": [
    "## Corolários\n",
    "\n",
    "- Um grafo conexo é euleriano se, e somente se, ele pode ser decomposto em circuitos disjuntos:\n",
    "  $$\n",
    "  G = \\bigcup_i C_i, \\quad C_i \\cap C_j = \\text{grafo nulo}\n",
    "  $$\n",
    "\n",
    "- Um grafo conexo é semi-euleriano se, e somente se, possui exatamente dois vértices de grau ímpar."
   ]
  },
  {
   "cell_type": "markdown",
   "id": "c92cd3f9",
   "metadata": {},
   "source": [
    "## Algoritmo de Decomposição (Hierholzer, 1873)\n",
    "\n",
    "Considere um grafo conexo $G(V, A)$, onde $d(v)$ é par para todo $v \\in V$.\n",
    "\n",
    "**Passos:**\n",
    "1. Determine um circuito $C_1$ em $G$. Defina $T_1 = C_1$ e $G_1 = G$.\n",
    "   - Se $T_1$ possui todas as arestas de $G$, pare. $T_1$ é o trajeto procurado.\n",
    "   - Tome $k = 1$.\n",
    "2. Faça $k = k + 1$. Construa o subgrafo $G_k = (V_k, A_k)$ removendo de $G_{k-1}$ as arestas pertencentes a $T_{k-1}$. Remova de $G_k$ os vértices isolados.\n",
    "3. Determine um vértice $v \\in V_k \\cap V_{k-1}$. A partir de $v$, determine um circuito $C_k$ em $G_k$.\n",
    "4. Defina $T_k = T_{k-1} \\cup C_k$.\n",
    "   - Se $T_k$ possui todas as arestas de $G$, vá para o Passo 5.\n",
    "   - Caso contrário, retorne ao Passo 2.\n",
    "5. Pare. $T_k$ é o trajeto procurado e $G = \\bigcup_{i=1}^k C_i$."
   ]
  },
  {
   "cell_type": "markdown",
   "id": "39ff16ae",
   "metadata": {},
   "source": [
    "## Algoritmo de Fleury (Fleury, 1883)\n",
    "\n",
    "Considere um grafo conexo $G(V, A)$, onde $d(v)$ é par para todo $v \\in V$.\n",
    "\n",
    "**Procedimento:**\n",
    "- Comece em qualquer vértice $v$ e percorra as arestas de forma aleatória, seguindo sempre as seguintes regras:\n",
    "  - Exclua as arestas depois de passar por elas;\n",
    "  - Exclua os vértices isolados, caso ocorram;\n",
    "  - Passe por uma ponte somente se não houver outra alternativa."
   ]
  },
  {
   "cell_type": "code",
   "execution_count": null,
   "id": "8e1fdec6",
   "metadata": {},
   "outputs": [],
   "source": [
    "# Exemplo de grafo euleriano usando networkx\n",
    "import networkx as nx\n",
    "import matplotlib.pyplot as plt\n",
    "\n",
    "G = nx.Graph()\n",
    "edges = [(1,2), (2,3), (3,4), (4,1), (1,3), (2,4)]\n",
    "G.add_edges_from(edges)\n",
    "\n",
    "print(\"É euleriano?\", nx.is_eulerian(G))\n",
    "print(\"Ciclo euleriano:\", list(nx.eulerian_circuit(G)))\n",
    "\n",
    "nx.draw_circular(G, with_labels=True, node_color='lightblue')\n",
    "plt.show()"
   ]
  },
  {
   "cell_type": "code",
   "execution_count": null,
   "id": "9ade4495",
   "metadata": {},
   "outputs": [],
   "source": [
    "# Exemplo de grafo semi-euleriano usando networkx\n",
    "G2 = nx.Graph()\n",
    "edges2 = [(1,2), (2,3), (3,4), (4,1), (1,3)]\n",
    "G2.add_edges_from(edges2)\n",
    "\n",
    "print(\"É euleriano?\", nx.is_eulerian(G2))\n",
    "print(\"É semi-euleriano?\", nx.has_eulerian_path(G2))\n",
    "print(\"Caminho euleriano:\", list(nx.eulerian_path(G2)))\n",
    "\n",
    "nx.draw_circular(G2, with_labels=True, node_color='lightgreen')\n",
    "plt.show()"
   ]
  },
  {
   "cell_type": "code",
   "execution_count": null,
   "id": "a0671c22",
   "metadata": {},
   "outputs": [],
   "source": [
    "# Exemplo de grafo não-euleriano usando networkx\n",
    "G3 = nx.Graph()\n",
    "edges3 = [(1,2), (2,3), (3,4)]\n",
    "G3.add_edges_from(edges3)\n",
    "\n",
    "print(\"É euleriano?\", nx.is_eulerian(G3))\n",
    "print(\"É semi-euleriano?\", nx.has_eulerian_path(G3))\n",
    "\n",
    "nx.draw_circular(G3, with_labels=True, node_color='salmon')\n",
    "plt.show()"
   ]
  },
  {
   "cell_type": "markdown",
   "id": "636c25ce",
   "metadata": {},
   "source": [
    "## Exemplo\n",
    "\n",
    "Aplique o Algoritmo de Fleury para encontrar um trajeto euleriano no grafo abaixo a partir do vértice 5.\n",
    "\n",
    "*(Desenhe ou descreva o grafo conforme necessário para o exercício.)*"
   ]
  },
  {
   "cell_type": "code",
   "execution_count": null,
   "id": "eded4d04",
   "metadata": {},
   "outputs": [],
   "source": [
    "# Exemplo prático do Algoritmo de Fleury usando networkx\n",
    "G4 = nx.Graph()\n",
    "edges4 = [(1,2), (2,3), (3,4), (4,1), (1,3), (2,4)]\n",
    "G4.add_edges_from(edges4)\n",
    "\n",
    "# Algoritmo de Fleury (usando eulerian_circuit do networkx)\n",
    "circuit = list(nx.eulerian_circuit(G4, source=1))\n",
    "print(\"Trajeto euleriano pelo Algoritmo de Fleury:\", circuit)\n",
    "\n",
    "nx.draw_circular(G4, with_labels=True, node_color='lightblue')\n",
    "plt.show()"
   ]
  },
  {
   "cell_type": "markdown",
   "id": "dc21b181",
   "metadata": {},
   "source": [
    "## 2. Digrafos Eulerianos\n",
    "\n",
    "### Definição\n",
    "\n",
    "Um trajeto orientado que inclua todas as arestas de um dado digrafo $G(V, A)$ é chamado de **trajeto euleriano**.\n",
    "\n",
    "Seja $G$ um digrafo conexo (fortemente ou fracamente). Dizemos que $G$ é **euleriano** se possui um trajeto euleriano fechado.\n",
    "\n",
    "Um digrafo $G$ não-euleriano é dito ser **semi-euleriano** se possui um trajeto euleriano.\n",
    "\n",
    "### Teorema de Euler para digrafos\n",
    "\n",
    "Um digrafo $D(V, A)$ é euleriano se, e somente se, $D$ é balanceado, ou seja, $d^-(v) = d^+(v)$ para todo $v \\in V$.\n",
    "\n",
    "**Corolário:**  \n",
    "Um digrafo $D(V, A)$ é semi-euleriano se, e somente se, existem dois vértices $x, y \\in V$ tais que  \n",
    "$d^+(x) - d^-(x) = 1$, $d^-(y) - d^+(y) = 1$  \n",
    "e  \n",
    "$d^-(v) = d^+(v)$ para todo $v \\in V \\setminus \\{x, y\\}$.\n",
    "\n",
    "**Demonstrações:** Exercício.\n",
    "\n",
    "### Exercícios\n",
    "\n",
    "Determine se os digrafos abaixo são eulerianos ou semi-eulerianos (em caso positivo, exiba os trajetos euleriano e semi-euleriano)."
   ]
  },
  {
   "cell_type": "code",
   "execution_count": null,
   "id": "ecfe8ebc",
   "metadata": {},
   "outputs": [],
   "source": [
    "# Exemplo de digrafo euleriano usando networkx\n",
    "import networkx as nx\n",
    "import matplotlib.pyplot as plt\n",
    "\n",
    "DG = nx.DiGraph()\n",
    "edges = [(1,2), (2,3), (3,4), (4,1)]\n",
    "DG.add_edges_from(edges)\n",
    "\n",
    "print(\"É euleriano?\", nx.is_eulerian(DG))\n",
    "print(\"Ciclo euleriano:\", list(nx.eulerian_circuit(DG)))\n",
    "\n",
    "nx.draw_circular(DG, with_labels=True, node_color='lightblue', arrows=True)\n",
    "plt.show()"
   ]
  },
  {
   "cell_type": "code",
   "execution_count": null,
   "id": "fd5b70de",
   "metadata": {},
   "outputs": [],
   "source": [
    "# Exemplo de digrafo semi-euleriano usando networkx\n",
    "DG2 = nx.DiGraph()\n",
    "edges2 = [(1,2), (2,3), (3,1), (1,4)]\n",
    "DG2.add_edges_from(edges2)\n",
    "\n",
    "print(\"É euleriano?\", nx.is_eulerian(DG2))\n",
    "print(\"É semi-euleriano?\", nx.has_eulerian_path(DG2))\n",
    "print(\"Caminho euleriano:\", list(nx.eulerian_path(DG2)))\n",
    "\n",
    "nx.draw_circular(DG2, with_labels=True, node_color='lightgreen', arrows=True)\n",
    "plt.show()"
   ]
  },
  {
   "cell_type": "code",
   "execution_count": null,
   "id": "0944da23",
   "metadata": {},
   "outputs": [],
   "source": [
    "# Exemplo de digrafo não-euleriano usando networkx\n",
    "DG3 = nx.DiGraph()\n",
    "edges3 = [(1,2), (2,3), (3,4)]\n",
    "DG3.add_edges_from(edges3)\n",
    "\n",
    "print(\"É euleriano?\", nx.is_eulerian(DG3))\n",
    "print(\"É semi-euleriano?\", nx.has_eulerian_path(DG3))\n",
    "\n",
    "nx.draw_circular(DG3, with_labels=True, node_color='salmon', arrows=True)\n",
    "plt.show()"
   ]
  },
  {
   "cell_type": "markdown",
   "id": "86963e43",
   "metadata": {},
   "source": [
    "## Exercícios sobre Digrafos Eulerianos\n",
    "\n",
    "1. **Mostre que um digrafo euleriano é necessariamente fortemente conexo.**\n",
    "\n",
    "2. **Exiba um contra-exemplo para mostrar que nem todo digrafo fortemente conexo é euleriano.**"
   ]
  },
  {
   "cell_type": "code",
   "execution_count": null,
   "id": "c20981b7",
   "metadata": {},
   "outputs": [],
   "source": [
    "# Contra-exemplo: digrafo fortemente conexo mas não euleriano\n",
    "import networkx as nx\n",
    "import matplotlib.pyplot as plt\n",
    "\n",
    "DG_ex = nx.DiGraph()\n",
    "DG_ex.add_edges_from([(1,2), (2,3), (3,1), (1,3)])\n",
    "\n",
    "print(\"É fortemente conexo?\", nx.is_strongly_connected(DG_ex))\n",
    "print(\"É euleriano?\", nx.is_eulerian(DG_ex))\n",
    "\n",
    "nx.draw_circular(DG_ex, with_labels=True, node_color='orange', arrows=True)\n",
    "plt.show()"
   ]
  },
  {
   "cell_type": "markdown",
   "id": "9830b509",
   "metadata": {},
   "source": [
    "## O Problema Chinês do Carteiro\n",
    "\n",
    "O Problema Chinês do Carteiro foi postulado em 1962 pelo matemático chinês Mei-Ku Kwan:\n",
    "\n",
    "> Considere um grafo valorado (ou rede) $G$ tal que os pesos das arestas são não-negativos. Encontre um passeio fechado que percorra todas as arestas de $G$ com peso total mínimo.\n",
    "\n",
    "### Aplicações:\n",
    "1. Coleta de lixo\n",
    "2. Entregas\n",
    "3. Limpeza de ruas\n",
    "4. Checagem de páginas da internet\n",
    "\n",
    "#### Exemplo de [Maarten van Steen, Graph Theory and Complex Networks]\n",
    "\n",
    "*Checking a Web site:*  \n",
    "Um site pode ser modelado como um grafo não-direcionado onde cada página é um vértice e cada link é uma aresta de peso 1. O objetivo é navegar por todas as páginas cruzando cada link no máximo uma vez, ou seja, encontrar um passeio euleriano de comprimento mínimo."
   ]
  },
  {
   "cell_type": "markdown",
   "id": "9454a7b1",
   "metadata": {},
   "source": [
    "## Algoritmo para o Problema Chinês do Carteiro ([Gibbons, 1985])\n",
    "\n",
    "Considere um grafo valorado conexo $G$ em que o conjunto de vértices de grau ímpar é $V_{\\text{ímpar}} = \\{v_1, \\ldots, v_{2k}\\}$, onde $k \\geq 1$.\n",
    "\n",
    "**Passos:**\n",
    "1. Para cada par $(v_i, v_j) \\in V_{\\text{ímpar}} \\times V_{\\text{ímpar}}$ com $v_i \\neq v_j$, encontre o caminho mínimo $P_{i,j}$ entre $v_i$ e $v_j$.\n",
    "2. Construa um grafo completo com os $2k$ vértices de $V_{\\text{ímpar}}$ em que o peso da aresta $(v_i, v_j)$ é o peso do caminho mínimo $P_{i,j}$.\n",
    "3. Determine o conjunto $E = \\{e_1, e_2, \\ldots, e_k\\}$ de $k$ arestas do grafo completo, duas a duas não-adjacentes, tal que a soma de seus pesos seja mínima (Emparelhamento perfeito mínimo).\n",
    "4. Para cada aresta $e = (v_i, v_j) \\in E$, duplique as arestas de $P_{i,j}$ em $G$."
   ]
  },
  {
   "cell_type": "code",
   "execution_count": null,
   "id": "3b361d8c",
   "metadata": {},
   "outputs": [],
   "source": [
    "# Exemplo ilustrativo do passo 1 do algoritmo do Carteiro Chinês\n",
    "import networkx as nx\n",
    "\n",
    "G = nx.Graph()\n",
    "edges = [\n",
    "    ('v1','u1',1), ('u1','u2',1), ('u2','v2',2), ('v2','u3',3), ('u3','u4',3),\n",
    "    ('u4','v3',2), ('v3','u5',1), ('u5','u6',4), ('u6','v4',2), ('v4','u1',1),\n",
    "    ('u2','u5',3), ('u3','u6',2), ('u4','u1',1), ('u5','v1',5), ('u6','v2',2)\n",
    "]\n",
    "G.add_weighted_edges_from(edges)\n",
    "\n",
    "# Encontrar vértices de grau ímpar\n",
    "odd_vertices = [v for v in G.nodes if G.degree(v) % 2 == 1]\n",
    "print(\"Vértices de grau ímpar:\", odd_vertices)\n",
    "\n",
    "# Encontrar caminhos mínimos entre pares de vértices ímpares\n",
    "from itertools import combinations\n",
    "for vi, vj in combinations(odd_vertices, 2):\n",
    "    length, path = nx.single_source_dijkstra(G, vi, vj)\n",
    "    print(f\"Caminho mínimo entre {vi} e {vj}: {path} (peso {length})\")"
   ]
  },
  {
   "cell_type": "markdown",
   "id": "fb599336",
   "metadata": {},
   "source": [
    "# Grafos Eulerianos\n",
    "\n",
    "No início do curso estudamos o problema das Pontes de Königsberg, representado pelo seguinte grafo:\n",
    "\n",
    "```\n",
    "A---B\n",
    "|   |\n",
    "C---D\n",
    "```\n",
    "\n",
    "O objetivo era descobrir se é possível fazer um passeio pela cidade, começando e terminando no mesmo lugar e passando por cada uma das pontes apenas uma vez.\n",
    "\n",
    "Em termos de grafos, isso significa encontrar um trajeto fechado que inclua todas as arestas do grafo."
   ]
  },
  {
   "cell_type": "markdown",
   "id": "30f09dc4",
   "metadata": {},
   "source": [
    "## Introdução\n",
    "\n",
    "No início do curso nós estudamos o problema das Pontes de Königsberg e representamos o problema através do seguinte grafo:\n",
    "\n",
    "```\n",
    "A\n",
    "C\n",
    "B\n",
    "D\n",
    "```\n",
    "\n",
    "Queríamos saber se é possível fazer um passeio pela cidade, começando e terminando no mesmo lugar e passando por cada uma das pontes apenas uma vez.\n",
    "\n",
    "Em outras palavras, queríamos encontrar no grafo acima um trajeto fechado que incluísse todas as arestas do grafo."
   ]
  },
  {
   "cell_type": "markdown",
   "id": "f3b7f20a",
   "metadata": {},
   "source": [
    "## Definição\n",
    "\n",
    "Um trajeto que inclua todas as arestas de um dado grafo $G(V, A)$ é chamado de **trajeto euleriano**.\n",
    "\n",
    "Seja $G$ um grafo conexo. Dizemos que $G$ é **euleriano** se possui um trajeto euleriano fechado (ou seja, um ciclo euleriano).\n",
    "\n",
    "Um grafo $G$ não-euleriano é dito ser **semi-euleriano** se possui um trajeto euleriano (não necessariamente fechado).\n",
    "\n",
    "**Observação:**  \n",
    "Em um grafo euleriano, cada aresta é percorrida uma, e uma única, vez."
   ]
  },
  {
   "cell_type": "markdown",
   "id": "9d55984d",
   "metadata": {},
   "source": [
    "### Exemplos\n",
    "\n",
    "A seguir temos exemplos de grafos euleriano, semi-euleriano e não-euleriano:\n",
    "\n",
    "- **Euleriano:** Todos os vértices têm grau par e o grafo é conexo.\n",
    "- **Semi-euleriano:** Exatamente dois vértices têm grau ímpar e o grafo é conexo.\n",
    "- **Não-euleriano:** Mais de dois vértices têm grau ímpar ou o grafo não é conexo."
   ]
  },
  {
   "cell_type": "markdown",
   "id": "c4bd564d",
   "metadata": {},
   "source": [
    "## Resultado Auxiliar\n",
    "\n",
    "### Lema\n",
    "\n",
    "Se $G(V, A)$ é um grafo tal que $d(v) \\geq 2$ para todo $v \\in V$, então $G$ contém um ciclo.\n",
    "\n",
    "**Demonstração:**  \n",
    "Se $G$ possui laços ou arestas paralelas, não há o que provar.  \n",
    "Vamos supor que $G$ é um grafo simples. Seja $v_0 \\in V$ um vértice arbitrário de $G$. Como $d(v) \\geq 2$ para todo $v \\in V$, podemos construir um passeio $v_0 \\to v_1 \\to v_2 \\to \\ldots$ indutivamente, escolhendo $v_{i+1}$ como sendo qualquer vértice adjacente a $v_i$ exceto $v_{i-1}$.\n",
    "\n",
    "Como $G$ possui uma quantidade finita de vértices, em algum momento escolheremos algum vértice, digamos $v_k$, pela segunda vez.  \n",
    "A parte do passeio entre a primeira e a segunda ocorrência de $v_k$ constitui um ciclo."
   ]
  },
  {
   "cell_type": "markdown",
   "id": "93e8d2b0",
   "metadata": {},
   "source": [
    "## Condição Necessária e Suficiente\n",
    "\n",
    "### Teorema (Euler, 1736)\n",
    "\n",
    "Um grafo conexo $G(V, A)$ é euleriano se, e somente se, o grau de cada vértice de $G$ é par.\n",
    "\n",
    "**Demonstração ($\\Rightarrow$):**  \n",
    "Seja $T$ um trajeto euleriano fechado de $G$. Cada vez que um vértice $v$ ocorre no trajeto $T$, há uma contribuição de duas unidades para o grau de $v$ (uma aresta para chegar a $v$ e outra para sair).  \n",
    "Isto vale não só para os vértices intermediários mas também para o vértice final, pois “saímos” e “entramos” no mesmo vértice no início e no final do trajeto.  \n",
    "Como cada aresta ocorre exatamente uma vez em $T$, cada vértice possui grau par."
   ]
  },
  {
   "cell_type": "markdown",
   "id": "611d294e",
   "metadata": {},
   "source": [
    "**Demonstração ($\\Leftarrow$):**  \n",
    "A prova é por indução no número de arestas de $G$. Suponhamos que o grau de cada vértice de $G$ é par. Como $G$ é conexo, $d(v) \\geq 2$ para todo $v \\in V$. Segue então do lema anterior que $G$ contém um ciclo $C$.\n",
    "\n",
    "Se $C$ contém todas as arestas de $G$, o teorema está provado.  \n",
    "Se não, removemos de $G$ as arestas de $C$, resultando num grafo $H$, possivelmente desconexo, com menos arestas do que $G$."
   ]
  },
  {
   "cell_type": "markdown",
   "id": "49d0d151",
   "metadata": {},
   "source": [
    "É fácil ver que todos os vértices de $H$ possuem grau par. Logo, pela hipótese de indução, cada componente de $H$ possui um trajeto euleriano fechado.\n",
    "\n",
    "Além disso, pela conexidade de $G$, cada componente de $H$ possui ao menos um vértice em comum com $C$.\n",
    "\n",
    "Portanto, concatenando os trajetos eulerianos fechados de cada componente de $H$ com o ciclo $C$, obtemos um trajeto euleriano fechado em $G$, ou seja, $G$ é um grafo euleriano."
   ]
  },
  {
   "cell_type": "markdown",
   "id": "2bcb845a",
   "metadata": {},
   "source": [
    "## Corolários\n",
    "\n",
    "- Um grafo conexo é euleriano se, e somente se, ele pode ser decomposto em circuitos disjuntos:\n",
    "  $$\n",
    "  G = \\bigcup_i C_i, \\quad C_i \\cap C_j = \\text{grafo nulo}\n",
    "  $$\n",
    "\n",
    "- Um grafo conexo é semi-euleriano se, e somente se, possui exatamente dois vértices de grau ímpar."
   ]
  },
  {
   "cell_type": "markdown",
   "id": "59771edf",
   "metadata": {},
   "source": [
    "## Algoritmo de Decomposição (Hierholzer, 1873)\n",
    "\n",
    "Considere um grafo conexo $G(V, A)$, onde $d(v)$ é par para todo $v \\in V$.\n",
    "\n",
    "**Passos:**\n",
    "1. Determine um circuito $C_1$ em $G$. Defina $T_1 = C_1$ e $G_1 = G$.\n",
    "   - Se $T_1$ possui todas as arestas de $G$, pare. $T_1$ é o trajeto procurado.\n",
    "   - Tome $k = 1$.\n",
    "2. Faça $k = k + 1$. Construa o subgrafo $G_k = (V_k, A_k)$ removendo de $G_{k-1}$ as arestas pertencentes a $T_{k-1}$. Remova de $G_k$ os vértices isolados.\n",
    "3. Determine um vértice $v \\in V_k \\cap V_{k-1}$. A partir de $v$, determine um circuito $C_k$ em $G_k$.\n",
    "4. Defina $T_k = T_{k-1} \\cup C_k$.\n",
    "   - Se $T_k$ possui todas as arestas de $G$, vá para o Passo 5.\n",
    "   - Caso contrário, retorne ao Passo 2.\n",
    "5. Pare. $T_k$ é o trajeto procurado e $G = \\bigcup_{i=1}^k C_i$."
   ]
  },
  {
   "cell_type": "markdown",
   "id": "e902ab17",
   "metadata": {},
   "source": [
    "## Algoritmo de Fleury (Fleury, 1883)\n",
    "\n",
    "Considere um grafo conexo $G(V, A)$, onde $d(v)$ é par para todo $v \\in V$.\n",
    "\n",
    "**Procedimento:**\n",
    "- Comece em qualquer vértice $v$ e percorra as arestas de forma aleatória, seguindo sempre as seguintes regras:\n",
    "  - Exclua as arestas depois de passar por elas;\n",
    "  - Exclua os vértices isolados, caso ocorram;\n",
    "  - Passe por uma ponte somente se não houver outra alternativa."
   ]
  },
  {
   "cell_type": "code",
   "execution_count": null,
   "id": "af03fd7a",
   "metadata": {},
   "outputs": [],
   "source": [
    "# Exemplo de gra"
   ]
  }
 ],
 "metadata": {
  "kernelspec": {
   "display_name": ".venv",
   "language": "python",
   "name": "python3"
  },
  "language_info": {
   "codemirror_mode": {
    "name": "ipython",
    "version": 3
   },
   "file_extension": ".py",
   "mimetype": "text/x-python",
   "name": "python",
   "nbconvert_exporter": "python",
   "pygments_lexer": "ipython3",
   "version": "3.13.3"
  }
 },
 "nbformat": 4,
 "nbformat_minor": 5
}
