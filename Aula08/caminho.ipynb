{
 "cells": [
  {
   "cell_type": "markdown",
   "id": "6caa3ad2",
   "metadata": {},
   "source": [
    "# Caminhos mínimos\n",
    "\n",
    "Um tópico bastante importante da Teoria dos Grafos trata de problemas que envolvem algum tipo de caminhamento na estrutura de um grafo.\n",
    "\n",
    "- 🔗 **Caminhos mínimos** em grafos valorados\n",
    "- 📬 Problema do **carteiro chinês**\n",
    "- 🧳 Problema do **caixeiro viajante**"
   ]
  },
  {
   "cell_type": "markdown",
   "id": "67fd815d",
   "metadata": {},
   "source": [
    "# Problema de árvore geradora de custo mínimo\n",
    "\n",
    "🌳 **Árvore geradora de custo mínimo**\n",
    "\n",
    "Caminhamento, em teoria dos grafos, refere-se a uma sequência de vértices e arestas conectadas, onde cada vértice é visitado seguindo uma ordem específica.\n",
    "\n",
    "- Pode ser **simples** (sem repetição de vértices) ou **composto** (permitindo repetições).\n",
    "- É utilizado em algoritmos como **Busca em Largura (BFS)** e **Busca em Profundidade (DFS)** para explorar grafos."
   ]
  },
  {
   "cell_type": "markdown",
   "id": "0666b417",
   "metadata": {},
   "source": [
    "# Problema do caminho mínimo\n",
    "\n",
    "🔗 **O problema do caminho mínimo** em grafos valorados é um dos problemas mais conhecidos e com enorme gama de aplicações.\n",
    "\n",
    "O problema consiste em encontrar um caminho com custo total mínimo entre um vértice inicial e um vértice final."
   ]
  },
  {
   "cell_type": "markdown",
   "id": "7c73919e",
   "metadata": {},
   "source": [
    "# Custo de um caminho\n",
    "\n",
    "Este tipo de resultado pode ser obtido tanto em grafos dirigidos quanto em grafos não dirigidos, e os algoritmos para isso podem ser aplicados em ambos os tipos de grafos.\n",
    "\n",
    "Antes de ver os algoritmos, precisamos de algumas definições:\n",
    "\n",
    "**Definição 1 (Custo de um caminho):**\n",
    "\n",
    "O custo de um caminho ⟨𝑣₀, 𝑣₁, ..., 𝑣ₖ⟩ entre os vértices 𝑣₀ e 𝑣ₖ, denotado por 𝑤(𝑝), é igual ao somatório dos custos de todas as arestas valoradas do caminho, ou seja:\n",
    "\n",
    "$$\n",
    "w(p) = \\sum_{i=1}^{k} w_{(i-1,i)}\n",
    "$$"
   ]
  },
  {
   "cell_type": "markdown",
   "id": "a25ecdaa",
   "metadata": {},
   "source": [
    "# Exemplo de custo de caminho\n",
    "\n",
    "Imagine um grafo onde as arestas possuem os seguintes pesos:\n",
    "\n",
    "- A → B custa 3\n",
    "- B → C custa 5\n",
    "- C → D custa 2\n",
    "\n",
    "Se queremos calcular o custo do caminho A → B → C → D, basta somar:\n",
    "\n",
    "$$\n",
    "w(p) = 3 + 5 + 2 = 10\n",
    "$$\n",
    "\n",
    "Isso significa que o \"custo total\" para percorrer esse caminho é **10**.\n",
    "\n",
    "---\n",
    "\n",
    "Você pode montar e visualizar esse exemplo facilmente usando a biblioteca NetworkX e plotar o grafo para melhor compreensão."
   ]
  },
  {
   "cell_type": "markdown",
   "id": "9eb9f9c5",
   "metadata": {},
   "source": [
    "# Definição: Custo do caminho mínimo\n",
    "\n",
    "**Definição 2 (Custo do caminho mínimo):**\n",
    "\n",
    "O custo de um caminho mínimo do vértice 𝑣ᵢ para o vértice 𝑣ⱼ é definido por:\n",
    "\n",
    "$$\n",
    "\\delta_{(i,j)} = \n",
    "\\begin{cases}\n",
    "\\min \\{ w(p) : v_i \\rightarrow v_j \\} & \\text{se existe caminho de } v_i \\text{ para } v_j \\\\\\\\\n",
    "\\infty & \\text{caso contrário}\n",
    "\\end{cases}\n",
    "$$\n",
    "\n",
    "Ou seja, é o menor custo entre todos os caminhos possíveis de 𝑣ᵢ até 𝑣ⱼ, ou infinito se não existir caminho."
   ]
  },
  {
   "cell_type": "markdown",
   "id": "12edc37d",
   "metadata": {},
   "source": [
    "# Definições: Caminho mínimo e o problema do caminho mínimo\n",
    "\n",
    "**Definição 3 (Caminho mínimo):**  \n",
    "O caminho mínimo entre dois vértices 𝑣ᵢ e 𝑣ⱼ é definido como qualquer caminho 𝑝 com custo igual a 𝛿₍ᵢ,ⱼ₎.\n",
    "\n",
    "**Definição 4 (Problema do caminho mínimo):**  \n",
    "Sejam 𝑣ᵢ e 𝑣ⱼ dois vértices de um grafo valorado conexo. Encontre 𝛿₍ᵢ,ⱼ₎."
   ]
  }
 ],
 "metadata": {
  "kernelspec": {
   "display_name": ".venv",
   "language": "python",
   "name": "python3"
  },
  "language_info": {
   "codemirror_mode": {
    "name": "ipython",
    "version": 3
   },
   "file_extension": ".py",
   "mimetype": "text/x-python",
   "name": "python",
   "nbconvert_exporter": "python",
   "pygments_lexer": "ipython3",
   "version": "3.13.3"
  }
 },
 "nbformat": 4,
 "nbformat_minor": 5
}
