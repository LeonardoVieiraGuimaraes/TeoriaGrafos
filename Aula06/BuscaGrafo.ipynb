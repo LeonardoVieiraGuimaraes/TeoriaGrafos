{
 "cells": [
  {
   "cell_type": "markdown",
   "id": "69ca5fde",
   "metadata": {},
   "source": [
    "# Busca Básica em Grafos\n",
    "O percorrimento dos vértices e arestas respeitando a estrutura dos grafos é chamado de **busca** e constitui uma operação básica em grafos dirigidos e não dirigidos. Este capítulo apresenta dois métodos diferentes para busca: **em largura** e **em profundidade**.\n",
    "\n",
    "## Introdução\n",
    "Estruturas de dados frequentemente precisam ser percorridas para que diversas operações sejam efetuadas, tais como: inserir ou remover novos elementos ou simplesmente fazer leitura de dados armazenados na estrutura. No caso dos grafos, o problema de manipulação da estrutura de dados é mais complexo, pois normalmente queremos percorrer a estrutura respeitando a sua topologia.\n",
    "\n",
    "Os algoritmos de busca constituem métodos para resolver este problema, promovendo a pesquisa em grafos. Pesquisar um grafo significa visitar seus vértices passando sistematicamente por suas arestas, ou seja, não é apenas listar os vértices de um grafo em determinada ordem, mas sim atingir cada vértice obedecendo à estrutura do grafo, definida pelas arestas.\n",
    "\n",
    "Existem basicamente dois métodos de busca:\n",
    "- **Busca em Largura (BFS - Breadth-First Search)**\n",
    "- **Busca em Profundidade (DFS - Depth-First Search)**\n",
    "\n",
    "Os métodos de busca servem de base para a construção de outros algoritmos mais especializados, como:\n",
    "- Algoritmo de Dijkstra (caminhos de custo mínimo)\n",
    "- Algoritmo de Prim (árvore geradora mínima)\n",
    "- Algoritmo de componentes fortemente conexas\n",
    "\n",
    "Além disso, os algoritmos de busca têm aplicações diretas, como:\n",
    "- Busca em grafos de estados na área de Inteligência Artificial\n",
    "- Ordenação topológica de grafos acíclicos dirigidos"
   ]
  },
  {
   "cell_type": "markdown",
   "id": "2a211c03",
   "metadata": {},
   "source": [
    "## Implementação Simples de Busca em Grafos\n",
    "Abaixo estão implementações simples de busca em largura (BFS) e busca em profundidade (DFS) usando a biblioteca `networkx`."
   ]
  },
  {
   "cell_type": "code",
   "execution_count": 2,
   "id": "1e00492a",
   "metadata": {},
   "outputs": [
    {
     "name": "stdout",
     "output_type": "stream",
     "text": [
      "0\n",
      "0\n",
      "0\n",
      "0\n",
      "0\n",
      "0\n",
      "0\n",
      "0\n",
      "0\n",
      "0\n"
     ]
    }
   ],
   "source": [
    "a = 10\n",
    "v = [0] * 10  \n",
    "for i in range(10):\n",
    "    v[i] = 0  \n",
    "    print (v[i])"
   ]
  },
  {
   "cell_type": "code",
   "execution_count": null,
   "id": "8dbcd41c",
   "metadata": {},
   "outputs": [],
   "source": []
  },
  {
   "cell_type": "markdown",
   "id": "9cc417eb",
   "metadata": {},
   "source": [
    "## Algoritmo: BuscaEmLargura(G, r)\n",
    "\n",
    "1. Para cada vértice `v` em `V` faça:\n",
    "   - `estado(v) ← NAO_VISITADO`\n",
    "   - `pai(v) ← nil`\n",
    "   - `distancia(v) ← ∞`\n",
    "\n",
    "2. Inicialize o vértice inicial `r`:\n",
    "   - `distancia(r) ← 0`\n",
    "   - `estado(r) ← VISITADO`\n",
    "\n",
    "3. Inicialize uma fila `F` vazia e insira `r`:\n",
    "   - `F ← []`\n",
    "   - `F.INSERE(r)`\n",
    "\n",
    "4. Enquanto `F`  não estiver vazia faça:\n",
    "   - `vi ← F.REMOVE()`\n",
    "   - Para cada `vj` em `Adj(vi)` faça:\n",
    "     - Se `estado(vj) = NAO_VISITADO` então:\n",
    "       - `F.INSERE(vj)`\n",
    "       - `estado(vj) ← VISITADO`\n",
    "       - `pai(vj) ← vi`\n",
    "       - `distancia(vj) ← distancia(vi) + 1`\n",
    "\n",
    "5. Após processar todos os vizinhos de `vi`:\n",
    "   - `estado(vi) ← ENCERRADO`."
   ]
  },
  {
   "cell_type": "markdown",
   "id": "8f6ba755",
   "metadata": {},
   "source": [
    "## Pseudocódigo para Busca em Largura (BFS) em Python\n",
    "Abaixo está o pseudocódigo para o algoritmo de busca em largura utilizando Python.\n",
    "\n",
    "## Algoritmo: BuscaEmLargura(G, r)\n",
    "\n",
    "1. Para cada vértice `v` em `V` faça:\n",
    "   - `estado(v) ← NAO_VISITADO`\n",
    "   - `pai(v) ← nil`\n",
    "   - `distancia(v) ← ∞`\n",
    "\n",
    "2. Inicialize o vértice inicial `r`:\n",
    "   - `distancia(r) ← 0`\n",
    "   - `estado(r) ← VISITADO`\n",
    "\n",
    "3. Inicialize uma fila `F`  vazia e insira `r`:\n",
    "   - `F ← []`\n",
    "   - `F.INSERE(r)`\n",
    "\n",
    "4. Enquanto `F` &ne; &empty; faça:\n",
    "   - `vi ← F.REMOVE()`\n",
    "   - Para cada `vj` &in; `Adj(vi)` faça:\n",
    "     - Se `estado(vj) = NAO_VISITADO` então:\n",
    "       - `F.INSERE(vj)`\n",
    "       - `estado(vj) ← VISITADO`\n",
    "       - `pai(vj) ← vi`\n",
    "       - `distancia(vj) ← distancia(vi) + 1`\n",
    "   - `estado(vi) ← ENCERRADO`. Após processar todos os vizinhos de `vi`:"
   ]
  },
  {
   "cell_type": "markdown",
   "id": "386fb30a",
   "metadata": {},
   "source": [
    "## Biblioteca `deque`\n",
    "\n",
    "A biblioteca `deque` (double-ended queue) faz parte do módulo `collections` do Python e é utilizada para criar filas de alta performance. Ela permite inserções e remoções de elementos em ambas as extremidades da fila com complexidade O(1).\n",
    "\n",
    "### Principais Métodos:\n",
    "- `append(x)`: Adiciona o elemento `x` ao final da fila.\n",
    "- `appendleft(x)`: Adiciona o elemento `x` ao início da fila.\n",
    "- `pop()`: Remove e retorna o último elemento da fila.\n",
    "- `popleft()`: Remove e retorna o primeiro elemento da fila.\n",
    "\n",
    "### Exemplo de Uso:\n",
    "```python\n",
    "from collections import deque\n",
    "\n",
    "# Criando uma deque\n",
    "fila = deque()\n",
    "\n",
    "# Adicionando elementos\n",
    "fila.append(1)  # Adiciona ao final\n",
    "fila.appendleft(2)  # Adiciona ao início\n",
    "\n",
    "# Removendo elementos\n",
    "fila.pop()  # Remove do final\n",
    "fila.popleft()  # Remove do início\n",
    "```"
   ]
  },
  {
   "cell_type": "code",
   "execution_count": 3,
   "id": "92233173",
   "metadata": {},
   "outputs": [],
   "source": [
    "# Implementação de BFS fiel ao algoritmo descrito\n",
    "from collections import deque\n",
    "\n",
    "def bfs(grafo, inicio):\n",
    "    estado = {}  # Dicionário para armazenar o estado de cada nó\n",
    "    pai = {}  # Dicionário para armazenar o pai de cada nó\n",
    "    distancia = {}  # Dicionário para armazenar a distância de cada nó\n",
    "\n",
    "    # Inicialização\n",
    "    for v in grafo:\n",
    "        estado[v] = 'NAO_VISITADO'\n",
    "        pai[v] = None\n",
    "        distancia[v] = float('inf')\n",
    "\n",
    "    estado[inicio] = 'VISITADO'\n",
    "    distancia[inicio] = 0\n",
    "\n",
    "    fila = deque([inicio])  # Fila inicializada com o nó inicial\n",
    "\n",
    "    while fila:\n",
    "        vi = fila.popleft()  # Remove o primeiro elemento da fila\n",
    "        for vj in grafo[vi]:\n",
    "            if estado[vj] == 'NAO_VISITADO':\n",
    "                estado[vj] = 'VISITADO'\n",
    "                pai[vj] = vi\n",
    "                distancia[vj] = distancia[vi] + 1\n",
    "                fila.append(vj)\n",
    "        estado[vi] = 'ENCERRADO'  # Marca o nó como processado\n",
    "\n",
    "    # Retorna os resultados\n",
    "    return estado, pai, distancia"
   ]
  },
  {
   "cell_type": "code",
   "execution_count": null,
   "id": "26262e16",
   "metadata": {},
   "outputs": [],
   "source": []
  },
  {
   "cell_type": "markdown",
   "id": "253233a3",
   "metadata": {},
   "source": []
  },
  {
   "cell_type": "markdown",
   "id": "d7a851ae",
   "metadata": {},
   "source": [
    "## Exemplo de Uso da Função BFS\n",
    "\n",
    "Abaixo está um exemplo de como utilizar a função `bfs` com um grafo simples representado como um dicionário."
   ]
  },
  {
   "cell_type": "code",
   "execution_count": 4,
   "id": "554bd4e6",
   "metadata": {},
   "outputs": [
    {
     "name": "stdout",
     "output_type": "stream",
     "text": [
      "Estado: {'A': 'ENCERRADO', 'B': 'ENCERRADO', 'C': 'ENCERRADO', 'D': 'ENCERRADO', 'E': 'ENCERRADO', 'F': 'ENCERRADO'}\n",
      "Pai: {'A': None, 'B': 'A', 'C': 'A', 'D': 'B', 'E': 'B', 'F': 'C'}\n",
      "Distância: {'A': 0, 'B': 1, 'C': 1, 'D': 2, 'E': 2, 'F': 2}\n"
     ]
    }
   ],
   "source": [
    "# Exemplo de grafo representado como um dicionário\n",
    "grafo = {\n",
    "    'A': ['B', 'C'],\n",
    "    'B': ['A', 'D', 'E'],\n",
    "    'C': ['A', 'F'],\n",
    "    'D': ['B'],\n",
    "    'E': ['B', 'F'],\n",
    "    'F': ['C', 'E']\n",
    "}\n",
    "\n",
    "# Executando a busca em largura a partir do vértice 'A'\n",
    "estado, pai, distancia = bfs(grafo, 'A')\n",
    "\n",
    "# Exibindo os resultados\n",
    "print(\"Estado:\", estado)\n",
    "print(\"Pai:\", pai)\n",
    "print(\"Distância:\", distancia)"
   ]
  },
  {
   "cell_type": "code",
   "execution_count": null,
   "id": "8b5cf4c7",
   "metadata": {},
   "outputs": [],
   "source": []
  }
 ],
 "metadata": {
  "kernelspec": {
   "display_name": ".venv",
   "language": "python",
   "name": "python3"
  },
  "language_info": {
   "codemirror_mode": {
    "name": "ipython",
    "version": 3
   },
   "file_extension": ".py",
   "mimetype": "text/x-python",
   "name": "python",
   "nbconvert_exporter": "python",
   "pygments_lexer": "ipython3",
   "version": "3.13.2"
  }
 },
 "nbformat": 4,
 "nbformat_minor": 5
}
