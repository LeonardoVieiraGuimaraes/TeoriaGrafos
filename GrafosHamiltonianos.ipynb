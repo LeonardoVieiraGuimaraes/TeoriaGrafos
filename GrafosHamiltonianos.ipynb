{
 "cells": [
  {
   "cell_type": "markdown",
   "id": "3049a951",
   "metadata": {},
   "source": [
    "# Grafos Hamiltonianos\n",
    "\n",
    "## Introdução\n",
    "\n",
    "Um trajeto euleriano é caracterizado pelo fato de incluir todas as arestas de um dado grafo, uma única vez. Entretanto, os vértices podem se repetir em um trajeto euleriano.\n",
    "\n",
    "Surge então a questão da possibilidade de se obter um trajeto fechado (não necessariamente euleriano) que inclua cada vértice uma única vez; como por exemplo, nos grafos abaixo:"
   ]
  },
  {
   "cell_type": "markdown",
   "id": "511d9369",
   "metadata": {},
   "source": [
    "## Definições\n",
    "\n",
    "**Definição:**  \n",
    "Um circuito hamiltoniano em um grafo conexo é um circuito que contém todos os vértices do grafo.\n",
    "\n",
    "Um grafo é chamado de **grafo hamiltoniano** se possui um circuito hamiltoniano.\n",
    "\n",
    "Um grafo **não-hamiltoniano** é **semi-hamiltoniano** se possui um caminho que contém todos os seus vértices."
   ]
  },
  {
   "cell_type": "markdown",
   "id": "35bd50c7",
   "metadata": {},
   "source": [
    "## Exemplos\n",
    "\n",
    "Os grafos abaixo não são hamiltonianos. Por quê?\n",
    "\n",
    "*(Inclua aqui imagens ou representações dos grafos para análise, se desejar.)*"
   ]
  },
  {
   "cell_type": "markdown",
   "id": "b40d0f4e",
   "metadata": {},
   "source": [
    "## Condições para Grafos Hamiltonianos\n",
    "\n",
    "Quais são as condições necessárias e suficientes para definir se um grafo é hamiltoniano?\n",
    "\n",
    "Esta é uma questão em aberto e foi formulada pelo matemático Sir William Hamilton em 1859.\n",
    "\n",
    "Algumas considerações podem ser feitas:\n",
    "\n",
    "1. Arestas paralelas e laços não podem pertencer a um circuito hamiltoniano.\n",
    "2. Se um vértice possui grau 2, as arestas a ele incidentes devem pertencer ao circuito hamiltoniano.\n",
    "3. Nenhum subcircuito próprio, isto é, um circuito que não possui todos os vértices de G, pode ser formado durante a construção do circuito hamiltoniano.\n",
    "4. Uma vez incluído um vértice, todas as arestas a ele incidentes e que não foram inseridas no circuito podem ser desconsideradas."
   ]
  },
  {
   "cell_type": "markdown",
   "id": "c49e56f4",
   "metadata": {},
   "source": [
    "## Exercício\n",
    "\n",
    "Verificar se o grafo abaixo é hamiltoniano:\n",
    "\n",
    "*(Inclua aqui o grafo para análise, se desejar.)*"
   ]
  },
  {
   "cell_type": "markdown",
   "id": "71415f62",
   "metadata": {},
   "source": [
    "## Condição necessária e suficiente?\n",
    "\n",
    "No caso de grafos eulerianos temos uma condição necessária e suficiente.\n",
    "\n",
    "Porém, para grafos hamiltonianos não há. Na verdade, sabe-se pouco em geral sobre grafos hamiltonianos.\n",
    "\n",
    "A maioria dos teoremas são da forma: “Se G possui arestas suficientes, então G é hamiltoniano”.\n",
    "\n",
    "Os dois teoremas mais celebrados estão enunciados a seguir."
   ]
  },
  {
   "cell_type": "markdown",
   "id": "c6d29bcf",
   "metadata": {},
   "source": [
    "## Teorema de Ore (1960)\n",
    "\n",
    "**Teorema:**  \n",
    "Se G(V, A) é um grafo simples com n ≥ 3 vértices, e se  \n",
    "d(v) + d(w) ≥ n  \n",
    "para cada par de vértices não-adjacentes v e w, então G é hamiltoniano.\n",
    "\n",
    "**Demonstração:**  \n",
    "Procederemos por contradição. Suponha que G não é hamiltoniano, mas satisfaz a hipótese.\n",
    "\n",
    "Vamos supor ainda que G é “quase hamiltoniano”, no sentido de que a adição de qualquer outra aresta torna-o hamiltoniano. Se este não for o caso, adicionamos arestas extras até que o seja. Observe que a adição de arestas não quebra a hipótese."
   ]
  },
  {
   "cell_type": "markdown",
   "id": "0b34197b",
   "metadata": {},
   "source": [
    "**Demonstração (cont.):**\n",
    "\n",
    "Sejam v, w ∈ V vértices não-adjacentes (existe pelo menos um par, caso contrário, G seria completo e, por conseguinte, hamiltoniano). Logo, a adição da aresta (v, w) torna G hamiltoniano, o que implica na existência de um caminho passando por todos os vértices:\n",
    "\n",
    "v = v₁ → v₂ → ... → vₙ = w\n",
    "\n",
    "Por hipótese, d(v₁) + d(vₙ) ≥ n, ou seja, existe um conjunto E com ao menos outras n − 2 arestas incidentes em {v₁, vₙ}.\n",
    "\n",
    "Logo, existem vértices vᵢ e vᵢ₋₁ tais que vᵢ é adjacente a v₁ e vᵢ₋₁ é adjacente a vₙ. De fato, se todas as arestas de E incidem, digamos, em v₁, teríamos ao menos um par de arestas paralelas, contradizendo o fato de G ser simples. Similarmente se todas incidem em vₙ.\n",
    "\n",
    "Mas neste caso, temos um circuito hamiltoniano:\n",
    "\n",
    "v₁ → v₂ → ... → vᵢ₋₁ → vₙ → vₙ₋₁ → ... → vᵢ₊₁ → vᵢ → v₁\n",
    "\n",
    "em contradição à suposição de que G não é hamiltoniano."
   ]
  },
  {
   "cell_type": "markdown",
   "id": "28b83392",
   "metadata": {},
   "source": [
    "## Teorema de Dirac (1952)\n",
    "\n",
    "**Teorema:**  \n",
    "Se G é um grafo simples com n ≥ 3 vértices, e se  \n",
    "d(v) ≥ n/2  \n",
    "para cada vértice v, então G é hamiltoniano.\n",
    "\n",
    "**Demonstração:**  \n",
    "Temos que  \n",
    "d(v) + d(w) ≥ n/2 + n/2 = n  \n",
    "para cada par de vértices v e w (adjacentes ou não-adjacentes).\n",
    "\n",
    "Segue do Teorema de Ore que G é hamiltoniano."
   ]
  },
  {
   "cell_type": "markdown",
   "id": "0f4f00c0",
   "metadata": {},
   "source": [
    "## Exercício\n",
    "\n",
    "Verificar os dois teoremas através dos seguintes grafos:\n",
    "\n",
    "*(Inclua aqui os grafos para análise, se desejar.)*"
   ]
  },
  {
   "cell_type": "markdown",
   "id": "a249dadf",
   "metadata": {},
   "source": [
    "## Condição Necessária\n",
    "\n",
    "**Teorema:**  \n",
    "Se G(V, A) é um grafo hamiltoniano, então para todo subconjunto não-vazio S ⊆ V, o grafo G − S possui no máximo |S| componentes.\n",
    "\n",
    "**Demonstração:**  \n",
    "Sejam S ⊆ V, S ≠ ∅, e C um ciclo hamiltoniano de G.\n",
    "\n",
    "Ao percorrer as arestas de C, quando passamos por um componente de G − S, ao deixar este componente, temos, necessariamente, que passar por algum vértice de S.\n",
    "\n",
    "A cada passagem por um componente de G temos que usar um vértice diferente de S ao deixarmos o componente.\n",
    "\n",
    "Consequentemente, a quantidade de vértices de S deve ser maior ou igual ao número de componentes de G."
   ]
  },
  {
   "cell_type": "markdown",
   "id": "104e08e6",
   "metadata": {},
   "source": [
    "## Para que tipo de grafo podemos garantir a existência de um circuito hamiltoniano?\n",
    "\n",
    "**Definição:**  \n",
    "Um grafo completo é um grafo simples tal que existe uma aresta entre cada par de vértices.\n",
    "\n",
    "Um grafo completo com n vértices é denotado por Kₙ."
   ]
  },
  {
   "cell_type": "markdown",
   "id": "a277dabc",
   "metadata": {},
   "source": [
    "## Exemplos\n",
    "\n",
    "Como obter um circuito hamiltoniano em um grafo completo Kₙ, com n ≥ 3?\n",
    "\n",
    "Numere os vértices do grafo de 1 a n. Como existe uma aresta entre cada par de vértices, a sequência 1, 2, ..., n é um circuito hamiltoniano."
   ]
  },
  {
   "cell_type": "markdown",
   "id": "8c5e7bd0",
   "metadata": {},
   "source": [
    "## Quantidade de circuitos hamiltonianos em um grafo completo\n",
    "\n",
    "Quantos circuitos hamiltonianos um grafo completo possui? Vamos examinar o K₄:\n",
    "\n",
    "Os circuitos {a, b, c, d, a} e {a, d, c, b, a} são diferentes ou iguais?\n",
    "\n",
    "Partindo do vértice 1, temos n − 1 escolhas de arestas para fazer. Em seguida, a partir do vértice 2, temos n − 2 arestas para escolher; e assim por diante até a escolha da última aresta.\n",
    "\n",
    "Ou seja, há (n − 1)! possibilidades; e se considerarmos que circuitos do tipo  \n",
    "{v₁, v₂, ..., vₙ, v₁}  \n",
    "são iguais ao circuito  \n",
    "{v₁, vₙ, vₙ₋₁, ..., v₂, v₁},  \n",
    "teremos que o número total de circuitos é dado por (n − 1)!/2."
   ]
  },
  {
   "cell_type": "markdown",
   "id": "f7966643",
   "metadata": {},
   "source": [
    "## Teorema\n",
    "\n",
    "Em um grafo completo com n vértices existem (n − 1)/2 circuitos hamiltonianos aresta-disjuntos, se n ≥ 3 é ímpar.\n",
    "\n",
    "**Demonstração:**  \n",
    "Ver página 33 de [N. Deo, Graph Theory with Applications to Engineering and Computer Science, Prentice-Hall, 1974]."
   ]
  },
  {
   "cell_type": "markdown",
   "id": "b55e58b8",
   "metadata": {},
   "source": [
    "## Colocação do Problema: O Caixeiro Viajante\n",
    "\n",
    "Um viajante necessita visitar um certo número de cidades durante uma viagem e retornar ao lugar de origem de tal maneira que cada cidade é visitada exatamente uma vez e que a distância total percorrida seja a menor possível.\n",
    "\n",
    "Dada a distância entre as cidades, que rota ele deve escolher?  \n",
    "Como resolver este problema?\n",
    "\n",
    "Vamos representar o problema acima através de um grafo valorado.  \n",
    "Seja V o conjunto de cidades, A o conjunto das estradas interligando as cidades e o valor de cada aresta como sendo a distância entre as respectivas cidades.\n",
    "\n",
    "Vamos supor que o viajante deseja visitar 5 cidades cujas estradas existentes entre cada par de cidades estejam representadas através do seguinte grafo:\n",
    "\n",
    "*(Inclua aqui o grafo valorado para exemplificação, se desejar.)*\n",
    "\n",
    "Em princípio, este problema pode ser resolvido determinando-se todas as rotas possíveis e escolhendo a que resultar na menor distância percorrida. Neste exemplo, uma possível rota é dada por:  \n",
    "{A, B, C, D, E, A} cuja distância é 5 + 2 + 4 + 3 + 4 = 18km.  \n",
    "A rota ótima é: {A, C, B, E, D, A} cuja distância é 12km."
   ]
  },
  {
   "cell_type": "markdown",
   "id": "ccdab537",
   "metadata": {},
   "source": [
    "## Eficiência da Solução Ingênua\n",
    "\n",
    "Esta técnica é eficiente?\n",
    "\n",
    "Considere um problema que envolva 10 cidades.  \n",
    "O número máximo de possíveis rotas seria de 9! = 362.880.\n",
    "\n",
    "Uma máquina equipada com um programa que conseguisse examinar 1 milhão de rotas por segundo levaria 0,36s para encontrar a melhor rota.\n",
    "\n",
    "Se dobrássemos o número de cidades, teríamos que examinar 19! = 1,22 × 10¹⁷ rotas e o mesmo programa levaria aproximadamente 3.800 anos para encontrar a melhor rota!"
   ]
  },
  {
   "cell_type": "markdown",
   "id": "18c02f24",
   "metadata": {},
   "source": [
    "## Exercícios\n",
    "\n",
    "1. Quais dos grafos abaixo é hamiltoniano e/ou euleriano? Exiba um circuito hamiltoniano e/ou trajeto euleriano em caso positivo.\n",
    "2. Dê um exemplo de um grafo não hamiltoniano com n vértices tal que d(v) ≥ (n − 1)/2.\n",
    "3. Dê um exemplo de um grafo hamiltoniano que não satisfaça o Teorema de Dirac.\n",
    "4. Dê um exemplo de um grafo que seja euleriano e hamiltoniano.\n",
    "\n",
    "*(Inclua aqui os grafos para análise, se desejar.)*"
   ]
  },
  {
   "cell_type": "markdown",
   "id": "903c390c",
   "metadata": {},
   "source": [
    "## Definições para Digrafos Hamiltonianos\n",
    "\n",
    "**Definição:**  \n",
    "Um digrafo D é dito ser hamiltoniano se possuir um circuito orientado que inclua todos os seus vértices.\n",
    "\n",
    "Um digrafo não-hamiltoniano é dito ser semi-hamiltoniano se possuir um caminho orientado que inclua todos os seus vértices.\n",
    "\n",
    "Pouco sabe-se sobre digrafos hamiltonianos.  \n",
    "Muitos teoremas para grafos hamiltonianos não são generalizados facilmente para digrafos."
   ]
  },
  {
   "cell_type": "markdown",
   "id": "af47aaff",
   "metadata": {},
   "source": [
    "## Teoremas para Digrafos Hamiltonianos\n",
    "\n",
    "**Teorema (Teorema de Dirac para digrafos):**  \n",
    "Seja D um digrafo simples com n vértices. Se  \n",
    "dₛ(v) ≥ n/2 e dₑ(v) ≥ n/2  \n",
    "para todo vértice v de D, então D é hamiltoniano.\n",
    "\n",
    "**Teorema (Teorema de Ore para digrafos):**  \n",
    "Seja D um digrafo simples com n vértices. Se  \n",
    "dₛ(v) + dₑ(w) ≥ n  \n",
    "para todo par de vértices não-adjacentes v e w de D, então D é hamiltoniano."
   ]
  }
 ],
 "metadata": {
  "language_info": {
   "name": "python"
  }
 },
 "nbformat": 4,
 "nbformat_minor": 5
}
