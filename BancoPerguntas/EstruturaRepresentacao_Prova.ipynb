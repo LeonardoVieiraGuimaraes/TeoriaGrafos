{
 "cells": [
  {
   "cell_type": "markdown",
   "id": "ba93b0ae",
   "metadata": {},
   "source": [
    "# Questões Selecionadas para Prova – Estruturas e Representação de Grafos\n",
    "\n",
    "Este notebook apresenta três questões contextualizadas sobre representação de grafos, cada uma com alternativas de \"a\" até \"e\", visualização e feedback."
   ]
  },
  {
   "cell_type": "markdown",
   "id": "919c8706",
   "metadata": {},
   "source": [
    "## Questão 1: Isomorfismo de Grafos\n",
    "\n",
    "Em redes de computadores, é comum analisar se duas topologias diferentes representam a mesma estrutura de conexões. Considere os grafos abaixo:\n",
    "\n",
    "- Grafo G1: Vértices {1, 2, 3, 4, 5}, Arestas {(1,2), (1,5), (1,3), (2,3), (3,4), (3,5), (4,5)}\n",
    "- Grafo G2: Vértices {'a', 'b', 'c', 'd', 'e'}, Arestas {('a','b'), ('a','e'), ('b','c'), ('b','e'), ('c','d'), ('c','e'), ('d','e')}\n",
    "- Grafo G3: Vértices {1, 2, 3, 4, 5}, Arestas {(1,2), (2,3), (3,4), (4,5), (5,1)}\n",
    "- Grafo G4: Vértices {1, 2, 3, 4, 5}, Arestas {(1,2), (2,3), (3,4), (4,5)}\n",
    "- Grafo G5: Vértices {1, 2, 3, 4, 5}, Arestas {(1,2), (2,3), (3,4), (4,5), (1,5)}\n",
    "\n",
    "Qual dos grafos abaixo é isomorfo a G1?\n",
    "\n",
    "a) G2  \n",
    "b) G3  \n",
    "c) G4  \n",
    "d) G5  \n",
    "e) Nenhum dos anteriores"
   ]
  },
  {
   "cell_type": "code",
   "execution_count": null,
   "id": "9cb6f4e4",
   "metadata": {},
   "outputs": [],
   "source": [
    "import networkx as nx\n",
    "import matplotlib.pyplot as plt\n",
    "\n",
    "def plot_graph(graph, title, color='lightblue', size=3):\n",
    "    plt.figure(figsize=(size, size))\n",
    "    nx.draw(graph, with_labels=True, node_color=color, edge_color='gray', node_size=500)\n",
    "    plt.title(title)\n",
    "    plt.show()\n",
    "\n",
    "# Definição dos grafos\n",
    "G1 = nx.Graph()\n",
    "G1.add_edges_from([(1,2), (1,5), (1,3), (2,3), (3,4), (3,5), (4,5)])\n",
    "\n",
    "G2 = nx.Graph()\n",
    "G2.add_edges_from([('a','b'), ('a','e'), ('b','c'), ('b','e'), ('c','d'), ('c','e'), ('d','e')])\n",
    "\n",
    "G3 = nx.Graph()\n",
    "G3.add_edges_from([(1,2), (2,3), (3,4), (4,5), (5,1)])\n",
    "\n",
    "G4 = nx.Graph()\n",
    "G4.add_edges_from([(1,2), (2,3), (3,4), (4,5)])\n",
    "\n",
    "G5 = nx.Graph()\n",
    "G5.add_edges_from([(1,2), (2,3), (3,4), (4,5), (1,5)])\n",
    "\n",
    "# Plotando os grafos\n",
    "plot_graph(G1, \"Grafo G1\")\n",
    "plot_graph(G2, \"Grafo G2\", color='lightgreen')\n",
    "plot_graph(G3, \"Grafo G3\", color='lightcoral')\n",
    "plot_graph(G4, \"Grafo G4\", color='lightyellow')\n",
    "plot_graph(G5, \"Grafo G5\", color='lightpink')"
   ]
  },
  {
   "cell_type": "markdown",
   "id": "d303e31e",
   "metadata": {},
   "source": [
    "**Resposta correta:**  \n",
    "a) G2\n",
    "\n",
    "**Feedback:**  \n",
    "O isomorfismo de grafos verifica se existe uma correspondência entre os vértices e arestas de dois grafos, preservando as conexões. Apenas G2 é isomorfo a G1, pois ambos possuem a mesma estrutura de conexões, mesmo com nomes de vértices diferentes. Os demais grafos não possuem a mesma estrutura."
   ]
  },
  {
   "cell_type": "markdown",
   "id": "c75f1dc7",
   "metadata": {},
   "source": [
    "## Questão 2: Complemento de um Grafo\n",
    "\n",
    "Em um sistema de comunicação, o complemento de um grafo pode indicar pares de dispositivos que não possuem conexão direta. Considere o grafo G1 com vértices {1, 3, 4, 5, 6, 7} e arestas {(1,3), (1,5), (1,7), (4,6), (4,7), (5,6)}.\n",
    "\n",
    "Qual das alternativas representa corretamente as arestas do complemento de G1?\n",
    "\n",
    "a) {(1,4), (1,6), (3,4), (3,5), (3,6), (3,7), (4,5), (5,7), (6,7)}  \n",
    "b) {(1,3), (1,5), (1,7), (4,6), (4,7), (5,6)}  \n",
    "c) {(1,4), (1,6), (3,4), (3,5), (3,6), (3,7), (4,5), (5,7)}  \n",
    "d) {(1,3), (1,4), (1,5), (1,6), (1,7), (3,4), (3,5), (3,6), (3,7), (4,5), (4,6), (4,7), (5,6), (5,7), (6,7)}  \n",
    "e) Nenhuma das anteriores"
   ]
  },
  {
   "cell_type": "code",
   "execution_count": null,
   "id": "6b7d1c65",
   "metadata": {},
   "outputs": [],
   "source": [
    "import networkx as nx\n",
    "import matplotlib.pyplot as plt\n",
    "\n",
    "G1 = nx.Graph()\n",
    "G1.add_edges_from([(1,3), (1,5), (1,7), (4,6), (4,7), (5,6)])\n",
    "G1_complement = nx.complement(G1)\n",
    "\n",
    "def plot_graph(graph, title, color='lightblue', size=3):\n",
    "    plt.figure(figsize=(size, size))\n",
    "    nx.draw(graph, with_labels=True, node_color=color, edge_color='gray', node_size=500)\n",
    "    plt.title(title)\n",
    "    plt.show()\n",
    "\n",
    "plot_graph(G1, \"Grafo G1\")\n",
    "plot_graph(G1_complement, \"Complemento de G1\", color='lightgreen')"
   ]
  },
  {
   "cell_type": "markdown",
   "id": "0fc64ee6",
   "metadata": {},
   "source": [
    "**Resposta correta:**  \n",
    "a) {(1,4), (1,6), (3,4), (3,5), (3,6), (3,7), (4,5), (5,7), (6,7)}\n",
    "\n",
    "**Feedback:**  \n",
    "O complemento de um grafo contém todas as arestas possíveis entre os vértices, exceto aquelas que já existem no grafo original. A alternativa correta apresenta exatamente as arestas que não estão em G1, mas poderiam existir entre os mesmos vértices."
   ]
  },
  {
   "cell_type": "markdown",
   "id": "4f3bfb60",
   "metadata": {},
   "source": [
    "## Questão 3: Matriz de Adjacência de um Grafo Direcionado\n",
    "\n",
    "Em um sistema de fluxo de dados, a matriz de adjacência de um grafo direcionado representa as possíveis transferências entre módulos. Considere o grafo direcionado G com vértices {1, 2, 3, 4} e arestas {(1,2), (2,3), (3,4), (4,1), (1,3)}.\n",
    "\n",
    "Qual das alternativas representa corretamente a matriz de adjacência de G?\n",
    "\n",
    "a) \n",
    "\\[\n",
    "\\begin{bmatrix}\n",
    "0 & 1 & 1 & 0 \\\\\n",
    "0 & 0 & 1 & 0 \\\\\n",
    "0 & 0 & 0 & 1 \\\\\n",
    "1 & 0 & 0 & 0\n",
    "\\end{bmatrix}\n",
    "\\]\n",
    "b) \n",
    "\\[\n",
    "\\begin{bmatrix}\n",
    "0 & 1 & 0 & 1 \\\\\n",
    "1 & 0 & 1 & 0 \\\\\n",
    "0 & 1 & 0 & 1 \\\\\n",
    "1 & 0 & 1 & 0\n",
    "\\end{bmatrix}\n",
    "\\]\n",
    "c) \n",
    "\\[\n",
    "\\begin{bmatrix}\n",
    "0 & 1 & 1 & 1 \\\\\n",
    "1 & 0 & 1 & 1 \\\\\n",
    "1 & 1 & 0 & 1 \\\\\n",
    "1 & 1 & 1 & 0\n",
    "\\end{bmatrix}\n",
    "\\]\n",
    "d) \n",
    "\\[\n",
    "\\begin{bmatrix}\n",
    "0 & 1 & 1 & 0 \\\\\n",
    "1 & 0 & 0 & 1 \\\\\n",
    "0 & 1 & 0 & 1 \\\\\n",
    "1 & 0 & 1 & 0\n",
    "\\end{bmatrix}\n",
    "\\]\n",
    "e) Nenhuma das anteriores"
   ]
  },
  {
   "cell_type": "code",
   "execution_count": null,
   "id": "c9645663",
   "metadata": {},
   "outputs": [],
   "source": [
    "import networkx as nx\n",
    "import matplotlib.pyplot as plt\n",
    "import numpy as np\n",
    "\n",
    "G = nx.DiGraph()\n",
    "G.add_edges_from([(1,2), (2,3), (3,4), (4,1), (1,3)])\n",
    "\n",
    "def plot_directed_graph(graph, title, color='lightblue', size=4):\n",
    "    plt.figure(figsize=(size, size))\n",
    "    pos = nx.spring_layout(graph)\n",
    "    nx.draw(graph, pos, with_labels=True, node_color=color, edge_color='gray', node_size=500, arrows=True)\n",
    "    plt.title(title)\n",
    "    plt.show()\n",
    "\n",
    "plot_directed_graph(G, \"Grafo Direcionado G\")\n",
    "\n",
    "adj_matrix = nx.adjacency_matrix(G).todense()\n",
    "print(\"Matriz de Adjacência:\")\n",
    "print(adj_matrix)"
   ]
  },
  {
   "cell_type": "markdown",
   "id": "641941fc",
   "metadata": {},
   "source": [
    "**Resposta correta:**  \n",
    "a) \n",
    "\\[\n",
    "\\begin{bmatrix}\n",
    "0 & 1 & 1 & 0 \\\\\n",
    "0 & 0 & 1 & 0 \\\\\n",
    "0 & 0 & 0 & 1 \\\\\n",
    "1 & 0 & 0 & 0\n",
    "\\end{bmatrix}\n",
    "\\]\n",
    "\n",
    "**Feedback:**  \n",
    "A matriz de adjacência de um grafo direcionado indica, para cada linha i e coluna j, se existe uma aresta do vértice i para o vértice j. A matriz correta reflete exatamente as conexões direcionadas do grafo."
   ]
  }
 ],
 "metadata": {
  "language_info": {
   "name": "python"
  }
 },
 "nbformat": 4,
 "nbformat_minor": 5
}
