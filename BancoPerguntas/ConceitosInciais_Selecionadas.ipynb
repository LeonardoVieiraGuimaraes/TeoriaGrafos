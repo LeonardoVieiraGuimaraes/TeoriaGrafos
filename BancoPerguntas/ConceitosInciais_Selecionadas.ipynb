{
 "cells": [
  {
   "cell_type": "markdown",
   "id": "e51cbd72",
   "metadata": {},
   "source": [
    "# Questões Selecionadas de Conceitos Iniciais em Teoria dos Grafos\n",
    "\n",
    "Este notebook apresenta três questões fundamentais sobre grafos, cada uma contextualizada e acompanhada de visualização quando necessário."
   ]
  },
  {
   "cell_type": "markdown",
   "id": "77d5245e",
   "metadata": {},
   "source": [
    "## Questão 1: Definição de Grafo\n",
    "\n",
    "Os grafos são estruturas fundamentais para modelar relações entre objetos em diversas áreas, como redes de computadores, mapas e redes sociais. Sobre a definição de grafo, assinale a alternativa correta."
   ]
  },
  {
   "cell_type": "markdown",
   "id": "fa995e8d",
   "metadata": {},
   "source": [
    "a) Um conjunto de vértices sem nenhuma aresta conectando-os.  \n",
    "b) Um conjunto vazio de vértices e arestas.  \n",
    "c) Um conjunto não vazio de vértices e um conjunto de arestas, onde cada aresta conecta dois vértices.  \n",
    "d) Um conjunto de arestas conectadas em sequência, formando um ciclo.  \n",
    "e) Um conjunto de vértices, onde cada vértice está conectado a todos os outros vértices."
   ]
  },
  {
   "cell_type": "markdown",
   "id": "bbdca0bd",
   "metadata": {},
   "source": [
    "**Resposta correta:**  \n",
    "c) Um conjunto não vazio de vértices e um conjunto de arestas, onde cada aresta conecta dois vértices."
   ]
  },
  {
   "cell_type": "markdown",
   "id": "c6d0b261",
   "metadata": {},
   "source": [
    "**Feedback:**  \n",
    "A definição clássica de grafo envolve um conjunto de vértices (nós) e um conjunto de arestas (ligações) entre pares de vértices. As demais alternativas descrevem estruturas incompletas ou casos particulares, mas não a definição geral de grafo."
   ]
  },
  {
   "cell_type": "code",
   "execution_count": null,
   "id": "351ca454",
   "metadata": {},
   "outputs": [],
   "source": [
    "# Visualização de um grafo simples\n",
    "import networkx as nx\n",
    "import matplotlib.pyplot as plt\n",
    "\n",
    "G = nx.Graph()\n",
    "G.add_nodes_from([1, 2, 3, 4])\n",
    "G.add_edges_from([(1, 2), (2, 3), (3, 4), (4, 1)])\n",
    "\n",
    "nx.draw(G, with_labels=True, node_color='lightblue', edge_color='gray', node_size=500, font_size=10)\n",
    "plt.title('Exemplo de Grafo')\n",
    "plt.show()"
   ]
  },
  {
   "cell_type": "markdown",
   "id": "82e83c6e",
   "metadata": {},
   "source": [
    "## Questão 2: Ordem, Tamanho e Grau\n",
    "\n",
    "Considere o grafo abaixo, que pode representar, por exemplo, conexões entre computadores em uma pequena rede local. Analise o grafo e responda:"
   ]
  },
  {
   "cell_type": "code",
   "execution_count": null,
   "id": "80119213",
   "metadata": {},
   "outputs": [],
   "source": [
    "# Grafo para análise de ordem, tamanho e grau\n",
    "import networkx as nx\n",
    "import matplotlib.pyplot as plt\n",
    "\n",
    "G = nx.Graph()\n",
    "G.add_nodes_from([1, 2, 3, 4, 5])\n",
    "G.add_edges_from([(1, 2), (2, 3), (3, 4), (4, 5), (5, 1), (1, 3)])\n",
    "\n",
    "nx.draw(G, with_labels=True, node_color='lightblue', edge_color='gray', node_size=500, font_size=10)\n",
    "plt.title('Grafo para Questão de Ordem, Tamanho e Grau')\n",
    "plt.show()"
   ]
  },
  {
   "cell_type": "markdown",
   "id": "63f87456",
   "metadata": {},
   "source": [
    "a) Ordem: 5, Tamanho: 6, Grau do vértice 1: 3, Densidade: 0.6, Sequência de graus: [2, 2, 3, 3, 4]  \n",
    "b) Ordem: 4, Tamanho: 5, Grau do vértice 1: 2, Densidade: 0.5, Sequência de graus: [2, 2, 2, 2]  \n",
    "c) Ordem: 5, Tamanho: 6, Grau do vértice 1: 4, Densidade: 0.7, Sequência de graus: [3, 3, 3, 3, 3]  \n",
    "d) Ordem: 3, Tamanho: 4, Grau do vértice 1: 1, Densidade: 0.4, Sequência de graus: [1, 1, 2]  \n",
    "e) Ordem: 5, Tamanho: 6, Grau do vértice 1: 3, Densidade: 0.6, Sequência de graus: [2, 3, 3, 2, 3]"
   ]
  },
  {
   "cell_type": "markdown",
   "id": "645bf496",
   "metadata": {},
   "source": [
    "**Resposta correta:**  \n",
    "a) Ordem: 5, Tamanho: 6, Grau do vértice 1: 3, Densidade: 0.6, Sequência de graus: [2, 2, 3, 3, 4]"
   ]
  },
  {
   "cell_type": "markdown",
   "id": "e387160f",
   "metadata": {},
   "source": [
    "**Feedback:**  \n",
    "A ordem corresponde ao número de vértices (5), o tamanho ao número de arestas (6), o grau do vértice 1 é 3 (três conexões), a densidade é calculada por 2m/(n(n-1)) = 2*6/(5*4) = 0.6, e a sequência de graus é obtida listando o grau de cada vértice."
   ]
  },
  {
   "cell_type": "markdown",
   "id": "b3b5a0f2",
   "metadata": {},
   "source": [
    "## Questão 3: Grafo Bipartido\n",
    "\n",
    "Grafos bipartidos são úteis para modelar relações entre dois conjuntos distintos, como pessoas e projetos em uma empresa. Observe o grafo bipartido abaixo e responda:"
   ]
  },
  {
   "cell_type": "code",
   "execution_count": null,
   "id": "7d0ce3c0",
   "metadata": {},
   "outputs": [],
   "source": [
    "# Visualização de grafo bipartido\n",
    "import networkx as nx\n",
    "import matplotlib.pyplot as plt\n",
    "\n",
    "B = nx.Graph()\n",
    "V1 = [1, 2, 3]\n",
    "V2 = ['A', 'B', 'C']\n",
    "B.add_nodes_from(V1, bipartite=0)\n",
    "B.add_nodes_from(V2, bipartite=1)\n",
    "B.add_edges_from([(1, 'A'), (1, 'B'), (2, 'B'), (3, 'C')])\n",
    "\n",
    "pos = nx.drawing.layout.bipartite_layout(B, V1)\n",
    "nx.draw(B, pos, with_labels=True, node_color='lightblue', edge_color='gray', node_size=500, font_size=10)\n",
    "plt.title('Exemplo de Grafo Bipartido')\n",
    "plt.show()"
   ]
  },
  {
   "cell_type": "markdown",
   "id": "e3e8da57",
   "metadata": {},
   "source": [
    "a) V1 = {1, 2, 3}, V2 = {'A', 'B', 'C'}, 4 arestas, Não, Vértice de maior grau em V1: 1, Menor grau em V2: 1  \n",
    "b) V1 = {1, 2}, V2 = {'A', 'B', 'C', 3}, 3 arestas, Sim, Vértice de maior grau em V1: 2, Menor grau em V2: 2  \n",
    "c) V1 = {'A', 'B', 'C'}, V2 = {1, 2, 3}, 4 arestas, Não, Vértice de maior grau em V1: 1, Menor grau em V2: 1  \n",
    "d) V1 = {1, 2, 3, 'A'}, V2 = {'B', 'C'}, 2 arestas, Não, Vértice de maior grau em V1: 1, Menor grau em V2: 1  \n",
    "e) V1 = {1, 2, 3}, V2 = {'A', 'B', 'C'}, 4 arestas, Sim, Vértice de maior grau em V1: 1, Menor grau em V2: 2"
   ]
  },
  {
   "cell_type": "markdown",
   "id": "7d1d4534",
   "metadata": {},
   "source": [
    "**Resposta correta:**  \n",
    "a) V1 = {1, 2, 3}, V2 = {'A', 'B', 'C'}, 4 arestas, Não, Vértice de maior grau em V1: 1, Menor grau em V2: 1"
   ]
  },
  {
   "cell_type": "markdown",
   "id": "2d61e831",
   "metadata": {},
   "source": [
    "**Feedback:**  \n",
    "O grafo apresentado possui dois conjuntos de vértices bem definidos (V1 e V2), 4 arestas conectando apenas vértices de conjuntos diferentes, não é bipartido completo pois nem todos os vértices de V1 se conectam a todos de V2, e os graus podem ser verificados diretamente na visualização."
   ]
  }
 ],
 "metadata": {
  "language_info": {
   "name": "python"
  }
 },
 "nbformat": 4,
 "nbformat_minor": 5
}
