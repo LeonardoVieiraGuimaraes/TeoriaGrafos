{
 "cells": [
  {
   "cell_type": "markdown",
   "metadata": {},
   "source": [
    "# Conceito de Grafos\n",
    "Um grafo é uma estrutura matemática usada para modelar relações entre objetos. Ele é composto por vértices (ou nós) e arestas (ou arcos) que conectam pares de vértices."
   ]
  },
  {
   "cell_type": "markdown",
   "metadata": {},
   "source": [
    "## Grafos Dirigidos ou Dígrafo\n",
    "Em um grafo dirigido, as arestas têm uma direção associada, ou seja, elas vão de um vértice a outro. Esses grafos são representados por setas.\n",
    "### Exemplo em Python\n",
    "```python\n",
    "import networkx as nx\n",
    "import matplotlib.pyplot as plt\n",
    "\n",
    "G = nx.DiGraph()\n",
    "G.add_edges_from([(1, 2), (2, 3), (3, 1)])\n",
    "nx.draw(G, with_labels=True)\n",
    "plt.show()\n",
    "```"
   ]
  },
  {
   "cell_type": "markdown",
   "metadata": {},
   "source": [
    "## Laços e Arestas Paralelas\n",
    "Um laço é uma aresta que conecta um vértice a ele mesmo. Arestas paralelas são múltiplas arestas que conectam o mesmo par de vértices.\n",
    "### Exemplo em Python\n",
    "```python\n",
    "G = nx.MultiGraph()\n",
    "G.add_edges_from([(1, 1), (1, 2), (1, 2)])\n",
    "nx.draw(G, with_labels=True)\n",
    "plt.show()\n",
    "```"
   ]
  },
  {
   "cell_type": "markdown",
   "metadata": {},
   "source": [
    "## Parâmetros Quantitativos\n",
    "Os principais parâmetros quantitativos de um grafo são o número de vértices (n) e o número de arestas (m). Outros parâmetros incluem o grau de um vértice, que é o número de arestas incidentes a ele.\n",
    "### Exemplo em Python\n",
    "```python\n",
    "G = nx.Graph()\n",
    "G.add_edges_from([(1, 2), (2, 3), (3, 4), (4, 1)])\n",
    "print(f'Número de vértices: {G.number_of_nodes()}')\n",
    "print(f'Número de arestas: {G.number_of_edges()}')\n",
    "print(f'Grau do vértice 1: {G.degree[1]}')\n",
    "```"
   ]
  },
  {
   "cell_type": "markdown",
   "metadata": {},
   "source": [
    "## Grafos Rotulados e Não-Rotulados\n",
    "Em grafos rotulados, os vértices e/ou arestas possuem rótulos ou identificadores únicos. Em grafos não-rotulados, não há rótulos associados aos vértices ou arestas.\n",
    "### Exemplo em Python\n",
    "```python\n",
    "G = nx.Graph()\n",
    "G.add_edge('A', 'B')\n",
    "G.add_edge('B', 'C')\n",
    "nx.draw(G, with_labels=True)\n",
    "plt.show()\n",
    "```"
   ]
  },
  {
   "cell_type": "markdown",
   "metadata": {},
   "source": [
    "## Isomorfismo\n",
    "Dois grafos são isomorfos se existe uma correspondência entre seus vértices e arestas que preserva a estrutura do grafo. Em outras palavras, eles são estruturalmente idênticos.\n",
    "### Exemplo em Python\n",
    "```python\n",
    "G1 = nx.Graph()\n",
    "G2 = nx.Graph()\n",
    "G1.add_edges_from([(1, 2), (2, 3), (3, 1)])\n",
    "G2.add_edges_from([(4, 5), (5, 6), (6, 4)])\n",
    "print(nx.is_isomorphic(G1, G2))\n",
    "```"
   ]
  },
  {
   "cell_type": "markdown",
   "metadata": {},
   "source": [
    "## Subgrafos\n",
    "Um subgrafo é um grafo formado a partir de um subconjunto dos vértices e arestas de um grafo maior. Subgrafos podem ser usados para estudar propriedades locais de um grafo.\n",
    "### Exemplo em Python\n",
    "```python\n",
    "G = nx.Graph()\n",
    "G.add_edges_from([(1, 2), (2, 3), (3, 4), (4, 5)])\n",
    "subgraph = G.subgraph([1, 2, 3])\n",
    "nx.draw(subgraph, with_labels=True)\n",
    "plt.show()\n",
    "```"
   ]
  },
  {
   "cell_type": "markdown",
   "metadata": {},
   "source": [
    "## Classes de Grafos\n",
    "Existem várias classes de grafos, incluindo grafos completos, grafos bipartidos, grafos cíclicos, entre outros. Cada classe possui propriedades e características específicas.\n",
    "### Exemplo em Python\n",
    "```python\n",
    "# Grafo Completo\n",
    "G = nx.complete_graph(5)\n",
    "nx.draw(G, with_labels=True)\n",
    "plt.show()\n",
    "\n",
    "# Grafo Bipartido\n",
    "B = nx.complete_bipartite_graph(3, 2)\n",
    "nx.draw(B, with_labels=True)\n",
    "plt.show()\n",
    "```"
   ]
  },
  {
   "cell_type": "markdown",
   "metadata": {},
   "source": [
    "## Percursos, Trilhas e Caminhos\n",
    "Um percurso em um grafo é uma sequência de vértices e arestas. Uma trilha é um percurso onde todas as arestas são distintas. Um caminho é uma trilha onde todos os vértices são distintos.\n",
    "### Exemplo em Python\n",
    "```python\n",
    "G = nx.Graph()\n",
    "G.add_edges_from([(1, 2), (2, 3), (3, 4), (4, 5)])\n",
    "print(list(nx.all_simple_paths(G, source=1, target=5)))\n",
    "```"
   ]
  }
 ],
 "metadata": {
  "language_info": {
   "name": "python"
  }
 },
 "nbformat": 4,
 "nbformat_minor": 2
}
