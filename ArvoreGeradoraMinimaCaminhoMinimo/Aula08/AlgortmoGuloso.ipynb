{
 "cells": [
  {
   "cell_type": "markdown",
   "id": "16569706",
   "metadata": {},
   "source": [
    "# 🦾 Algoritmo Guloso (Greedy Algorithm)\n",
    "\n",
    "Bem-vindo à aula sobre **Algoritmos Gulosos**!  \n",
    "Vamos aprender o que são, como funcionam, ver exemplos, pseudocódigo e implementar na prática com Python e NetworkX.\n",
    "\n",
    "---"
   ]
  },
  {
   "cell_type": "markdown",
   "id": "b9ac3520",
   "metadata": {},
   "source": [
    "## 🤔 O que é um Algoritmo Guloso?\n",
    "\n",
    "Um algoritmo guloso resolve problemas tomando **sempre a melhor decisão local** em cada etapa, esperando que isso leve à solução ótima global.\n",
    "\n",
    "- **Decisão local ótima:** Escolhe o melhor movimento disponível no momento.\n",
    "- **Não volta atrás:** Não reconsidera escolhas anteriores.\n",
    "- **Nem sempre encontra a solução ótima global**, mas é eficiente e simples.\n",
    "\n",
    "---"
   ]
  },
  {
   "cell_type": "markdown",
   "id": "81c95a56",
   "metadata": {},
   "source": [
    "## 🧩 Exemplos Clássicos\n",
    "\n",
    "- **Problema da Mochila Fracionária**\n",
    "- **Árvore Geradora Mínima (Kruskal, Prim)**\n",
    "- **Caminho de menor custo**\n",
    "- **Troco com menor número de moedas**\n",
    "\n",
    "---"
   ]
  },
  {
   "cell_type": "markdown",
   "id": "2480bfb5",
   "metadata": {},
   "source": [
    "## 📋 Passos Gerais de um Algoritmo Guloso\n",
    "\n",
    "1. **Definir um conjunto de candidatos**\n",
    "2. **Selecionar o melhor candidato disponível**\n",
    "3. **Verificar se a escolha é válida**\n",
    "4. **Adicionar à solução**\n",
    "5. **Repetir até terminar**\n",
    "\n",
    "---"
   ]
  },
  {
   "cell_type": "markdown",
   "id": "27d93877",
   "metadata": {},
   "source": [
    "## 📝 Pseudocódigo\n",
    "\n",
    "```plaintext\n",
    "Algoritmo Guloso (Problema)\n",
    "    solução ← conjunto vazio\n",
    "    enquanto solução não está completa faça\n",
    "        candidato ← melhor opção disponível\n",
    "        se candidato é válido então\n",
    "            adicionar candidato à solução\n",
    "    retornar solução\n",
    "```\n",
    "\n",
    "---"
   ]
  },
  {
   "cell_type": "markdown",
   "id": "ae4bac53",
   "metadata": {},
   "source": [
    "## 🌳 Exemplo: Árvore Geradora Mínima (Kruskal)\n",
    "\n",
    "Vamos usar o algoritmo guloso de Kruskal para encontrar a árvore geradora mínima de um grafo.\n",
    "\n",
    "- Sempre escolhe a **aresta de menor peso** que não forma ciclo.\n",
    "\n",
    "---"
   ]
  },
  {
   "cell_type": "code",
   "execution_count": null,
   "id": "b8c084c5",
   "metadata": {},
   "outputs": [],
   "source": [
    "# Instale as bibliotecas necessárias (caso não tenha)\n",
    "# !pip install networkx matplotlib\n",
    "\n",
    "import networkx as nx\n",
    "import matplotlib.pyplot as plt\n",
    "\n",
    "# Criando um grafo ponderado\n",
    "G = nx.Graph()\n",
    "arestas = [\n",
    "    ('A', 'B', 7), ('A', 'D', 5),\n",
    "    ('B', 'C', 8), ('B', 'D', 9), ('B', 'E', 7),\n",
    "    ('C', 'E', 5),\n",
    "    ('D', 'E', 15), ('D', 'F', 6),\n",
    "    ('E', 'F', 8), ('E', 'G', 9),\n",
    "    ('F', 'G', 11)\n",
    "]\n",
    "G.add_weighted_edges_from(arestas)\n",
    "\n",
    "# Desenhar o grafo original\n",
    "pos = nx.spring_layout(G, seed=42)\n",
    "plt.figure(figsize=(8,6))\n",
    "nx.draw(G, pos, with_labels=True, node_color=\"#f7cac9\", edge_color=\"#92a8d1\", node_size=900, font_weight='bold')\n",
    "labels = nx.get_edge_attributes(G, 'weight')\n",
    "nx.draw_networkx_edge_labels(G, pos, edge_labels=labels)\n",
    "plt.title(\"🌐 Grafo Original\")\n",
    "plt.show()"
   ]
  },
  {
   "cell_type": "markdown",
   "id": "98d42782",
   "metadata": {},
   "source": [
    "## ⚡ Implementando Kruskal (Guloso) com NetworkX\n",
    "\n",
    "Vamos usar o algoritmo de Kruskal para encontrar a árvore geradora mínima.\n"
   ]
  },
  {
   "cell_type": "code",
   "execution_count": null,
   "id": "c5de809c",
   "metadata": {},
   "outputs": [],
   "source": [
    "# Encontrando a árvore geradora mínima (MST) com Kruskal\n",
    "mst = nx.minimum_spanning_tree(G, algorithm='kruskal')\n",
    "\n",
    "# Desenhar a MST\n",
    "plt.figure(figsize=(8,6))\n",
    "nx.draw(mst, pos, with_labels=True, node_color=\"#b5ead7\", edge_color=\"#ffb7b2\", node_size=900, font_weight='bold')\n",
    "labels_mst = nx.get_edge_attributes(mst, 'weight')\n",
    "nx.draw_networkx_edge_labels(mst, pos, edge_labels=labels_mst)\n",
    "plt.title(\"🌲 Árvore Geradora Mínima (Kruskal - Guloso)\")\n",
    "plt.show()"
   ]
  },
  {
   "cell_type": "markdown",
   "id": "3fec408f",
   "metadata": {},
   "source": [
    "## 🧠 Resumo Visual\n",
    "\n",
    "| Passo | Ação | Resultado |\n",
    "|-------|------|-----------|\n",
    "| 1 | Escolhe menor aresta | Adiciona à solução |\n",
    "| 2 | Repete sem formar ciclo | Constrói MST |\n",
    "| 3 | Para quando todos os vértices conectados | Solução ótima |\n",
    "\n",
    "---"
   ]
  },
  {
   "cell_type": "markdown",
   "id": "21b406b4",
   "metadata": {},
   "source": [
    "## 🎯 Quando usar Algoritmos Gulosos?\n",
    "\n",
    "- Quando decisões locais levam a uma boa (ou ótima) solução global.\n",
    "- Quando a eficiência é mais importante que a perfeição.\n",
    "- Quando o problema tem **propriedade de subestrutura ótima**.\n",
    "\n",
    "---"
   ]
  },
  {
   "cell_type": "markdown",
   "id": "12833912",
   "metadata": {},
   "source": [
    "## 🚩 Limitações\n",
    "\n",
    "- Nem sempre encontra a solução ótima global.\n",
    "- Precisa analisar se o problema permite abordagem gulosa.\n",
    "\n",
    "---"
   ]
  },
  {
   "cell_type": "markdown",
   "id": "7c25da60",
   "metadata": {},
   "source": [
    "## 🏁 Conclusão\n",
    "\n",
    "- Algoritmos gulosos são simples, rápidos e úteis em muitos problemas.\n",
    "- Sempre avalie se o problema permite abordagem gulosa.\n",
    "- Pratique implementando outros exemplos!\n",
    "\n",
    "---"
   ]
  },
  {
   "cell_type": "markdown",
   "id": "da059577",
   "metadata": {},
   "source": [
    "## 💡 Desafio\n",
    "\n",
    "Implemente um algoritmo guloso para o problema do troco com moedas!  \n",
    "Qual a menor quantidade de moedas para um valor dado?\n",
    "\n",
    "---"
   ]
  }
 ],
 "metadata": {
  "language_info": {
   "name": "python"
  }
 },
 "nbformat": 4,
 "nbformat_minor": 5
}
