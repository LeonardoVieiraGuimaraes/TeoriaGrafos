{
 "cells": [
  {
   "cell_type": "markdown",
   "id": "44f77d6c",
   "metadata": {},
   "source": [
    "# 📬 Problema do Carteiro Chinês (CPP) — Exemplo Prático Passo a Passo\n",
    "\n",
    "Vamos resolver o problema do carteiro chinês em um grafo pequeno, mostrando cada etapa do algoritmo, plotando os passos e exibindo as informações relevantes."
   ]
  },
  {
   "cell_type": "markdown",
   "id": "6780b8e7",
   "metadata": {},
   "source": [
    "## 🎯 Objetivos\n",
    "\n",
    "- Entender o conceito e motivação do CPP.\n",
    "- Compreender o processo de eulerização de grafos.\n",
    "- Aplicar o algoritmo para encontrar a rota ótima do carteiro.\n",
    "- Visualizar o processo passo a passo."
   ]
  },
  {
   "cell_type": "markdown",
   "id": "bdf8b08c",
   "metadata": {},
   "source": [
    "## 💡 Definição Formal\n",
    "\n",
    "Dado um grafo conexo valorado $G = (V, E)$, o objetivo é encontrar um ciclo fechado de custo mínimo que percorra todas as arestas de $G$ ao menos uma vez.\n",
    "\n",
    "- Se $G$ é euleriano (todos os vértices têm grau par), o ciclo euleriano é a solução ótima.\n",
    "- Se $G$ não é euleriano, será necessário repetir algumas arestas para garantir que todos os vértices tenham grau par (eulerização), minimizando o custo adicional."
   ]
  },
  {
   "cell_type": "markdown",
   "id": "4c66e568",
   "metadata": {},
   "source": [
    "## 🧩 Eulerização de Grafos\n",
    "\n",
    "**Definição:**  \n",
    "Dado um grafo conexo $G = (V, E)$, uma eulerização de $G$ é um grafo $G_e = (V, E_e)$ tal que:\n",
    "1. $G_e$ é obtido pela duplicação de arestas de $G$ (incluindo caminhos artificiais).\n",
    "2. Todos os vértices de $G_e$ possuem grau par.\n",
    "\n",
    "O processo consiste em identificar os vértices de grau ímpar e duplicar arestas (ou caminhos mínimos) entre pares desses vértices, até que todos tenham grau par."
   ]
  },
  {
   "cell_type": "markdown",
   "id": "c7322335",
   "metadata": {},
   "source": [
    "## 📝 Algoritmo do Carteiro Chinês\n",
    "\n",
    "**Passos:**\n",
    "1. Identifique os vértices de grau ímpar em $G$.\n",
    "2. Calcule os caminhos mínimos entre todos os pares de vértices de grau ímpar (usando, por exemplo, o algoritmo de Floyd).\n",
    "3. Construa a matriz de distâncias $D_{impar}$ apenas para os vértices de grau ímpar.\n",
    "4. Enquanto $D_{impar}$ não estiver vazia:\n",
    "    - Encontre o par de vértices $(v_i, v_j)$ com menor custo.\n",
    "    - Duplique as arestas do caminho mínimo entre $v_i$ e $v_j$ (caminho artificial).\n",
    "    - Remova $v_i$ e $v_j$ de $D_{impar}$.\n",
    "5. O grafo resultante é euleriano. Encontre um ciclo euleriano neste grafo.\n",
    "\n",
    "**Pseudocódigo:**\n",
    "```plaintext\n",
    "CarteiroChines(G, W)\n",
    "    Vpar ← {vértices de grau par}\n",
    "    Ge ← G\n",
    "    Execute FLOYD(G, W) para obter matriz de distâncias Dn\n",
    "    Dimpar ← Dn restrita aos vértices de grau ímpar\n",
    "    enquanto Dimpar ≠ ∅ faça\n",
    "        (vi, vj) ← par com menor custo em Dimpar\n",
    "        Duplique caminho mínimo entre vi e vj em Ge\n",
    "        Remova vi e vj de Dimpar\n",
    "    Encontre ciclo euleriano em Ge\n",
    "```"
   ]
  },
  {
   "cell_type": "markdown",
   "id": "ad90f1a6",
   "metadata": {},
   "source": [
    "## 🖼️ Exemplo Ilustrativo\n",
    "\n",
    "Considere um grafo com vértices de grau ímpar: $v_1, v_3, v_4, v_5, v_9, v_{11}$.\n",
    "\n",
    "1. Calcule os caminhos mínimos entre todos os pares de vértices ímpares e monte a matriz $D_{impar}$.\n",
    "2. Encontre o par com menor custo e duplique o caminho correspondente.\n",
    "3. Repita até que todos os vértices tenham grau par.\n",
    "4. O grafo resultante é euleriano; encontre o ciclo euleriano.\n",
    "\n",
    "*(Veja as Figuras 7.3 a 7.7 do material para o passo a passo visual.)*"
   ]
  },
  {
   "cell_type": "markdown",
   "id": "de8a4475",
   "metadata": {},
   "source": [
    "## 🏆 Exercício Prático\n",
    "\n",
    "Implemente o algoritmo do carteiro chinês para um grafo pequeno de sua escolha.  \n",
    "Mostre:\n",
    "- Identificação dos vértices de grau ímpar.\n",
    "- Matriz de caminhos mínimos entre eles.\n",
    "- Passos de duplicação de arestas/caminhos.\n",
    "- O ciclo euleriano final.\n",
    "\n",
    "**Dica:** Use `networkx` para manipulação dos grafos e visualização dos passos."
   ]
  },
  {
   "cell_type": "markdown",
   "id": "bdb05b23",
   "metadata": {},
   "source": [
    "## 💬 Discussão\n",
    "\n",
    "- Por que a eulerização é necessária em grafos não-eulerianos?\n",
    "- Como garantir que o custo adicional seja mínimo?\n",
    "- Quais aplicações práticas você conhece para o CPP?"
   ]
  },
  {
   "cell_type": "markdown",
   "id": "39f0bd40",
   "metadata": {},
   "source": [
    "## ✅ Encerramento\n",
    "\n",
    "- Definimos o CPP e o processo de eulerização.\n",
    "- Vimos o algoritmo passo a passo.\n",
    "- Exercício prático para fixação.\n",
    "\n",
    "**Dúvidas? Pergunte!**"
   ]
  },
  {
   "cell_type": "markdown",
   "id": "b8af8940",
   "metadata": {},
   "source": [
    "## Exemplo: Grafo Não-Euleriano\n",
    "\n",
    "Considere o grafo abaixo:\n",
    "\n",
    "- **Vértices:** A, B, C, D, E\n",
    "- **Arestas e pesos:**  \n",
    "  (A, B): 2  \n",
    "  (A, C): 3  \n",
    "  (B, C): 4  \n",
    "  (B, D): 2  \n",
    "  (C, D): 3  \n",
    "  (C, E): 2  \n",
    "  (D, E): 3  \n",
    "\n",
    "Vamos visualizar o grafo e identificar os vértices de grau ímpar."
   ]
  },
  {
   "cell_type": "code",
   "execution_count": 1,
   "id": "74fb64fc",
   "metadata": {},
   "outputs": [
    {
     "data": {
      "image/png": "[encoded data removed]",
      "text/plain": [
       "<Figure size 500x400 with 1 Axes>"
      ]
     },
     "metadata": {},
     "output_type": "display_data"
    },
    {
     "name": "stdout",
     "output_type": "stream",
     "text": [
      "Vértices de grau ímpar: ['B', 'D']\n"
     ]
    }
   ],
   "source": [
    "import networkx as nx\n",
    "import matplotlib.pyplot as plt\n",
    "import numpy as np\n",
    "\n",
    "# Criando o grafo\n",
    "G = nx.Graph()\n",
    "arestas = [\n",
    "    ('A', 'B', 2), ('A', 'C', 3), ('B', 'C', 4),\n",
    "    ('B', 'D', 2), ('C', 'D', 3), ('C', 'E', 2), ('D', 'E', 3)\n",
    "]\n",
    "G.add_weighted_edges_from(arestas)\n",
    "\n",
    "pos = nx.spring_layout(G, seed=42)\n",
    "plt.figure(figsize=(5,4))\n",
    "nx.draw(G, pos, with_labels=True, node_color='lightblue', edge_color='gray', font_weight='bold')\n",
    "nx.draw_networkx_edge_labels(G, pos, edge_labels=nx.get_edge_attributes(G, 'weight'))\n",
    "plt.title(\"Grafo Original\")\n",
    "plt.show()\n",
    "\n",
    "# Identificando vértices de grau ímpar\n",
    "graus = dict(G.degree())\n",
    "impares = [v for v, g in graus.items() if g % 2 == 1]\n",
    "print(\"Vértices de grau ímpar:\", impares)"
   ]
  },
  {
   "cell_type": "markdown",
   "id": "f00f67a8",
   "metadata": {},
   "source": [
    "## Passo 1: Matriz de Caminhos Mínimos (Floyd-Warshall)\n",
    "\n",
    "Vamos calcular os caminhos mínimos entre todos os pares de vértices usando o algoritmo de Floyd-Warshall."
   ]
  },
  {
   "cell_type": "code",
   "execution_count": 2,
   "id": "0e3ac600",
   "metadata": {},
   "outputs": [
    {
     "name": "stdout",
     "output_type": "stream",
     "text": [
      "Matriz de distâncias mínimas (apenas vértices ímpares):\n",
      "B: [0, 2]\n",
      "D: [2, 0]\n"
     ]
    }
   ],
   "source": [
    "# Matriz de distâncias mínimas entre todos os pares\n",
    "dist = dict(nx.floyd_warshall(G, weight='weight'))\n",
    "print(\"Matriz de distâncias mínimas (apenas vértices ímpares):\")\n",
    "for u in impares:\n",
    "    linha = []\n",
    "    for v in impares:\n",
    "        linha.append(dist[u][v])\n",
    "    print(f\"{u}: {linha}\")"
   ]
  },
  {
   "cell_type": "markdown",
   "id": "7f8f0afa",
   "metadata": {},
   "source": [
    "## Passo 2: Montando a matriz Dimpar\n",
    "\n",
    "A matriz Dimpar contém apenas os vértices de grau ímpar. Vamos exibi-la para facilitar a escolha dos pares."
   ]
  },
  {
   "cell_type": "code",
   "execution_count": 3,
   "id": "b7ea2bca",
   "metadata": {},
   "outputs": [
    {
     "name": "stdout",
     "output_type": "stream",
     "text": [
      "Matriz Dimpar (distâncias entre vértices ímpares):\n",
      "B: [0, 2]\n",
      "D: [2, 0]\n"
     ]
    }
   ],
   "source": [
    "# Exibindo a matriz Dimpar\n",
    "print(\"Matriz Dimpar (distâncias entre vértices ímpares):\")\n",
    "for u in impares:\n",
    "    linha = []\n",
    "    for v in impares:\n",
    "        linha.append(dist[u][v])\n",
    "    print(f\"{u}: {linha}\")"
   ]
  },
  {
   "cell_type": "markdown",
   "id": "6c1ae937",
   "metadata": {},
   "source": [
    "## Passo 3: Emparelhamento dos vértices ímpares com menor custo\n",
    "\n",
    "Vamos encontrar o emparelhamento de menor custo entre os vértices ímpares.  \n",
    "Como temos 4 vértices ímpares, precisamos de 2 pares.  \n",
    "Vamos testar todas as combinações possíveis."
   ]
  },
  {
   "cell_type": "code",
   "execution_count": 4,
   "id": "7f89d6da",
   "metadata": {},
   "outputs": [
    {
     "name": "stdout",
     "output_type": "stream",
     "text": [
      "Melhor emparelhamento de vértices ímpares: [('B', 'D')]\n",
      "Custo adicional mínimo: 2\n"
     ]
    }
   ],
   "source": [
    "import itertools\n",
    "\n",
    "# Gerando todos os emparelhamentos possíveis\n",
    "pares = list(itertools.combinations(impares, 2))\n",
    "melhor_emparelhamento = None\n",
    "menor_custo = float('inf')\n",
    "\n",
    "# Como são 4 vértices ímpares, os emparelhamentos possíveis são:\n",
    "# [(v1, v2), (v3, v4)] para todas as combinações sem sobreposição\n",
    "# Vamos gerar todas as partições possíveis de pares\n",
    "\n",
    "def emparelhamentos_possiveis(vertices):\n",
    "    # Gera todos os emparelhamentos possíveis de pares sem sobreposição\n",
    "    if not vertices:\n",
    "        return [[]]\n",
    "    v1 = vertices[0]\n",
    "    resultado = []\n",
    "    for i in range(1, len(vertices)):\n",
    "        par = (v1, vertices[i])\n",
    "        resto = vertices[1:i] + vertices[i+1:]\n",
    "        for emp in emparelhamentos_possiveis(resto):\n",
    "            resultado.append([par] + emp)\n",
    "    return resultado\n",
    "\n",
    "emparelhamentos = emparelhamentos_possiveis(impares)\n",
    "for emp in emparelhamentos:\n",
    "    custo = sum(dist[u][v] for u, v in emp)\n",
    "    if custo < menor_custo:\n",
    "        menor_custo = custo\n",
    "        melhor_emparelhamento = emp\n",
    "\n",
    "print(\"Melhor emparelhamento de vértices ímpares:\", melhor_emparelhamento)\n",
    "print(\"Custo adicional mínimo:\", menor_custo)"
   ]
  },
  {
   "cell_type": "markdown",
   "id": "f10fd9c6",
   "metadata": {},
   "source": [
    "## Passo 4: Duplicando os caminhos mínimos (Eulerização)\n",
    "\n",
    "Para cada par do melhor emparelhamento, duplicamos as arestas do caminho mínimo correspondente no grafo."
   ]
  },
  {
   "cell_type": "code",
   "execution_count": 5,
   "id": "1f7234ac",
   "metadata": {},
   "outputs": [
    {
     "name": "stdout",
     "output_type": "stream",
     "text": [
      "Caminho mínimo entre B e D: ['B', 'D']\n"
     ]
    },
    {
     "data": {
      "image/png": "[encoded data removed]",
      "text/plain": [
       "<Figure size 500x400 with 1 Axes>"
      ]
     },
     "metadata": {},
     "output_type": "display_data"
    }
   ],
   "source": [
    "Ge = G.copy()\n",
    "for u, v in melhor_emparelhamento:\n",
    "    caminho = nx.shortest_path(G, u, v, weight='weight')\n",
    "    print(f\"Caminho mínimo entre {u} e {v}: {caminho}\")\n",
    "    # Duplicando as arestas do caminho\n",
    "    for i in range(len(caminho)-1):\n",
    "        Ge.add_edge(caminho[i], caminho[i+1], weight=G[caminho[i]][caminho[i+1]]['weight'], artificial=True)\n",
    "\n",
    "# Plotando o grafo eulerizado (arestas duplicadas em vermelho tracejado)\n",
    "plt.figure(figsize=(5,4))\n",
    "edge_colors = []\n",
    "edge_styles = []\n",
    "for u, v, d in Ge.edges(data=True):\n",
    "    if Ge.number_of_edges(u, v) > 1:\n",
    "        edge_colors.append('red')\n",
    "        edge_styles.append('dashed')\n",
    "    else:\n",
    "        edge_colors.append('gray')\n",
    "        edge_styles.append('solid')\n",
    "nx.draw(Ge, pos, with_labels=True, node_color='lightyellow', edge_color=edge_colors, style='solid', font_weight='bold')\n",
    "nx.draw_networkx_edge_labels(Ge, pos, edge_labels=nx.get_edge_attributes(Ge, 'weight'))\n",
    "plt.title(\"Grafo Eulerizado (arestas duplicadas em vermelho)\")\n",
    "plt.show()"
   ]
  },
  {
   "cell_type": "markdown",
   "id": "0829c1dc",
   "metadata": {},
   "source": [
    "## Passo 5: Encontrando o ciclo euleriano no grafo eulerizado\n",
    "\n",
    "Agora, todos os vértices têm grau par. Vamos encontrar e exibir o ciclo euleriano."
   ]
  },
  {
   "cell_type": "code",
   "execution_count": 6,
   "id": "833a7839",
   "metadata": {},
   "outputs": [
    {
     "name": "stdout",
     "output_type": "stream",
     "text": [
      "O grafo eulerizado não é euleriano. Algo deu errado.\n"
     ]
    }
   ],
   "source": [
    "if nx.is_eulerian(Ge):\n",
    "    ciclo = list(nx.eulerian_circuit(Ge))\n",
    "    print(\"Ciclo Euleriano encontrado (ordem das arestas):\", ciclo)\n",
    "    # Visualizando o ciclo passo a passo\n",
    "    caminho = []\n",
    "    for idx, (u, v) in enumerate(ciclo):\n",
    "        caminho.append((u, v))\n",
    "        edge_colors = []\n",
    "        for edge in Ge.edges():\n",
    "            if edge in caminho or (edge[1], edge[0]) in caminho:\n",
    "                edge_colors.append('red')\n",
    "            else:\n",
    "                edge_colors.append('gray')\n",
    "        plt.figure(figsize=(5,4))\n",
    "        nx.draw(Ge, pos, with_labels=True, node_color='lightyellow', edge_color=edge_colors, width=2)\n",
    "        plt.title(f\"Passo {idx+1}: Percorrendo {u} → {v}\")\n",
    "        plt.show()\n",
    "        print(f\"Passo {idx+1}: Percorrendo {u} → {v}\")\n",
    "else:\n",
    "    print(\"O grafo eulerizado não é euleriano. Algo deu errado.\")"
   ]
  },
  {
   "cell_type": "markdown",
   "id": "79551909",
   "metadata": {},
   "source": [
    "## ✅ Resumo\n",
    "\n",
    "- Identificamos os vértices de grau ímpar.\n",
    "- Calculamos os caminhos mínimos entre eles.\n",
    "- Encontramos o emparelhamento de menor custo e duplicamos os caminhos.\n",
    "- Eulerizamos o grafo e encontramos o ciclo euleriano de custo mínimo.\n",
    "\n",
    "**Dúvidas? Pergunte!**"
   ]
  }
 ],
 "metadata": {
  "kernelspec": {
   "display_name": ".venv",
   "language": "python",
   "name": "python3"
  },
  "language_info": {
   "codemirror_mode": {
    "name": "ipython",
    "version": 3
   },
   "file_extension": ".py",
   "mimetype": "text/x-python",
   "name": "python",
   "nbconvert_exporter": "python",
   "pygments_lexer": "ipython3",
   "version": "3.13.3"
  }
 },
 "nbformat": 4,
 "nbformat_minor": 5
}
