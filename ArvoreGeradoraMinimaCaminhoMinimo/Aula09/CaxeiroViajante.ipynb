{
 "cells": [
  {
   "cell_type": "markdown",
   "id": "22c6ba42",
   "metadata": {},
   "source": [
    "# 🧳 Problema do Caixeiro Viajante (TSP)\n",
    "\n",
    "O TSP (Travelling Salesman Problem) é um dos problemas mais estudados em ciência da computação e otimização. O objetivo é encontrar o menor ciclo que passe por todas as cidades exatamente uma vez e retorne ao ponto de partida.\n",
    "\n",
    "- Cada cidade é um vértice.\n",
    "- Cada caminho entre cidades tem um custo (distância, tempo, etc).\n",
    "- O desafio é encontrar o ciclo hamiltoniano de menor custo.\n"
   ]
  },
  {
   "cell_type": "markdown",
   "id": "4c99fca0",
   "metadata": {},
   "source": [
    "## ❓ Por que o TSP é importante?\n",
    "\n",
    "O TSP aparece em logística, planejamento de rotas, fabricação, robótica, genética, entre outros. Apesar de simples de enunciar, é um problema NP-difícil: não existe algoritmo eficiente conhecido para grandes instâncias."
   ]
  },
  {
   "cell_type": "markdown",
   "id": "2424cae2",
   "metadata": {},
   "source": [
    "## 🔎 Métodos para Resolver o TSP\n",
    "\n",
    "Existem abordagens exatas (garantem o ótimo) e heurísticas (buscam boas soluções rapidamente).\n"
   ]
  },
  {
   "cell_type": "markdown",
   "id": "f95a28e7",
   "metadata": {},
   "source": [
    "### 💡 Algoritmo Força Bruta (Exato)\n",
    "\n",
    "Testa todos os caminhos possíveis. Garante a solução ótima, mas é inviável para muitos vértices (complexidade O(n!)).\n",
    "\n",
    "**Como funciona:**\n",
    "1. Liste todas as permutações das cidades.\n",
    "2. Calcule o custo de cada ciclo.\n",
    "3. Escolha o de menor custo.\n"
   ]
  },
  {
   "cell_type": "code",
   "execution_count": null,
   "id": "6801d72c",
   "metadata": {},
   "outputs": [],
   "source": [
    "import itertools\n",
    "\n",
    "def tsp_brute_force(graph, start):\n",
    "    n = len(graph)\n",
    "    vertices = list(range(n))\n",
    "    vertices.remove(start)\n",
    "    min_path = None\n",
    "    min_cost = float('inf')\n",
    "    for perm in itertools.permutations(vertices):\n",
    "        cost = 0\n",
    "        k = start\n",
    "        for j in perm:\n",
    "            cost += graph[k][j]\n",
    "            k = j\n",
    "        cost += graph[k][start]\n",
    "        if cost < min_cost:\n",
    "            min_cost = cost\n",
    "            min_path = (start,) + perm + (start,)\n",
    "    return min_path, min_cost\n",
    "\n",
    "# Exemplo\n",
    "graph = [\n",
    "    [0, 2, 9, 10, 7],\n",
    "    [1, 0, 6, 4, 3],\n",
    "    [15, 7, 0, 8, 3],\n",
    "    [6, 3, 12, 0, 11],\n",
    "    [9, 7, 5, 6, 0]\n",
    "]\n",
    "path, cost = tsp_brute_force(graph, 0)\n",
    "print(\"Melhor ciclo:\", path)\n",
    "print(\"Custo:\", cost)"
   ]
  },
  {
   "cell_type": "markdown",
   "id": "f48d8eb9",
   "metadata": {},
   "source": [
    "### 🚴‍♂️ Heurística do Vizinho Mais Próximo (Aproximação Rápida)\n",
    "\n",
    "Constrói o ciclo escolhendo sempre a cidade mais próxima ainda não visitada. É simples e rápido, mas pode não encontrar o ótimo.\n",
    "\n",
    "**Como funciona:**\n",
    "1. Comece em uma cidade.\n",
    "2. Vá sempre para a cidade mais próxima ainda não visitada.\n",
    "3. Repita até visitar todas.\n",
    "4. Retorne ao início.\n"
   ]
  },
  {
   "cell_type": "code",
   "execution_count": null,
   "id": "b38a1e17",
   "metadata": {},
   "outputs": [],
   "source": [
    "def tsp_nearest_neighbor(graph, start):\n",
    "    n = len(graph)\n",
    "    visited = [False] * n\n",
    "    path = [start]\n",
    "    total_cost = 0\n",
    "    current = start\n",
    "    visited[current] = True\n",
    "    for _ in range(n - 1):\n",
    "        next_city = None\n",
    "        min_cost = float('inf')\n",
    "        for j in range(n):\n",
    "            if not visited[j] and 0 < graph[current][j] < min_cost:\n",
    "                min_cost = graph[current][j]\n",
    "                next_city = j\n",
    "        path.append(next_city)\n",
    "        visited[next_city] = True\n",
    "        total_cost += min_cost\n",
    "        current = next_city\n",
    "    total_cost += graph[current][start]\n",
    "    path.append(start)\n",
    "    return path, total_cost\n",
    "\n",
    "# Exemplo\n",
    "path_nn, cost_nn = tsp_nearest_neighbor(graph, 0)\n",
    "print(\"Ciclo pelo vizinho mais próximo:\", path_nn)\n",
    "print(\"Custo:\", cost_nn)"
   ]
  },
  {
   "cell_type": "markdown",
   "id": "e282ef1c",
   "metadata": {},
   "source": [
    "### 🏗️ Heurística da Desigualdade do Triângulo (Aproximação com Garantia)\n",
    "\n",
    "Se o grafo satisfaz a desigualdade do triângulo (o caminho direto nunca é maior que qualquer caminho indireto), é possível garantir uma solução com custo no máximo o dobro do ótimo.\n",
    "\n",
    "**Passos:**\n",
    "1. Encontre uma árvore geradora mínima (MST).\n",
    "2. Duplique as arestas da MST para criar um grafo euleriano.\n",
    "3. Encontre um ciclo euleriano.\n",
    "4. Transforme em ciclo hamiltoniano usando atalhos (pule cidades já visitadas).\n"
   ]
  },
  {
   "cell_type": "code",
   "execution_count": null,
   "id": "7a299c62",
   "metadata": {},
   "outputs": [],
   "source": [
    "import networkx as nx\n",
    "\n",
    "def tsp_triangle_heuristic(graph):\n",
    "    n = len(graph)\n",
    "    G = nx.Graph()\n",
    "    for i in range(n):\n",
    "        for j in range(i+1, n):\n",
    "            G.add_edge(i, j, weight=graph[i][j])\n",
    "    mst = nx.minimum_spanning_tree(G)\n",
    "    eulerian_circuit = list(nx.eulerian_circuit(nx.MultiGraph(mst).to_directed()))\n",
    "    path = []\n",
    "    visited = set()\n",
    "    for u, v in eulerian_circuit:\n",
    "        if u not in visited:\n",
    "            path.append(u)\n",
    "            visited.add(u)\n",
    "    path.append(path[0])\n",
    "    cost = sum(graph[path[i]][path[i+1]] for i in range(len(path)-1))\n",
    "    return path, cost\n",
    "\n",
    "# Exemplo\n",
    "path_tri, cost_tri = tsp_triangle_heuristic(graph)\n",
    "print(\"Ciclo pela heurística da desigualdade do triângulo:\", path_tri)\n",
    "print(\"Custo:\", cost_tri)"
   ]
  },
  {
   "cell_type": "markdown",
   "id": "2d24aa7c",
   "metadata": {},
   "source": [
    "### 🧮 Algoritmo Métrico do Caixeiro Viajante (Aproximação 2-Ótima)\n",
    "\n",
    "Esse algoritmo segue os passos da heurística anterior, mas é conhecido como algoritmo de Christofides quando implementa também o emparelhamento mínimo de vértices de grau ímpar (não incluído aqui para simplificação).\n",
    "\n",
    "**Resumo dos passos:**\n",
    "1. Árvore geradora mínima.\n",
    "2. Duplica arestas para obter grafo euleriano.\n",
    "3. Percorre ciclo euleriano.\n",
    "4. Usa atalhos para obter ciclo hamiltoniano.\n"
   ]
  },
  {
   "cell_type": "code",
   "execution_count": null,
   "id": "e2d8f2d0",
   "metadata": {},
   "outputs": [],
   "source": [
    "def tsp_metric_algorithm(graph, start=0):\n",
    "    n = len(graph)\n",
    "    G = nx.Graph()\n",
    "    for i in range(n):\n",
    "        for j in range(i+1, n):\n",
    "            G.add_edge(i, j, weight=graph[i][j])\n",
    "    mst = nx.minimum_spanning_tree(G)\n",
    "    multigraph = nx.MultiGraph()\n",
    "    multigraph.add_nodes_from(mst.nodes)\n",
    "    for u, v, data in mst.edges(data=True):\n",
    "        multigraph.add_edge(u, v, weight=data['weight'])\n",
    "        multigraph.add_edge(u, v, weight=data['weight'])\n",
    "    euler_circuit = list(nx.eulerian_circuit(multigraph, source=start))\n",
    "    hamiltonian_path = []\n",
    "    visited = set()\n",
    "    for u, v in euler_circuit:\n",
    "        if u not in visited:\n",
    "            hamiltonian_path.append(u)\n",
    "            visited.add(u)\n",
    "    hamiltonian_path.append(hamiltonian_path[0])\n",
    "    total_cost = sum(graph[hamiltonian_path[i]][hamiltonian_path[i+1]] for i in range(len(hamiltonian_path)-1))\n",
    "    return hamiltonian_path, total_cost\n",
    "\n",
    "# Exemplo\n",
    "path_metric, cost_metric = tsp_metric_algorithm(graph, start=0)\n",
    "print(\"Ciclo hamiltoniano pelo algoritmo métrico:\", path_metric)\n",
    "print(\"Custo:\", cost_metric)"
   ]
  },
  {
   "cell_type": "markdown",
   "id": "e4b01bc3",
   "metadata": {},
   "source": [
    "## 🚚 Aplicações Práticas\n",
    "\n",
    "- **Logística e transporte:** roteirização de entregas, coleta de lixo, ônibus escolares.\n",
    "- **Fabricação:** perfuração de placas de circuito, corte de materiais.\n",
    "- **Robótica:** planejamento de rotas de inspeção.\n",
    "- **Ciência:** programação de observações astronômicas, sequenciamento genético.\n",
    "\n",
    "O TSP é um modelo central para muitos problemas reais de otimização!"
   ]
  }
 ],
 "metadata": {
  "language_info": {
   "name": "python"
  }
 },
 "nbformat": 4,
 "nbformat_minor": 5
}
