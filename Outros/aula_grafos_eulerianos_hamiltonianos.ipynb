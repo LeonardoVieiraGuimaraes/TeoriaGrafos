{
 "cells": [
  {
   "cell_type": "markdown",
   "id": "eda541bf",
   "metadata": {},
   "source": [
    "# 🧑‍🏫 Aula: Grafos Eulerianos e Hamiltonianos"
   ]
  },
  {
   "cell_type": "markdown",
   "id": "76f6235b",
   "metadata": {},
   "source": [
    "## 📚 Introdução\n",
    "\n",
    "Nesta aula, vamos estudar dois tipos fundamentais de grafos: **Eulerianos** e **Hamiltonianos**. Eles têm aplicações em roteirização, jogos, redes e problemas clássicos da matemática."
   ]
  },
  {
   "cell_type": "markdown",
   "id": "32e97640",
   "metadata": {},
   "source": [
    "## 🔗 O que é um Grafo?\n",
    "\n",
    "Um **grafo** é uma estrutura composta por vértices (nós) e arestas (ligações entre pares de vértices).\n",
    "\n",
    "- **Vértices (nós):** Pontos do grafo.\n",
    "- **Arestas:** Conexões entre os vértices.\n",
    "\n",
    "### Definição Matemática\n",
    "\n",
    "$$\n",
    "G = (V, E)\n",
    "$$\n",
    "\n",
    "- $V$ = conjunto de vértices\n",
    "- $E$ = conjunto de arestas (pares de vértices)"
   ]
  },
  {
   "cell_type": "markdown",
   "id": "5021b764",
   "metadata": {},
   "source": [
    "## 🌉 Grafos Eulerianos\n",
    "\n",
    "### Definição\n",
    "\n",
    "Um **grafo euleriano** possui um ciclo fechado que percorre todas as arestas exatamente uma vez.\n",
    "\n",
    "- **Caminho euleriano:** percorre todas as arestas uma única vez (não precisa ser fechado).\n",
    "- **Ciclo euleriano:** começa e termina no mesmo vértice.\n",
    "\n",
    "### Teorema de Euler\n",
    "\n",
    "> Um grafo conexo é euleriano se, e somente se, todos os seus vértices têm grau par.\n",
    "\n",
    "### Exemplo prático: Grafo Euleriano\n"
   ]
  },
  {
   "cell_type": "code",
   "execution_count": 1,
   "id": "12e29994",
   "metadata": {},
   "outputs": [
    {
     "name": "stdout",
     "output_type": "stream",
     "text": [
      "Arestas do grafo: [('a', 'b'), ('a', 'd'), ('a', 'c'), ('b', 'c'), ('b', 'd'), ('c', 'd')]\n",
      "O grafo é Euleriano? False\n",
      "Não existe ciclo Euleriano neste grafo.\n"
     ]
    },
    {
     "name": "stderr",
     "output_type": "stream",
     "text": [
      "d:\\GitHub\\NewtonPaiva\\TeoriaGrafos\\.venv\\Lib\\site-packages\\IPython\\core\\pylabtools.py:170: UserWarning: Glyph 127753 (\\N{BRIDGE AT NIGHT}) missing from font(s) DejaVu Sans.\n",
      "  fig.canvas.print_figure(bytes_io, **kw)\n"
     ]
    },
    {
     "data": {
      "image/png": "[encoded data removed]",
      "text/plain": [
       "<Figure size 640x480 with 1 Axes>"
      ]
     },
     "metadata": {},
     "output_type": "display_data"
    }
   ],
   "source": [
    "import networkx as nx\n",
    "import matplotlib.pyplot as plt\n",
    "\n",
    "# Criando um grafo euleriano\n",
    "G = nx.Graph()\n",
    "edges = [('a', 'b'), ('b', 'c'), ('c', 'd'), ('d', 'a'), ('a', 'c'), ('b', 'd')]\n",
    "G.add_edges_from(edges)\n",
    "print(\"Arestas do grafo:\", G.edges())\n",
    "\n",
    "# Verificando se é Euleriano\n",
    "print(\"O grafo é Euleriano?\", nx.is_eulerian(G))\n",
    "\n",
    "# Encontrando ciclo Euleriano (se existir)\n",
    "if nx.is_eulerian(G):\n",
    "    ciclo = list(nx.eulerian_circuit(G))\n",
    "    print(\"Ciclo Euleriano encontrado:\", ciclo)\n",
    "else:\n",
    "    print(\"Não existe ciclo Euleriano neste grafo.\")\n",
    "\n",
    "# Plotando o grafo\n",
    "pos = nx.circular_layout(G)\n",
    "nx.draw(G, pos, with_labels=True, node_color='lightblue', edge_color='gray')\n",
    "plt.title(\"🌉 Grafo Euleriano\")\n",
    "plt.show()"
   ]
  },
  {
   "cell_type": "markdown",
   "id": "5d41eea2",
   "metadata": {},
   "source": [
    "## 📝 Passos para identificar um grafo Euleriano\n",
    "\n",
    "1. Calcule o grau de cada vértice.\n",
    "2. Verifique se todos os vértices têm grau par.\n",
    "3. O grafo deve ser conexo.\n",
    "\n",
    "Se todas as condições forem satisfeitas, o grafo é Euleriano."
   ]
  },
  {
   "cell_type": "markdown",
   "id": "5de58230",
   "metadata": {},
   "source": [
    "## 🔄 Algoritmo de Fleury (Exemplo)\n",
    "\n",
    "O Algoritmo de Fleury encontra um caminho ou ciclo Euleriano evitando pontes sempre que possível.\n"
   ]
  },
  {
   "cell_type": "code",
   "execution_count": 2,
   "id": "23ba452e",
   "metadata": {},
   "outputs": [
    {
     "name": "stdout",
     "output_type": "stream",
     "text": [
      "Caminho Euleriano pelo algoritmo de Fleury: None\n"
     ]
    }
   ],
   "source": [
    "import networkx as nx\n",
    "\n",
    "def fleury_algorithm(G, start=None):\n",
    "    if not nx.is_eulerian(G) and not nx.has_eulerian_path(G):\n",
    "        return None\n",
    "\n",
    "    G = G.copy()\n",
    "    if start is None:\n",
    "        start = list(G.nodes())[0]\n",
    "    path = [start]\n",
    "    u = start\n",
    "\n",
    "    while G.edges(u):\n",
    "        for v in list(G.neighbors(u)):\n",
    "            # Verifica se a aresta é ponte\n",
    "            G.remove_edge(u, v)\n",
    "            is_bridge = not nx.is_connected(G)\n",
    "            G.add_edge(u, v)\n",
    "            if not is_bridge or len(G.edges(u)) == 1:\n",
    "                path.append(v)\n",
    "                G.remove_edge(u, v)\n",
    "                u = v\n",
    "                print(f\"Passo: {path}\")\n",
    "                break\n",
    "    return path\n",
    "\n",
    "# Exemplo de uso\n",
    "G = nx.Graph()\n",
    "edges = [('a', 'b'), ('b', 'c'), ('c', 'd'), ('d', 'a'), ('a', 'c'), ('b', 'd')]\n",
    "G.add_edges_from(edges)\n",
    "print(\"Caminho Euleriano pelo algoritmo de Fleury:\", fleury_algorithm(G, start='a'))"
   ]
  },
  {
   "cell_type": "markdown",
   "id": "88b911ae",
   "metadata": {},
   "source": [
    "## 🧭 Grafos Hamiltonianos\n",
    "\n",
    "### Definição\n",
    "\n",
    "Um **grafo hamiltoniano** possui um ciclo fechado que passa por todos os vértices exatamente uma vez.\n",
    "\n",
    "- **Caminho hamiltoniano:** passa por todos os vértices uma única vez (não precisa ser fechado).\n",
    "- **Ciclo hamiltoniano:** começa e termina no mesmo vértice.\n",
    "\n",
    "### Teorema de Dirac\n",
    "\n",
    "> Se um grafo simples com $n \\geq 3$ vértices tem grau de cada vértice maior ou igual a $n/2$, então ele é hamiltoniano.\n",
    "\n",
    "### Exemplo prático: Grafo Hamiltoniano\n"
   ]
  },
  {
   "cell_type": "code",
   "execution_count": 3,
   "id": "bf16d4ad",
   "metadata": {},
   "outputs": [
    {
     "name": "stdout",
     "output_type": "stream",
     "text": [
      "Arestas do grafo: [(0, 1), (0, 4), (1, 2), (2, 3), (3, 4)]\n",
      "Passo: [0, 1, 2, 3, 4]\n",
      "Passo: [0, 1, 2, 3]\n",
      "Passo: [0, 1, 2]\n",
      "Passo: [0, 1]\n",
      "Ciclo Hamiltoniano: [0, 1, 2, 3, 4, 0]\n"
     ]
    },
    {
     "name": "stderr",
     "output_type": "stream",
     "text": [
      "d:\\GitHub\\NewtonPaiva\\TeoriaGrafos\\.venv\\Lib\\site-packages\\IPython\\core\\pylabtools.py:170: UserWarning: Glyph 129517 (\\N{COMPASS}) missing from font(s) DejaVu Sans.\n",
      "  fig.canvas.print_figure(bytes_io, **kw)\n"
     ]
    },
    {
     "data": {
      "image/png": "[encoded data removed]",
      "text/plain": [
       "<Figure size 640x480 with 1 Axes>"
      ]
     },
     "metadata": {},
     "output_type": "display_data"
    }
   ],
   "source": [
    "import networkx as nx\n",
    "import matplotlib.pyplot as plt\n",
    "\n",
    "# Criando um grafo hamiltoniano (ciclo simples)\n",
    "H = nx.cycle_graph(5)\n",
    "print(\"Arestas do grafo:\", H.edges())\n",
    "\n",
    "# Função para encontrar ciclo hamiltoniano (força bruta)\n",
    "def hamiltonian_path(G, path=[]):\n",
    "    if not path:\n",
    "        path = [list(G.nodes)[0]]\n",
    "    if len(path) == len(G):\n",
    "        if G.has_edge(path[0], path[-1]):\n",
    "            return path + [path[0]]\n",
    "        else:\n",
    "            return None\n",
    "    for v in set(G.nodes) - set(path):\n",
    "        if G.has_edge(path[-1], v):\n",
    "            res = hamiltonian_path(G, path + [v])\n",
    "            if res:\n",
    "                print(f\"Passo: {path + [v]}\")\n",
    "                return res\n",
    "    return None\n",
    "\n",
    "ciclo = hamiltonian_path(H)\n",
    "print(\"Ciclo Hamiltoniano:\", ciclo)\n",
    "\n",
    "# Plotando o grafo\n",
    "nx.draw_circular(H, with_labels=True, node_color='lightgreen', edge_color='gray')\n",
    "plt.title(\"🧭 Grafo Hamiltoniano\")\n",
    "plt.show()"
   ]
  },
  {
   "cell_type": "markdown",
   "id": "09a6d701",
   "metadata": {},
   "source": [
    "## 📝 Passos para identificar um grafo Hamiltoniano\n",
    "\n",
    "1. Verifique se o grafo é conexo.\n",
    "2. Tente construir um ciclo que passe por todos os vértices uma única vez.\n",
    "3. Use teoremas como o de Dirac ou Ore para condições suficientes.\n",
    "\n",
    "Encontrar ciclos Hamiltonianos é difícil em geral (problema NP-completo)."
   ]
  },
  {
   "cell_type": "markdown",
   "id": "be1af61a",
   "metadata": {},
   "source": [
    "## 🏁 Resumo\n",
    "\n",
    "- **Euleriano:** percorre todas as arestas uma vez.\n",
    "- **Hamiltoniano:** percorre todos os vértices uma vez.\n",
    "- NetworkX facilita a verificação e visualização desses conceitos.\n",
    "\n",
    "---"
   ]
  }
 ],
 "metadata": {
  "kernelspec": {
   "display_name": ".venv",
   "language": "python",
   "name": "python3"
  },
  "language_info": {
   "codemirror_mode": {
    "name": "ipython",
    "version": 3
   },
   "file_extension": ".py",
   "mimetype": "text/x-python",
   "name": "python",
   "nbconvert_exporter": "python",
   "pygments_lexer": "ipython3",
   "version": "3.13.3"
  }
 },
 "nbformat": 4,
 "nbformat_minor": 5
}
