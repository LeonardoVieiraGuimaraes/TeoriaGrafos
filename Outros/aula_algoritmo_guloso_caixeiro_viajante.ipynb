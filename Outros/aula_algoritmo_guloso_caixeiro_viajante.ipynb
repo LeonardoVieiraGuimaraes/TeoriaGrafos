{
 "cells": [
  {
   "cell_type": "markdown",
   "id": "1d385754",
   "metadata": {},
   "source": [
    "# Algoritmo Guloso e o Problema do Caixeiro Viajante (TSP)\n",
    "\n",
    "## Introdução\n",
    "\n",
    "Neste notebook, vamos explorar o algoritmo guloso e sua aplicação ao Problema do Caixeiro Viajante (TSP) usando a biblioteca NetworkX."
   ]
  },
  {
   "cell_type": "markdown",
   "id": "b8632a6d",
   "metadata": {},
   "source": [
    "## O que é um Algoritmo Guloso?\n",
    "\n",
    "Um algoritmo guloso faz escolhas locais ótimas em cada etapa, esperando encontrar uma solução globalmente ótima. Para o TSP, a heurística mais comum é o **vizinho mais próximo**."
   ]
  },
  {
   "cell_type": "markdown",
   "id": "85f3d291",
   "metadata": {},
   "source": [
    "## Exemplo prático com NetworkX\n",
    "\n",
    "Vamos criar um grafo de cidades e aplicar o algoritmo guloso do vizinho mais próximo."
   ]
  },
  {
   "cell_type": "code",
   "execution_count": null,
   "id": "b0a8a84c",
   "metadata": {},
   "outputs": [],
   "source": [
    "# Instale o NetworkX se necessário\n",
    "# !pip install networkx matplotlib\n",
    "import networkx as nx\n",
    "import matplotlib.pyplot as plt"
   ]
  },
  {
   "cell_type": "code",
   "execution_count": null,
   "id": "ba2ccf1a",
   "metadata": {},
   "outputs": [],
   "source": [
    "# Criando o grafo com as cidades e distâncias do exemplo\n",
    "G = nx.Graph()\n",
    "edges = [\n",
    "    ('A', 'B', 2),\n",
    "    ('A', 'C', 9),\n",
    "    ('A', 'D', 10),\n",
    "    ('B', 'C', 6),\n",
    "    ('B', 'D', 4),\n",
    "    ('C', 'D', 8)\n",
    "]\n",
    "G.add_weighted_edges_from(edges)\n",
    "\n",
    "# Desenhar o grafo\n",
    "pos = nx.spring_layout(G, seed=42)\n",
    "nx.draw(G, pos, with_labels=True, node_color='lightblue', node_size=800)\n",
    "labels = nx.get_edge_attributes(G, 'weight')\n",
    "nx.draw_networkx_edge_labels(G, pos, edge_labels=labels)\n",
    "plt.title('Grafo das cidades e distâncias')\n",
    "plt.show()"
   ]
  },
  {
   "cell_type": "markdown",
   "id": "a53afa08",
   "metadata": {},
   "source": [
    "## Algoritmo Guloso: Vizinho Mais Próximo\n",
    "\n",
    "Implementação simples para encontrar um caminho usando a heurística do vizinho mais próximo."
   ]
  },
  {
   "cell_type": "code",
   "execution_count": null,
   "id": "3d1fd727",
   "metadata": {},
   "outputs": [],
   "source": [
    "def tsp_vizinho_mais_proximo(G, inicio):\n",
    "    caminho = [inicio]\n",
    "    visitados = set(caminho)\n",
    "    atual = inicio\n",
    "    total = 0\n",
    "    while len(visitados) < len(G.nodes):\n",
    "        vizinhos = [(viz, G[atual][viz]['weight']) for viz in G.neighbors(atual) if viz not in visitados]\n",
    "        if not vizinhos:\n",
    "            break\n",
    "        prox, peso = min(vizinhos, key=lambda x: x[1])\n",
    "        caminho.append(prox)\n",
    "        visitados.add(prox)\n",
    "        total += peso\n",
    "        atual = prox\n",
    "    # Retorna ao início\n",
    "    if inicio in G[atual]:\n",
    "        caminho.append(inicio)\n",
    "        total += G[atual][inicio]['weight']\n",
    "    return caminho, total"
   ]
  },
  {
   "cell_type": "code",
   "execution_count": null,
   "id": "ae1cdf85",
   "metadata": {},
   "outputs": [],
   "source": [
    "# Executando o algoritmo a partir da cidade 'A'\n",
    "caminho, distancia = tsp_vizinho_mais_proximo(G, 'A')\n",
    "print('Caminho encontrado:', ' → '.join(caminho))\n",
    "print('Distância total:', distancia)"
   ]
  },
  {
   "cell_type": "markdown",
   "id": "54001544",
   "metadata": {},
   "source": [
    "## Visualizando o caminho encontrado"
   ]
  },
  {
   "cell_type": "code",
   "execution_count": null,
   "id": "1fd49bf6",
   "metadata": {},
   "outputs": [],
   "source": [
    "edge_path = list(zip(caminho, caminho[1:]))\n",
    "plt.figure(figsize=(8,6))\n",
    "nx.draw(G, pos, with_labels=True, node_color='lightblue', node_size=800)\n",
    "nx.draw_networkx_edges(G, pos, edgelist=edge_path, edge_color='red', width=2)\n",
    "nx.draw_networkx_edge_labels(G, pos, edge_labels=labels)\n",
    "plt.title('Caminho do Caixeiro Viajante (Guloso)')\n",
    "plt.show()"
   ]
  },
  {
   "cell_type": "markdown",
   "id": "d3a3a1a4",
   "metadata": {},
   "source": [
    "## Conclusão\n",
    "\n",
    "- O algoritmo guloso é simples e rápido, mas não garante a solução ótima.\n",
    "- Para instâncias pequenas, pode ser suficiente.\n",
    "- Para problemas maiores, heurísticas mais sofisticadas podem ser necessárias."
   ]
  }
 ],
 "metadata": {
  "language_info": {
   "name": "python"
  }
 },
 "nbformat": 4,
 "nbformat_minor": 5
}
