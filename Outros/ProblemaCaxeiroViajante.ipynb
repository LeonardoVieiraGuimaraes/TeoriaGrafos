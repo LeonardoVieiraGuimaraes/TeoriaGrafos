{
 "cells": [
  {
   "cell_type": "markdown",
   "id": "1bb161e5",
   "metadata": {},
   "source": [
    "# 7.3 Problema do Caixeiro Viajante\n",
    "\n",
    "O problema do caixeiro viajante é um dos mais famosos da computação e da pesquisa operacional. O objetivo é encontrar o ciclo hamiltoniano de menor custo em um grafo completo valorado, onde os vértices representam cidades e as arestas representam o custo de viagem entre elas."
   ]
  },
  {
   "cell_type": "markdown",
   "id": "c928fc5f",
   "metadata": {},
   "source": [
    "## 7.3.1 Algoritmo Força Bruta\n",
    "\n",
    "O algoritmo força bruta consiste em enumerar todos os ciclos hamiltonianos possíveis e escolher aquele com menor custo. Apesar de garantir a solução ótima, é inviável para grafos com muitos vértices devido à explosão combinatória (complexidade O(n!))."
   ]
  },
  {
   "cell_type": "code",
   "execution_count": null,
   "id": "18ff7d1a",
   "metadata": {},
   "outputs": [],
   "source": [
    "import itertools\n",
    "\n",
    "def tsp_brute_force(graph, start):\n",
    "    n = len(graph)\n",
    "    vertices = list(range(n))\n",
    "    vertices.remove(start)\n",
    "    min_path = None\n",
    "    min_cost = float('inf')\n",
    "    for perm in itertools.permutations(vertices):\n",
    "        cost = 0\n",
    "        k = start\n",
    "        for j in perm:\n",
    "            cost += graph[k][j]\n",
    "            k = j\n",
    "        cost += graph[k][start]\n",
    "        if cost < min_cost:\n",
    "            min_cost = cost\n",
    "            min_path = (start,) + perm + (start,)\n",
    "    return min_path, min_cost\n",
    "\n",
    "# Exemplo de uso:\n",
    "# Matriz de adjacência para 5 cidades\n",
    "graph = [\n",
    "    [0, 2, 9, 10, 7],\n",
    "    [1, 0, 6, 4, 3],\n",
    "    [15, 7, 0, 8, 3],\n",
    "    [6, 3, 12, 0, 11],\n",
    "    [9, 7, 5, 6, 0]\n",
    "]\n",
    "path, cost = tsp_brute_force(graph, 0)\n",
    "print(\"Melhor ciclo:\", path)\n",
    "print(\"Custo:\", cost)"
   ]
  },
  {
   "cell_type": "markdown",
   "id": "db1ba4a0",
   "metadata": {},
   "source": [
    "## 7.3.2 Heurística do Vizinho Mais Próximo\n",
    "\n",
    "A heurística do vizinho mais próximo constrói um ciclo hamiltoniano escolhendo sempre a aresta de menor custo para um vértice ainda não visitado. É rápida, mas não garante solução ótima."
   ]
  },
  {
   "cell_type": "code",
   "execution_count": null,
   "id": "41cdfbec",
   "metadata": {},
   "outputs": [],
   "source": [
    "def tsp_nearest_neighbor(graph, start):\n",
    "    n = len(graph)\n",
    "    visited = [False] * n\n",
    "    path = [start]\n",
    "    total_cost = 0\n",
    "    current = start\n",
    "    visited[current] = True\n",
    "    for _ in range(n - 1):\n",
    "        next_city = None\n",
    "        min_cost = float('inf')\n",
    "        for j in range(n):\n",
    "            if not visited[j] and 0 < graph[current][j] < min_cost:\n",
    "                min_cost = graph[current][j]\n",
    "                next_city = j\n",
    "        path.append(next_city)\n",
    "        visited[next_city] = True\n",
    "        total_cost += min_cost\n",
    "        current = next_city\n",
    "    total_cost += graph[current][start]\n",
    "    path.append(start)\n",
    "    return path, total_cost\n",
    "\n",
    "# Exemplo de uso:\n",
    "path_nn, cost_nn = tsp_nearest_neighbor(graph, 0)\n",
    "print(\"Ciclo pelo vizinho mais próximo:\", path_nn)\n",
    "print(\"Custo:\", cost_nn)"
   ]
  },
  {
   "cell_type": "markdown",
   "id": "db41d2ff",
   "metadata": {},
   "source": [
    "## 7.3.3 Heurística da Desigualdade do Triângulo\n",
    "\n",
    "Para grafos que satisfazem a desigualdade do triângulo, é possível obter uma solução com custo no máximo o dobro do ótimo usando uma abordagem baseada em árvore geradora mínima e percurso Euleriano.\n",
    "\n",
    "A seguir, um exemplo simplificado dessa heurística:"
   ]
  },
  {
   "cell_type": "code",
   "execution_count": null,
   "id": "64c80568",
   "metadata": {},
   "outputs": [],
   "source": [
    "import networkx as nx\n",
    "\n",
    "def tsp_triangle_heuristic(graph):\n",
    "    n = len(graph)\n",
    "    G = nx.Graph()\n",
    "    for i in range(n):\n",
    "        for j in range(i+1, n):\n",
    "            G.add_edge(i, j, weight=graph[i][j])\n",
    "    mst = nx.minimum_spanning_tree(G)\n",
    "    eulerian_circuit = list(nx.eulerian_circuit(nx.MultiGraph(mst).to_directed()))\n",
    "    path = []\n",
    "    visited = set()\n",
    "    for u, v in eulerian_circuit:\n",
    "        if u not in visited:\n",
    "            path.append(u)\n",
    "            visited.add(u)\n",
    "    path.append(path[0])\n",
    "    cost = sum(graph[path[i]][path[i+1]] for i in range(len(path)-1))\n",
    "    return path, cost\n",
    "\n",
    "# Exemplo de uso:\n",
    "path_tri, cost_tri = tsp_triangle_heuristic(graph)\n",
    "print(\"Ciclo pela heurística da desigualdade do triângulo:\", path_tri)\n",
    "print(\"Custo:\", cost_tri)"
   ]
  },
  {
   "cell_type": "markdown",
   "id": "36f65ea3",
   "metadata": {},
   "source": [
    "### Passos do Algoritmo Métrico do Caixeiro Viajante\n",
    "\n",
    "**Entrada:** Um grafo completo valorado Kn que satisfaça a desigualdade do triângulo.\n",
    "\n",
    "**Passos:**\n",
    "1. Encontre uma árvore geradora de custo mínimo T do grafo Kn.\n",
    "2. Crie um grafo euleriano Gₑ duplicando todas as arestas de T.\n",
    "3. Encontre um ciclo euleriano W em Gₑ.\n",
    "4. Construa um ciclo hamiltoniano H em G a partir do ciclo W:\n",
    "   - Percorra a sequência de vértices de W.\n",
    "   - Sempre que encontrar um vértice já visitado, utilize um \"atalho\" para o próximo vértice não visitado.\n",
    "   - Continue até visitar todos os vértices, então feche o ciclo retornando ao inicial.\n",
    "\n",
    "**Saída:** Um ciclo hamiltoniano."
   ]
  },
  {
   "cell_type": "code",
   "execution_count": null,
   "id": "fdab008f",
   "metadata": {},
   "outputs": [],
   "source": [
    "import networkx as nx\n",
    "\n",
    "def tsp_metric_algorithm(graph, start=0):\n",
    "    n = len(graph)\n",
    "    G = nx.Graph()\n",
    "    for i in range(n):\n",
    "        for j in range(i+1, n):\n",
    "            G.add_edge(i, j, weight=graph[i][j])\n",
    "    # 1. Árvore geradora mínima\n",
    "    mst = nx.minimum_spanning_tree(G)\n",
    "    # 2. Duplicar arestas da árvore para criar grafo euleriano\n",
    "    multigraph = nx.MultiGraph()\n",
    "    multigraph.add_nodes_from(mst.nodes)\n",
    "    for u, v, data in mst.edges(data=True):\n",
    "        multigraph.add_edge(u, v, weight=data['weight'])\n",
    "        multigraph.add_edge(u, v, weight=data['weight'])\n",
    "    # 3. Encontrar ciclo euleriano\n",
    "    euler_circuit = list(nx.eulerian_circuit(multigraph, source=start))\n",
    "    # 4. Construir ciclo hamiltoniano usando atalhos\n",
    "    hamiltonian_path = []\n",
    "    visited = set()\n",
    "    for u, v in euler_circuit:\n",
    "        if u not in visited:\n",
    "            hamiltonian_path.append(u)\n",
    "            visited.add(u)\n",
    "    # Fechar o ciclo\n",
    "    hamiltonian_path.append(hamiltonian_path[0])\n",
    "    total_cost = sum(graph[hamiltonian_path[i]][hamiltonian_path[i+1]] for i in range(len(hamiltonian_path)-1))\n",
    "    return hamiltonian_path, total_cost\n",
    "\n",
    "# Exemplo de uso:\n",
    "path_metric, cost_metric = tsp_metric_algorithm(graph, start=0)\n",
    "print(\"Ciclo hamiltoniano pelo algoritmo métrico:\", path_metric)\n",
    "print(\"Custo:\", cost_metric)"
   ]
  },
  {
   "cell_type": "markdown",
   "id": "3ed07823",
   "metadata": {},
   "source": [
    "## 7.3.4 Aplicações do Problema do Caixeiro Viajante\n",
    "\n",
    "O problema do caixeiro viajante aparece naturalmente em diversas áreas, especialmente em transportes e logística, mas também em outros contextos devido à simplicidade do seu modelo. Exemplos de aplicações incluem:\n",
    "\n",
    "- **Programação de tarefas em série:** Dada uma sequência de tarefas a serem executadas por uma máquina, onde o tempo de preparação entre tarefas é relevante, o problema pode ser modelado como um ciclo hamiltoniano de custo mínimo em um grafo dirigido.\n",
    "\n",
    "- **Perfuração de placas:** Na fabricação de placas de circuito impresso, o deslocamento da broca entre furos pode ser modelado como um problema do caixeiro viajante, buscando minimizar o tempo total de deslocamento.\n",
    "\n",
    "- **Programação de satélites:** Em missões espaciais, como o Starlight Interferometer Program da NASA, o problema é utilizado para minimizar o uso de combustível ao manobrar satélites para observar diferentes objetos celestes.\n",
    "\n",
    "- **Programação de rota de entrega:** Muito comum em logística, onde pontos de entrega são vértices e as arestas representam o tempo ou distância entre eles. Um exemplo histórico é a programação de rotas de ônibus escolares, que motivou o estudo do problema.\n",
    "\n",
    "Essas aplicações mostram a versatilidade do problema do caixeiro viajante em diferentes áreas do conhecimento."
   ]
  }
 ],
 "metadata": {
  "language_info": {
   "name": "python"
  }
 },
 "nbformat": 4,
 "nbformat_minor": 5
}
